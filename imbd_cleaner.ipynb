{
 "cells": [
  {
   "cell_type": "code",
   "execution_count": 11,
   "metadata": {},
   "outputs": [],
   "source": [
    "import os\n",
    "from bs4 import BeautifulSoup\n",
    "import nltk\n",
    "from nltk.corpus import stopwords\n",
    "from string import punctuation\n",
    "stop_words = set(stopwords.words('english'))"
   ]
  },
  {
   "cell_type": "code",
   "execution_count": 12,
   "metadata": {},
   "outputs": [],
   "source": [
    "train_dict = {\"pos\":{\"text\":[], \"tokens\":[]}, \"neg\":{\"text\":[], \"tokens\":[]}}"
   ]
  },
  {
   "cell_type": "code",
   "execution_count": 13,
   "metadata": {},
   "outputs": [
    {
     "name": "stdout",
     "output_type": "stream",
     "text": [
      "termine estrazione categoria pos.\n",
      "termine estrazione categoria neg.\n"
     ]
    }
   ],
   "source": [
    "\n",
    "for text in os.listdir(\"imbd/train/pos\"):\n",
    "    with open(f\"imbd/train/pos/{text}\", \"r\", encoding=\"utf-8\") as file:\n",
    "        text_file = file.read()\n",
    "        train_dict[\"pos\"][\"text\"].append(text_file)\n",
    "\n",
    "print(\"termine estrazione categoria pos.\")\n",
    "\n",
    "for text in os.listdir(\"imbd/train/neg\"):\n",
    "    with open(f\"imbd/train/neg/{text}\", \"r\", encoding=\"utf-8\") as file:\n",
    "        text_file = file.read()\n",
    "        train_dict[\"neg\"][\"text\"].append(text_file)\n",
    "\n",
    "print(\"termine estrazione categoria neg.\")"
   ]
  },
  {
   "cell_type": "code",
   "execution_count": 14,
   "metadata": {},
   "outputs": [
    {
     "data": {
      "text/plain": [
       "'The plot for Descent, if it actually can be called a plot, has two noteworthy events. One near the beginning - one at the end. Together these events make up maybe 5% of the total movie time. Everything (and I mean _everything_) in between is basically the director\\'s desperate effort to fill in the minutes. I like disturbing movies, I like dark movies and I don\\'t get troubled by gritty scenes - but if you expect me to sit through 60 minutes of hazy/dark (literally) scenes with NO storyline you have another thing coming. Rosario Dawson, one of my favorite actresses is completely wasted here. And no, she doesn\\'t get naked, not even in the NC-17 version, which I saw.<br /><br />If you have a couple of hours to throw away and want to watch \"Descent\", take a nap instead - you\\'ll probably have more interesting dreams.'"
      ]
     },
     "execution_count": 14,
     "metadata": {},
     "output_type": "execute_result"
    }
   ],
   "source": [
    "train_dict[\"neg\"][\"text\"][1]"
   ]
  },
  {
   "cell_type": "code",
   "execution_count": 15,
   "metadata": {},
   "outputs": [
    {
     "name": "stderr",
     "output_type": "stream",
     "text": [
      "c:\\Users\\crist\\AppData\\Local\\Programs\\Python\\Python310\\lib\\site-packages\\bs4\\__init__.py:435: MarkupResemblesLocatorWarning: The input looks more like a filename than markup. You may want to open this file and pass the filehandle into Beautiful Soup.\n",
      "  warnings.warn(\n"
     ]
    },
    {
     "name": "stdout",
     "output_type": "stream",
     "text": [
      "Fine cleaning di pos\n",
      "Fine cleaning di neg\n"
     ]
    }
   ],
   "source": [
    "#removes html tags and tokenize/lemmatize\n",
    "\n",
    "lemmatizer = nltk.stem.WordNetLemmatizer()\n",
    "\n",
    "for sentiment in train_dict:\n",
    "    clean_texts = []\n",
    "    for text in train_dict[sentiment][\"text\"]:\n",
    "        soup = BeautifulSoup(text, \"html.parser\")\n",
    "        clean_text = soup.get_text()\n",
    "        tokens = nltk.tokenize.word_tokenize(clean_text)\n",
    "        lemmas = [lemmatizer.lemmatize(w.lower()) for w in tokens]\n",
    "        clean_tokens = [w for w in tokens if w not in stop_words and w not in punctuation and len(w)>2]\n",
    "        clean_texts.append(clean_text)\n",
    "        train_dict[sentiment][\"tokens\"].append(clean_tokens)\n",
    "\n",
    "    train_dict[sentiment][\"text\"] = clean_texts\n",
    "\n",
    "    print(f\"Fine cleaning di {sentiment}\")"
   ]
  },
  {
   "cell_type": "code",
   "execution_count": 9,
   "metadata": {},
   "outputs": [
    {
     "data": {
      "text/plain": [
       "\"First of all, I would like to say that I am a fan of all of the actors that appear in this film and at the time that I rented it, I wanted to like it.I think that the main reason that I was so disappointed was that the outside box promised me a suspense thriller. In my eyes, a suspense thriller for British movies is like something out of a Ruth Rendell novel, something that has a lot of dark twist and turns and leaves the viewer with an ending that is unlikely to be forgotten anytime soon.This movie started out with the promising note of being such a film. We have our main character, that suspects a man that he does not like, of being involved in a hit and run that killed the husband of one of his servants.His notions prove to be right, but the idea that his wife might be involved, does not occur to him until that she confesses to him that she was a part of the crime.The elements of a good suspense thriller were in place, at this point, but from there, I felt that the film took a different direction and became almost some sort of a mild soap opera about who wants to be with who and what the love of a real relationship is. The film might have been enjoyable to me, if the outside box had talked of a twisted lover's triangle and had not been labeled as suspense thriller.This seemed to be more of a soap opera story and the beginning setting seemed to be a mild distraction to the true content of the film. I felt like this film could have done a whole lot better than it did. I felt like it kept leading the viewer up to a big event that never materialized. So, I have to give it a lower rating than I would have liked to and say that it fell short of my expectations.\""
      ]
     },
     "execution_count": 9,
     "metadata": {},
     "output_type": "execute_result"
    }
   ],
   "source": [
    "train_dict[\"neg\"][\"text\"][1]"
   ]
  },
  {
   "cell_type": "code",
   "execution_count": 16,
   "metadata": {},
   "outputs": [
    {
     "data": {
      "text/plain": [
       "['The',\n",
       " 'plot',\n",
       " 'Descent',\n",
       " 'actually',\n",
       " 'called',\n",
       " 'plot',\n",
       " 'two',\n",
       " 'noteworthy',\n",
       " 'events',\n",
       " 'One',\n",
       " 'near',\n",
       " 'beginning',\n",
       " 'one',\n",
       " 'end',\n",
       " 'Together',\n",
       " 'events',\n",
       " 'make',\n",
       " 'maybe',\n",
       " 'total',\n",
       " 'movie',\n",
       " 'time',\n",
       " 'Everything',\n",
       " 'mean',\n",
       " '_everything_',\n",
       " 'basically',\n",
       " 'director',\n",
       " 'desperate',\n",
       " 'effort',\n",
       " 'fill',\n",
       " 'minutes',\n",
       " 'like',\n",
       " 'disturbing',\n",
       " 'movies',\n",
       " 'like',\n",
       " 'dark',\n",
       " 'movies',\n",
       " \"n't\",\n",
       " 'get',\n",
       " 'troubled',\n",
       " 'gritty',\n",
       " 'scenes',\n",
       " 'expect',\n",
       " 'sit',\n",
       " 'minutes',\n",
       " 'hazy/dark',\n",
       " 'literally',\n",
       " 'scenes',\n",
       " 'storyline',\n",
       " 'another',\n",
       " 'thing',\n",
       " 'coming',\n",
       " 'Rosario',\n",
       " 'Dawson',\n",
       " 'one',\n",
       " 'favorite',\n",
       " 'actresses',\n",
       " 'completely',\n",
       " 'wasted',\n",
       " 'And',\n",
       " \"n't\",\n",
       " 'get',\n",
       " 'naked',\n",
       " 'even',\n",
       " 'NC-17',\n",
       " 'version',\n",
       " 'saw.If',\n",
       " 'couple',\n",
       " 'hours',\n",
       " 'throw',\n",
       " 'away',\n",
       " 'want',\n",
       " 'watch',\n",
       " 'Descent',\n",
       " 'take',\n",
       " 'nap',\n",
       " 'instead',\n",
       " \"'ll\",\n",
       " 'probably',\n",
       " 'interesting',\n",
       " 'dreams']"
      ]
     },
     "execution_count": 16,
     "metadata": {},
     "output_type": "execute_result"
    }
   ],
   "source": [
    "train_dict[\"neg\"][\"tokens\"][1]"
   ]
  }
 ],
 "metadata": {
  "kernelspec": {
   "display_name": "Python 3.10.6 64-bit",
   "language": "python",
   "name": "python3"
  },
  "language_info": {
   "codemirror_mode": {
    "name": "ipython",
    "version": 3
   },
   "file_extension": ".py",
   "mimetype": "text/x-python",
   "name": "python",
   "nbconvert_exporter": "python",
   "pygments_lexer": "ipython3",
   "version": "3.10.6"
  },
  "orig_nbformat": 4,
  "vscode": {
   "interpreter": {
    "hash": "43973268aa23c7cf4b4cafe0e819fac9b2412fcc991a21988492c3271a4e3f9b"
   }
  }
 },
 "nbformat": 4,
 "nbformat_minor": 2
}
