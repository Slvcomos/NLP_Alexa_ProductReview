{
 "cells": [
  {
   "cell_type": "code",
   "execution_count": 135,
   "metadata": {},
   "outputs": [],
   "source": [
    "import pandas as pd\n",
    "from sklearn.feature_extraction.text import CountVectorizer, TfidfVectorizer\n",
    "import nltk\n",
    "from sklearn.model_selection import train_test_split\n",
    "from sklearn.naive_bayes import MultinomialNB, ComplementNB\n",
    "from sklearn import metrics\n",
    "from sklearn.svm import LinearSVC\n",
    "import string\n",
    "from mi_helper import *\n",
    "\n",
    "#fare custom vectorizer\n",
    "#includere pos tagging per corretta lemmatizzazione di verbi"
   ]
  },
  {
   "cell_type": "code",
   "execution_count": 116,
   "metadata": {},
   "outputs": [
    {
     "name": "stdout",
     "output_type": "stream",
     "text": [
      "1    2286\n",
      "0     257\n",
      "Name: feedback, dtype: int64\n",
      "<class 'pandas.core.frame.DataFrame'>\n",
      "Int64Index: 2543 entries, 0 to 3148\n",
      "Data columns (total 5 columns):\n",
      " #   Column            Non-Null Count  Dtype \n",
      "---  ------            --------------  ----- \n",
      " 0   rating            2543 non-null   int64 \n",
      " 1   date              2543 non-null   object\n",
      " 2   variation         2543 non-null   object\n",
      " 3   verified_reviews  2543 non-null   object\n",
      " 4   feedback          2543 non-null   int64 \n",
      "dtypes: int64(2), object(3)\n",
      "memory usage: 119.2+ KB\n"
     ]
    }
   ],
   "source": [
    "dataset = pd.read_csv(\"amazon_alexa.tsv\", sep = \"\\t\")\n",
    "data_test = pd.read_csv(\"test_set.csv\", sep = \"\\t\")\n",
    "data_test.drop(\"Unnamed: 0\", axis = 1, inplace = True)\n",
    "# dataset = pd.concat([data_test, dataset])\n",
    "dataset.dropna(inplace=True)\n",
    "dataset.drop(dataset[dataset.rating == 3].index, inplace=True) #droppa recensioni con 3-4 stelle\n",
    "dataset.drop(dataset[dataset.rating == 4].index, inplace=True)\n",
    "print(dataset[\"feedback\"].value_counts())\n",
    "dataset.info()"
   ]
  },
  {
   "cell_type": "code",
   "execution_count": 117,
   "metadata": {},
   "outputs": [],
   "source": [
    "tokenizer = nltk.tokenize.TweetTokenizer()\n",
    "lemmatizer = nltk.WordNetLemmatizer()\n",
    "tokenized_reviews = []\n",
    "for review in dataset[\"verified_reviews\"]: #pulisce le recensioni\n",
    "    clean_text = \"\"\n",
    "    tokens = tokenizer.tokenize(review)\n",
    "    clean_tokens = [w.lower() for w in tokens if w not in string.punctuation and len(w)>2]\n",
    "    lemmatized_tokens = [lemmatizer.lemmatize(w) for w in clean_tokens]\n",
    "    for t in lemmatized_tokens:\n",
    "        clean_text += \" \" + t\n",
    "    tokenized_reviews.append(clean_text)\n",
    "\n",
    "dataset[\"verified_reviews\"] = tokenized_reviews"
   ]
  },
  {
   "cell_type": "code",
   "execution_count": 118,
   "metadata": {},
   "outputs": [
    {
     "data": {
      "text/plain": [
       "1    257\n",
       "0    257\n",
       "Name: feedback, dtype: int64"
      ]
     },
     "execution_count": 118,
     "metadata": {},
     "output_type": "execute_result"
    }
   ],
   "source": [
    "# CREAZIONE DI UN SAMPLE DATASET BILANCIATO\n",
    "# prende le prime n recensioni positive di lunghezza maggiore, dove n è il numero di recensioni negative\n",
    "reviews_1 = list(dataset[dataset[\"feedback\"] == 1][\"verified_reviews\"])\n",
    "reviews_0 = list(dataset[dataset[\"feedback\"] == 0][\"verified_reviews\"])\n",
    "reviews_1.sort(key=len, reverse = True)\n",
    "sample_1 = reviews_1[:len(reviews_0)]\n",
    "verified_reviews_sample = []\n",
    "feedback_sample = []\n",
    "verified_reviews_sample.extend(sample_1)\n",
    "verified_reviews_sample.extend(reviews_0)\n",
    "feedback_sample.extend([1 for i in range(len(sample_1))])\n",
    "feedback_sample.extend([0 for i in range(len(reviews_0))])\n",
    "\n",
    "\n",
    "dataset = pd.DataFrame({\"verified_reviews\":verified_reviews_sample, \"feedback\": feedback_sample})\n",
    "dataset[\"feedback\"].value_counts()"
   ]
  },
  {
   "cell_type": "code",
   "execution_count": 119,
   "metadata": {},
   "outputs": [
    {
     "name": "stdout",
     "output_type": "stream",
     "text": [
      "              precision    recall  f1-score   support\n",
      "\n",
      "           0       0.83      0.77      0.80        56\n",
      "           1       0.75      0.81      0.78        47\n",
      "\n",
      "    accuracy                           0.79       103\n",
      "   macro avg       0.79      0.79      0.79       103\n",
      "weighted avg       0.79      0.79      0.79       103\n",
      "\n"
     ]
    }
   ],
   "source": [
    "##################################################################\n",
    "# CALCOLO VETTORI COL MIO METODO\n",
    "# per vedere il mio metodo guardare il file mi_helper.py\n",
    "X_train, X_test, Y_train, Y_test = train_test_split(dataset[\"verified_reviews\"], dataset[\"feedback\"], test_size = 0.20, random_state=10)\n",
    "\n",
    "data_dict = {0:{\"text\":\"\"}, 1:{\"text\":\"\"}}\n",
    "for rev, feedback in zip(X_train, Y_train):\n",
    "    data_dict[feedback][\"text\"]+= \" \" + rev\n",
    "\n",
    "w_vect, bi_vect, tri_vect = vectors_creator(data_dict, normalize=True)\n",
    "# print({k: v for k, v in sorted(tri_vect[1].items(), key=lambda item: item[1], reverse=True)})\n",
    "predicted = predict(X_test, w_vect, bi_vect, tri_vect, True, False, True)\n",
    "print(metrics.classification_report(Y_test, predicted))\n",
    "#provare ad aggiungere un peso/bias per la lunghezza della recensione\n",
    "#droppare le recensioni con 3-4 stelle, FATTO"
   ]
  },
  {
   "cell_type": "code",
   "execution_count": 120,
   "metadata": {},
   "outputs": [
    {
     "name": "stdout",
     "output_type": "stream",
     "text": [
      "              precision    recall  f1-score   support\n",
      "\n",
      "           0       0.93      0.93      0.93        56\n",
      "           1       0.91      0.91      0.91        47\n",
      "\n",
      "    accuracy                           0.92       103\n",
      "   macro avg       0.92      0.92      0.92       103\n",
      "weighted avg       0.92      0.92      0.92       103\n",
      "\n"
     ]
    }
   ],
   "source": [
    "#####################################################################\n",
    "# COUNT VECTOR - MULTI NOMIAL NAIVE BAYES\n",
    "tokenizer = nltk.tokenize.TweetTokenizer()\n",
    "cv = CountVectorizer(stop_words=\"english\", ngram_range=(1, 2), tokenizer=tokenizer.tokenize)\n",
    "text_counts = cv.fit_transform(dataset[\"verified_reviews\"])\n",
    "X_train, X_test, Y_train, Y_test = train_test_split(text_counts, dataset[\"feedback\"], test_size = 0.20, random_state=10)\n",
    "MNB = MultinomialNB(fit_prior=True)\n",
    "MNB.fit(X_train, Y_train)\n",
    "predicted = MNB.predict(X_test)\n",
    "print(metrics.classification_report(Y_test, predicted))"
   ]
  },
  {
   "cell_type": "code",
   "execution_count": 121,
   "metadata": {},
   "outputs": [
    {
     "name": "stdout",
     "output_type": "stream",
     "text": [
      "              precision    recall  f1-score   support\n",
      "\n",
      "           0       0.93      0.66      0.77        56\n",
      "           1       0.70      0.94      0.80        47\n",
      "\n",
      "    accuracy                           0.79       103\n",
      "   macro avg       0.81      0.80      0.79       103\n",
      "weighted avg       0.82      0.79      0.78       103\n",
      "\n"
     ]
    }
   ],
   "source": [
    "#####################################################################\n",
    "# TFIDF - MULTI NOMIAL NAIVE BAYES\n",
    "tfidf = TfidfVectorizer(stop_words=\"english\", ngram_range=(1, 2), tokenizer=tokenizer.tokenize)\n",
    "text_counts = tfidf.fit_transform(dataset[\"verified_reviews\"])\n",
    "X_train, X_test, Y_train, Y_test = train_test_split(text_counts, dataset[\"feedback\"], test_size = 0.20, random_state=10)\n",
    "MNB = MultinomialNB()\n",
    "MNB.fit(X_train, Y_train)\n",
    "predicted = MNB.predict(X_test)\n",
    "print(metrics.classification_report(Y_test, predicted))\n"
   ]
  },
  {
   "cell_type": "code",
   "execution_count": 122,
   "metadata": {},
   "outputs": [
    {
     "name": "stdout",
     "output_type": "stream",
     "text": [
      "              precision    recall  f1-score   support\n",
      "\n",
      "           0       0.90      0.95      0.92        56\n",
      "           1       0.93      0.87      0.90        47\n",
      "\n",
      "    accuracy                           0.91       103\n",
      "   macro avg       0.92      0.91      0.91       103\n",
      "weighted avg       0.91      0.91      0.91       103\n",
      "\n"
     ]
    }
   ],
   "source": [
    "#####################################################################\n",
    "# TFIDF - SVM (support vector machine)\n",
    "\n",
    "tfidf = TfidfVectorizer(stop_words=\"english\", ngram_range=(1, 2), tokenizer=tokenizer.tokenize)\n",
    "text_counts = tfidf.fit_transform(dataset[\"verified_reviews\"])\n",
    "X_train, X_test, Y_train, Y_test = train_test_split(text_counts, dataset[\"feedback\"], test_size = 0.20, random_state=10)\n",
    "svc_tfid = LinearSVC(class_weight = \"balanced\", dual = True, max_iter=1000)\n",
    "svc_tfid.fit(X_train, Y_train)\n",
    "pred = svc_tfid.predict(X_test)\n",
    "print(metrics.classification_report(Y_test, pred))"
   ]
  },
  {
   "cell_type": "code",
   "execution_count": 123,
   "metadata": {},
   "outputs": [
    {
     "name": "stdout",
     "output_type": "stream",
     "text": [
      "              precision    recall  f1-score   support\n",
      "\n",
      "           0       0.88      0.91      0.89        56\n",
      "           1       0.89      0.85      0.87        47\n",
      "\n",
      "    accuracy                           0.88       103\n",
      "   macro avg       0.88      0.88      0.88       103\n",
      "weighted avg       0.88      0.88      0.88       103\n",
      "\n"
     ]
    }
   ],
   "source": [
    "#####################################################################\n",
    "# COUNT VECTOR - SVM (support vector machine)\n",
    "cv = CountVectorizer(stop_words=\"english\", ngram_range=(1, 2), tokenizer=tokenizer.tokenize)\n",
    "text_counts = cv.fit_transform(dataset[\"verified_reviews\"])\n",
    "X_train, X_test, Y_train, Y_test = train_test_split(text_counts, dataset[\"feedback\"], test_size = 0.20, random_state=10)\n",
    "cv_tfid = LinearSVC(class_weight = \"balanced\")\n",
    "cv_tfid.fit(X_train, Y_train)\n",
    "pred = cv_tfid.predict(X_test)\n",
    "print(metrics.classification_report(Y_test, pred))"
   ]
  },
  {
   "cell_type": "code",
   "execution_count": 136,
   "metadata": {},
   "outputs": [
    {
     "name": "stdout",
     "output_type": "stream",
     "text": [
      "[0 1]\n"
     ]
    }
   ],
   "source": [
    "vector = tfidf.transform([\"bad product\", \"Good, love it\"])\n",
    "predicted = svc_tfid.predict(vector)\n",
    "print(predicted)"
   ]
  },
  {
   "cell_type": "code",
   "execution_count": 137,
   "metadata": {},
   "outputs": [
    {
     "name": "stdout",
     "output_type": "stream",
     "text": [
      "[1, 0]\n"
     ]
    }
   ],
   "source": [
    "predicted = predict([\"amazing\", \"sounds terrible\"], w_vect,bi_vect,tri_vect, True, False, True)\n",
    "print(predicted)"
   ]
  }
 ],
 "metadata": {
  "kernelspec": {
   "display_name": "Python 3.10.6 64-bit",
   "language": "python",
   "name": "python3"
  },
  "language_info": {
   "codemirror_mode": {
    "name": "ipython",
    "version": 3
   },
   "file_extension": ".py",
   "mimetype": "text/x-python",
   "name": "python",
   "nbconvert_exporter": "python",
   "pygments_lexer": "ipython3",
   "version": "3.10.6"
  },
  "orig_nbformat": 4,
  "vscode": {
   "interpreter": {
    "hash": "43973268aa23c7cf4b4cafe0e819fac9b2412fcc991a21988492c3271a4e3f9b"
   }
  }
 },
 "nbformat": 4,
 "nbformat_minor": 2
}
