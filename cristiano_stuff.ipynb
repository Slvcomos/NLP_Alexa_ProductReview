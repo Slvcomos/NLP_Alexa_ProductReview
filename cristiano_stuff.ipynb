{
 "cells": [
  {
   "cell_type": "code",
   "execution_count": 46,
   "metadata": {},
   "outputs": [],
   "source": [
    "import sklearn\n",
    "import pandas as pd\n",
    "from sklearn.feature_extraction.text import CountVectorizer, TfidfVectorizer\n",
    "import nltk\n",
    "from sklearn.model_selection import train_test_split\n",
    "from sklearn.naive_bayes import MultinomialNB, ComplementNB\n",
    "from sklearn import metrics\n",
    "from sklearn.svm import LinearSVC\n",
    "import string\n",
    "from mi_helper import *\n",
    "\n",
    "#fare custom vectorizer"
   ]
  },
  {
   "cell_type": "code",
   "execution_count": 47,
   "metadata": {},
   "outputs": [
    {
     "name": "stdout",
     "output_type": "stream",
     "text": [
      "1    2095\n",
      "0     452\n",
      "Name: feedback, dtype: int64\n",
      "<class 'pandas.core.frame.DataFrame'>\n",
      "Int64Index: 2547 entries, 2 to 3149\n",
      "Data columns (total 5 columns):\n",
      " #   Column            Non-Null Count  Dtype \n",
      "---  ------            --------------  ----- \n",
      " 0   variation         2547 non-null   object\n",
      " 1   verified_reviews  2547 non-null   object\n",
      " 2   rating            2547 non-null   int64 \n",
      " 3   date              2547 non-null   object\n",
      " 4   feedback          2547 non-null   int64 \n",
      "dtypes: int64(2), object(3)\n",
      "memory usage: 119.4+ KB\n"
     ]
    }
   ],
   "source": [
    "dataset = pd.read_csv(\"amazon_alexa.tsv\", sep = \"\\t\")\n",
    "dataset.head(2)\n",
    "data_test = pd.read_csv(\"test_set.csv\", sep = \"\\t\")\n",
    "data_test.drop(\"Unnamed: 0\", axis = 1, inplace = True)\n",
    "dataset = pd.concat([data_test, dataset])\n",
    "dataset.dropna(inplace=True)\n",
    "dataset.drop(dataset[dataset.rating == 3].index, inplace=True)\n",
    "print(dataset[\"feedback\"].value_counts())\n",
    "dataset.info()"
   ]
  },
  {
   "cell_type": "code",
   "execution_count": 48,
   "metadata": {},
   "outputs": [],
   "source": [
    "tokenizer = nltk.tokenize.TweetTokenizer()\n",
    "lemmatizer = nltk.WordNetLemmatizer()\n",
    "tokenized_reviews = []\n",
    "for review in dataset[\"verified_reviews\"]:\n",
    "    clean_text = \"\"\n",
    "    tokens = tokenizer.tokenize(review)\n",
    "    clean_tokens = [w.lower() for w in tokens if w not in string.punctuation and len(w)>2]\n",
    "    lemmatized_tokens = [lemmatizer.lemmatize(w) for w in clean_tokens]\n",
    "    for t in lemmatized_tokens:\n",
    "        clean_text += \" \" + t\n",
    "    tokenized_reviews.append(clean_text)\n",
    "\n",
    "dataset[\"verified_reviews\"] = tokenized_reviews"
   ]
  },
  {
   "cell_type": "code",
   "execution_count": 49,
   "metadata": {},
   "outputs": [],
   "source": [
    "# CREAZIONE DI UN SAMPLE DATASET BILANCIATO\n",
    "# \n",
    "# reviews_1 = list(dataset[dataset[\"feedback\"] == 1][\"verified_reviews\"])\n",
    "# reviews_0 = list(dataset[dataset[\"feedback\"] == 0][\"verified_reviews\"])\n",
    "# reviews_1.sort(key=len, reverse = True)\n",
    "# sample_1 = reviews_1[:len(reviews_0)]\n",
    "# verified_reviews_sample = []\n",
    "# feedback_sample = []\n",
    "# verified_reviews_sample.extend(sample_1)\n",
    "# verified_reviews_sample.extend(reviews_0)\n",
    "# feedback_sample.extend([1 for i in range(len(sample_1))])\n",
    "# feedback_sample.extend([0 for i in range(len(reviews_0))])\n",
    "\n",
    "\n",
    "# sample_dataset = pd.DataFrame({\"verified_reviews\":verified_reviews_sample, \"feedback\": feedback_sample})\n",
    "# sample_dataset"
   ]
  },
  {
   "cell_type": "code",
   "execution_count": 50,
   "metadata": {},
   "outputs": [
    {
     "name": "stdout",
     "output_type": "stream",
     "text": [
      "              precision    recall  f1-score   support\n",
      "\n",
      "           0       0.60      0.78      0.68        95\n",
      "           1       0.95      0.88      0.91       415\n",
      "\n",
      "    accuracy                           0.86       510\n",
      "   macro avg       0.77      0.83      0.80       510\n",
      "weighted avg       0.88      0.86      0.87       510\n",
      "\n"
     ]
    }
   ],
   "source": [
    "##################################################################\n",
    "# CALCOLO VETTORI COL MIO METODO\n",
    "X_train, X_test, Y_train, Y_test = train_test_split(dataset[\"verified_reviews\"], dataset[\"feedback\"], test_size = 0.20, random_state=10)\n",
    "\n",
    "data_dict = {0:{\"text\":\"\"}, 1:{\"text\":\"\"}}\n",
    "for rev, feedback in zip(X_train, Y_train):\n",
    "    data_dict[feedback][\"text\"]+= \" \" + rev\n",
    "\n",
    "w_vect, bi_vect = vectors_creator(data_dict, normalize=False)\n",
    "# print({k: v for k, v in sorted(w_vect[0].items(), key=lambda item: item[1], reverse=True)})\n",
    "predicted = predict(X_test, w_vect, bi_vect, True, False)\n",
    "print(metrics.classification_report(Y_test, predicted))\n",
    "#provare ad aggiungere un peso per la lunghezza della recensione\n",
    "#droppare le recensioni con 3 stelle"
   ]
  },
  {
   "cell_type": "code",
   "execution_count": 51,
   "metadata": {},
   "outputs": [
    {
     "name": "stdout",
     "output_type": "stream",
     "text": [
      "              precision    recall  f1-score   support\n",
      "\n",
      "           0       0.95      0.74      0.83        95\n",
      "           1       0.94      0.99      0.97       415\n",
      "\n",
      "    accuracy                           0.94       510\n",
      "   macro avg       0.94      0.86      0.90       510\n",
      "weighted avg       0.94      0.94      0.94       510\n",
      "\n"
     ]
    }
   ],
   "source": [
    "#####################################################################\n",
    "# COUNT VECTOR - MULTI NOMIAL NAIVE BAYES\n",
    "tokenizer = nltk.tokenize.TweetTokenizer()\n",
    "cv = CountVectorizer(stop_words=\"english\", ngram_range=(1, 2), tokenizer=tokenizer.tokenize)\n",
    "text_counts = cv.fit_transform(dataset[\"verified_reviews\"])\n",
    "X_train, X_test, Y_train, Y_test = train_test_split(text_counts, dataset[\"feedback\"], test_size = 0.20, random_state=10)\n",
    "MNB = MultinomialNB()\n",
    "MNB.fit(X_train, Y_train)\n",
    "predicted = MNB.predict(X_test)\n",
    "print(metrics.classification_report(Y_test, predicted))"
   ]
  },
  {
   "cell_type": "code",
   "execution_count": 52,
   "metadata": {},
   "outputs": [
    {
     "name": "stdout",
     "output_type": "stream",
     "text": [
      "              precision    recall  f1-score   support\n",
      "\n",
      "           0       0.00      0.00      0.00        95\n",
      "           1       0.81      1.00      0.90       415\n",
      "\n",
      "    accuracy                           0.81       510\n",
      "   macro avg       0.41      0.50      0.45       510\n",
      "weighted avg       0.66      0.81      0.73       510\n",
      "\n"
     ]
    },
    {
     "name": "stderr",
     "output_type": "stream",
     "text": [
      "c:\\Users\\crist\\AppData\\Local\\Programs\\Python\\Python310\\lib\\site-packages\\sklearn\\metrics\\_classification.py:1334: UndefinedMetricWarning: Precision and F-score are ill-defined and being set to 0.0 in labels with no predicted samples. Use `zero_division` parameter to control this behavior.\n",
      "  _warn_prf(average, modifier, msg_start, len(result))\n",
      "c:\\Users\\crist\\AppData\\Local\\Programs\\Python\\Python310\\lib\\site-packages\\sklearn\\metrics\\_classification.py:1334: UndefinedMetricWarning: Precision and F-score are ill-defined and being set to 0.0 in labels with no predicted samples. Use `zero_division` parameter to control this behavior.\n",
      "  _warn_prf(average, modifier, msg_start, len(result))\n",
      "c:\\Users\\crist\\AppData\\Local\\Programs\\Python\\Python310\\lib\\site-packages\\sklearn\\metrics\\_classification.py:1334: UndefinedMetricWarning: Precision and F-score are ill-defined and being set to 0.0 in labels with no predicted samples. Use `zero_division` parameter to control this behavior.\n",
      "  _warn_prf(average, modifier, msg_start, len(result))\n"
     ]
    }
   ],
   "source": [
    "#####################################################################\n",
    "# TFIDF - MULTI NOMIAL NAIVE BAYES\n",
    "tfidf = TfidfVectorizer(stop_words=\"english\", ngram_range=(1, 2), tokenizer=tokenizer.tokenize)\n",
    "text_counts = tfidf.fit_transform(dataset[\"verified_reviews\"])\n",
    "X_train, X_test, Y_train, Y_test = train_test_split(text_counts, dataset[\"feedback\"], test_size = 0.20, random_state=10)\n",
    "MNB = MultinomialNB()\n",
    "MNB.fit(X_train, Y_train)\n",
    "predicted = MNB.predict(X_test)\n",
    "print(metrics.classification_report(Y_test, predicted))\n"
   ]
  },
  {
   "cell_type": "code",
   "execution_count": 54,
   "metadata": {},
   "outputs": [
    {
     "name": "stdout",
     "output_type": "stream",
     "text": [
      "              precision    recall  f1-score   support\n",
      "\n",
      "           0       0.90      0.78      0.84        95\n",
      "           1       0.95      0.98      0.97       415\n",
      "\n",
      "    accuracy                           0.94       510\n",
      "   macro avg       0.93      0.88      0.90       510\n",
      "weighted avg       0.94      0.94      0.94       510\n",
      "\n"
     ]
    }
   ],
   "source": [
    "#####################################################################\n",
    "# TFIDF - SVM (support vector machine)\n",
    "tfidf = TfidfVectorizer(stop_words=\"english\", ngram_range=(1, 2), tokenizer=tokenizer.tokenize)\n",
    "text_counts = tfidf.fit_transform(dataset[\"verified_reviews\"])\n",
    "X_train, X_test, Y_train, Y_test = train_test_split(text_counts, dataset[\"feedback\"], test_size = 0.20, random_state=10)\n",
    "svc_tfid = LinearSVC(class_weight = \"balanced\")\n",
    "svc_tfid.fit(X_train, Y_train)\n",
    "pred = svc_tfid.predict(X_test)\n",
    "print(metrics.classification_report(Y_test, pred))"
   ]
  },
  {
   "cell_type": "code",
   "execution_count": 55,
   "metadata": {},
   "outputs": [
    {
     "name": "stdout",
     "output_type": "stream",
     "text": [
      "              precision    recall  f1-score   support\n",
      "\n",
      "           0       0.91      0.63      0.75        95\n",
      "           1       0.92      0.99      0.95       415\n",
      "\n",
      "    accuracy                           0.92       510\n",
      "   macro avg       0.92      0.81      0.85       510\n",
      "weighted avg       0.92      0.92      0.91       510\n",
      "\n"
     ]
    },
    {
     "name": "stderr",
     "output_type": "stream",
     "text": [
      "c:\\Users\\crist\\AppData\\Local\\Programs\\Python\\Python310\\lib\\site-packages\\sklearn\\svm\\_base.py:1225: ConvergenceWarning: Liblinear failed to converge, increase the number of iterations.\n",
      "  warnings.warn(\n"
     ]
    }
   ],
   "source": [
    "#####################################################################\n",
    "# COUNT VECTOR - SVM (support vector machine)\n",
    "cv = CountVectorizer(stop_words=\"english\", ngram_range=(1, 2), tokenizer=tokenizer.tokenize)\n",
    "text_counts = cv.fit_transform(dataset[\"verified_reviews\"])\n",
    "X_train, X_test, Y_train, Y_test = train_test_split(text_counts, dataset[\"feedback\"], test_size = 0.20, random_state=10)\n",
    "cv_tfid = LinearSVC(class_weight = \"balanced\")\n",
    "cv_tfid.fit(X_train, Y_train)\n",
    "pred = cv_tfid.predict(X_test)\n",
    "print(metrics.classification_report(Y_test, pred))"
   ]
  },
  {
   "cell_type": "code",
   "execution_count": 56,
   "metadata": {},
   "outputs": [
    {
     "name": "stdout",
     "output_type": "stream",
     "text": [
      "[0]\n"
     ]
    }
   ],
   "source": [
    "vector = tfidf.transform([\"bad product\"])\n",
    "predicted = svc_tfid.predict(vector)\n",
    "print(predicted)"
   ]
  },
  {
   "cell_type": "code",
   "execution_count": 59,
   "metadata": {},
   "outputs": [
    {
     "name": "stdout",
     "output_type": "stream",
     "text": [
      "[0]\n"
     ]
    }
   ],
   "source": [
    "predicted = predict([\"my overall experience is a mess\"], w_vect,bi_vect,True, False)\n",
    "print(predicted)"
   ]
  }
 ],
 "metadata": {
  "kernelspec": {
   "display_name": "Python 3.10.6 64-bit",
   "language": "python",
   "name": "python3"
  },
  "language_info": {
   "codemirror_mode": {
    "name": "ipython",
    "version": 3
   },
   "file_extension": ".py",
   "mimetype": "text/x-python",
   "name": "python",
   "nbconvert_exporter": "python",
   "pygments_lexer": "ipython3",
   "version": "3.10.6"
  },
  "orig_nbformat": 4,
  "vscode": {
   "interpreter": {
    "hash": "43973268aa23c7cf4b4cafe0e819fac9b2412fcc991a21988492c3271a4e3f9b"
   }
  }
 },
 "nbformat": 4,
 "nbformat_minor": 2
}
