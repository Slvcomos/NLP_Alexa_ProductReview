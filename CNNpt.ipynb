{
 "cells": [
  {
   "cell_type": "code",
   "execution_count": 85,
   "metadata": {},
   "outputs": [],
   "source": [
    "from keras.preprocessing import sequence\n",
    "from keras.models import Sequential\n",
    "from keras.layers import Dense, Dropout, Activation\n",
    "from keras.preprocessing.text import Tokenizer\n",
    "from keras.utils import pad_sequences\n",
    "import pandas as pd\n",
    "import nltk\n",
    "from sklearn.model_selection import train_test_split\n",
    "from sklearn import metrics\n",
    "from sklearn.svm import LinearSVC, SVC\n",
    "from sklearn.naive_bayes import MultinomialNB\n",
    "from sklearn.feature_extraction.text import TfidfVectorizer\n",
    "import string\n",
    "from nltk import pos_tag\n",
    "from nltk.corpus import stopwords\n",
    "from nltk.corpus import wordnet\n",
    "import re\n",
    "import gensim\n",
    "from gensim.models import KeyedVectors\n",
    "import numpy as np\n",
    "from collections import Counter\n",
    "from numpy import dot\n",
    "from numpy.linalg import norm\n",
    "from gensim.models import Word2Vec\n",
    "from gensim.models.phrases import Phrases\n",
    "from nltk import sent_tokenize\n",
    "from nltk.tokenize.treebank import TreebankWordDetokenizer\n",
    "import gensim.downloader as api\n",
    "from sklearn.model_selection import GridSearchCV, StratifiedKFold\n",
    "from sklearn.metrics import accuracy_score, f1_score, classification_report\n",
    "from sklearn.metrics import accuracy_score, precision_score, recall_score, make_scorer\n",
    "from preprocessing import *"
   ]
  },
  {
   "cell_type": "code",
   "execution_count": 86,
   "metadata": {},
   "outputs": [],
   "source": [
    "glove_twitter_25 = []\n",
    "# print(\"loading pre trained embeddings, this can take some minutes...\")\n",
    "# glove_twitter_25 = KeyedVectors.load_word2vec_format('glove-twitter-25.txt', binary=False)\n",
    "# print(\"loading complete.\")"
   ]
  },
  {
   "cell_type": "code",
   "execution_count": 217,
   "metadata": {},
   "outputs": [],
   "source": [
    "w2v_model = Word2Vec.load(\"w2vPreTrained\")"
   ]
  },
  {
   "cell_type": "code",
   "execution_count": 256,
   "metadata": {},
   "outputs": [
    {
     "name": "stdout",
     "output_type": "stream",
     "text": [
      "(3150, 5)\n",
      "(3150, 5)\n",
      "(2998, 5)\n",
      "(2196, 5)\n"
     ]
    }
   ],
   "source": [
    "dataset = pd.read_csv(\"amazon_alexa.tsv\", sep = \"\\t\", encoding = \"utf-8\")\n",
    "print(dataset.shape)\n",
    "dataset.dropna(inplace = True)\n",
    "print(dataset.shape)\n",
    "dataset.drop(dataset[dataset.rating == 3].index, inplace=True)\n",
    "print(dataset.shape)\n",
    "dataset.drop_duplicates(subset = \"verified_reviews\", inplace = True)\n",
    "print(dataset.shape)"
   ]
  },
  {
   "cell_type": "code",
   "execution_count": 257,
   "metadata": {},
   "outputs": [
    {
     "name": "stdout",
     "output_type": "stream",
     "text": [
      "1    1990\n",
      "0     206\n",
      "Name: feedback, dtype: int64\n"
     ]
    }
   ],
   "source": [
    "print(dataset[\"feedback\"].value_counts())"
   ]
  },
  {
   "cell_type": "code",
   "execution_count": 258,
   "metadata": {},
   "outputs": [],
   "source": [
    "X = np.array(dataset[\"verified_reviews\"].values).reshape(-1, 1)\n",
    "y = list(dataset[\"feedback\"].values)"
   ]
  },
  {
   "cell_type": "code",
   "execution_count": 259,
   "metadata": {},
   "outputs": [
    {
     "name": "stdout",
     "output_type": "stream",
     "text": [
      "Resampled dataset shape Counter({1: 412, 0: 206})\n"
     ]
    }
   ],
   "source": [
    "from imblearn.under_sampling import RandomUnderSampler\n",
    "from collections import Counter\n",
    "\n",
    "undersampler = RandomUnderSampler(sampling_strategy=0.5, random_state = 0)\n",
    "\n",
    "X, y = undersampler.fit_resample(X, y)\n",
    "\n",
    "\n",
    "print('Resampled dataset shape %s' % Counter(y))"
   ]
  },
  {
   "cell_type": "code",
   "execution_count": 260,
   "metadata": {},
   "outputs": [],
   "source": [
    "X_temp = []\n",
    "\n",
    "for rev in X:\n",
    "  X_temp.append(rev[0])"
   ]
  },
  {
   "cell_type": "code",
   "execution_count": 261,
   "metadata": {},
   "outputs": [
    {
     "name": "stdout",
     "output_type": "stream",
     "text": [
      "total number of types extracted is: 1798\n"
     ]
    }
   ],
   "source": [
    "new_text, new_sent_tok = tokenize_list_of_text(X_temp, custom_stopwords, False, 2)"
   ]
  },
  {
   "cell_type": "code",
   "execution_count": 262,
   "metadata": {},
   "outputs": [],
   "source": [
    "# negative_reviews = list(dataset[dataset[\"feedback\"] == 0][\"verified_reviews\"].values)\n",
    "# print(len(negative_reviews))\n",
    "# negative_text, negative_tok = tokenize_list_of_text(negative_reviews, custom_stopwords, False, pos_list)"
   ]
  },
  {
   "cell_type": "code",
   "execution_count": 263,
   "metadata": {},
   "outputs": [],
   "source": [
    "# negative_artifical = generate_samples(negative_tok, 200, pre_trained_model = glove_twitter_25)\n",
    "# new_sent_tok.extend(negative_artifical)\n",
    "# len(negative_artifical)"
   ]
  },
  {
   "cell_type": "code",
   "execution_count": 264,
   "metadata": {},
   "outputs": [],
   "source": [
    "cleaned_reviews = frequency_cleaning(new_sent_tok, 2)\n",
    "# negative_artificial_cleaned = cleaned_reviews[-len(negative_artifical):] # estraggo le recensioni artificiali per poi aggiungerle esclusivamente al train\n",
    "# del cleaned_reviews[-len(negative_artifical):] # le elimino dalle recensioni pulite"
   ]
  },
  {
   "cell_type": "code",
   "execution_count": 265,
   "metadata": {},
   "outputs": [],
   "source": [
    "bigrams = Phrases(cleaned_reviews, scoring=\"npmi\", threshold=0.60) #estrae le collocazioni tramite PMI"
   ]
  },
  {
   "cell_type": "code",
   "execution_count": 266,
   "metadata": {},
   "outputs": [],
   "source": [
    "X_train, X_test, Y_train, Y_test = train_test_split(bigrams[cleaned_reviews], y, test_size=0.20, random_state=10)\n",
    "# X_train.extend(negative_artificial_cleaned)\n",
    "# Y_train.extend([0 for x in range(len(negative_artificial_cleaned))])"
   ]
  },
  {
   "cell_type": "code",
   "execution_count": 267,
   "metadata": {},
   "outputs": [
    {
     "name": "stdout",
     "output_type": "stream",
     "text": [
      "Train set is Counter({1: 329, 0: 165})\n",
      "Test set is Counter({1: 83, 0: 41})\n"
     ]
    }
   ],
   "source": [
    "print('Train set is %s' % Counter(Y_train))\n",
    "print('Test set is %s' % Counter(Y_test))"
   ]
  },
  {
   "cell_type": "code",
   "execution_count": 268,
   "metadata": {},
   "outputs": [],
   "source": [
    "t = Tokenizer(lower = False)\n",
    "t.fit_on_texts(X_train)\n",
    "X_train_encoded = t.texts_to_sequences(X_train)\n",
    "max_length = len(max(bigrams[cleaned_reviews], key = len))\n",
    "Xtrain = pad_sequences(X_train_encoded, maxlen=max_length, padding='post')"
   ]
  },
  {
   "cell_type": "code",
   "execution_count": 269,
   "metadata": {},
   "outputs": [],
   "source": [
    "X_test_encoded = t.texts_to_sequences(X_test)\n",
    "Xtest = pad_sequences(X_test_encoded, maxlen=max_length, padding='post')"
   ]
  },
  {
   "cell_type": "code",
   "execution_count": 270,
   "metadata": {},
   "outputs": [],
   "source": [
    "vocab_size = len(t.word_index) + 1"
   ]
  },
  {
   "cell_type": "code",
   "execution_count": 271,
   "metadata": {},
   "outputs": [],
   "source": [
    "def get_weight_matrix(embedding, vocab):\n",
    "    # total vocabulary size plus 0 for unknown words\n",
    "    vocab_size = len(vocab) + 1\n",
    "    # define weight matrix dimensions with all 0\n",
    "    weight_matrix = np.zeros((vocab_size, w2v_model.vector_size))\n",
    "    # step vocab, store vectors using the Tokenizer's integer mapping\n",
    "    not_found = 0\n",
    "    not_found_list = []\n",
    "    for word, i in vocab.items():\n",
    "        try:\n",
    "            vector = embedding[word]\n",
    "            weight_matrix[i] = vector\n",
    "        except KeyError:\n",
    "            weight_matrix[i] = np.zeros((1, w2v_model.vector_size))\n",
    "            not_found+=1\n",
    "            not_found_list.append(word)\n",
    "            continue\n",
    "\n",
    "    print(not_found_list)\n",
    "    print(not_found)\n",
    "    return weight_matrix"
   ]
  },
  {
   "cell_type": "code",
   "execution_count": 272,
   "metadata": {},
   "outputs": [
    {
     "name": "stdout",
     "output_type": "stream",
     "text": [
      "['play_music', 'not_a', 'sound_quality', 'differ', 'not_the', 'still_learn', 'listen_music', \"'ve\", 'light_bulb', 'send_back', \"'re\", 'even_though', 'uncertain', 'answer_question', 'play_radio', 'alarm_clock', 'unmake', 'look_forward', 'not_very', 'not_that', 'video_chat', \"'ll\", 'not_i', 'make_life', 'unretentive', 'unaware', 'trailer', 'certified', 'forbid', 'not_this', 'homescreen', 'not_to', 'excitement', 'not_it']\n",
      "34\n"
     ]
    }
   ],
   "source": [
    "embedding_weights = get_weight_matrix(w2v_model.wv, t.word_index)"
   ]
  },
  {
   "cell_type": "code",
   "execution_count": 273,
   "metadata": {},
   "outputs": [
    {
     "name": "stdout",
     "output_type": "stream",
     "text": [
      "Resampled dataset shape Counter({1: 329, 0: 165})\n"
     ]
    }
   ],
   "source": [
    "from imblearn.under_sampling import RandomUnderSampler, TomekLinks\n",
    "\n",
    "\n",
    "undersampler_nn = TomekLinks(sampling_strategy=\"all\") # use tomeLinks to remove ambiguous data through nearest neighbours\n",
    "\n",
    "\n",
    "# Fit and transform the X and y data\n",
    "# X_train_resampled, y_train_resampled = undersampler_nn.fit_resample(Xtrain, Y_train)\n",
    "X_train_resampled, y_train_resampled = Xtrain, Y_train\n",
    "\n",
    "\n",
    "print('Resampled dataset shape %s' % Counter(y_train_resampled))"
   ]
  },
  {
   "cell_type": "code",
   "execution_count": 274,
   "metadata": {},
   "outputs": [],
   "source": [
    "from keras.layers import Flatten"
   ]
  },
  {
   "cell_type": "code",
   "execution_count": 275,
   "metadata": {},
   "outputs": [],
   "source": [
    "from keras.utils import to_categorical\n",
    "Y_train_hot = to_categorical(y_train_resampled)"
   ]
  },
  {
   "cell_type": "code",
   "execution_count": 276,
   "metadata": {},
   "outputs": [
    {
     "name": "stdout",
     "output_type": "stream",
     "text": [
      "1 [0. 1.]\n",
      "0 [1. 0.]\n"
     ]
    }
   ],
   "source": [
    "print(y_train_resampled[0], Y_train_hot[0])\n",
    "print(y_train_resampled[1], Y_train_hot[1])"
   ]
  },
  {
   "cell_type": "code",
   "execution_count": 277,
   "metadata": {},
   "outputs": [],
   "source": [
    "Y_test_hot = to_categorical(Y_test)"
   ]
  },
  {
   "cell_type": "code",
   "execution_count": 278,
   "metadata": {},
   "outputs": [
    {
     "name": "stdout",
     "output_type": "stream",
     "text": [
      "Model: \"sequential_8\"\n",
      "_________________________________________________________________\n",
      " Layer (type)                Output Shape              Param #   \n",
      "=================================================================\n",
      " embedding_8 (Embedding)     (None, 100, 100)          61800     \n",
      "                                                                 \n",
      " dropout_40 (Dropout)        (None, 100, 100)          0         \n",
      "                                                                 \n",
      " conv1d_8 (Conv1D)           (None, 91, 16)            16016     \n",
      "                                                                 \n",
      " max_pooling1d_8 (MaxPooling  (None, 45, 16)           0         \n",
      " 1D)                                                             \n",
      "                                                                 \n",
      " flatten_8 (Flatten)         (None, 720)               0         \n",
      "                                                                 \n",
      " dropout_41 (Dropout)        (None, 720)               0         \n",
      "                                                                 \n",
      " dense_32 (Dense)            (None, 100)               72100     \n",
      "                                                                 \n",
      " dropout_42 (Dropout)        (None, 100)               0         \n",
      "                                                                 \n",
      " dense_33 (Dense)            (None, 200)               20200     \n",
      "                                                                 \n",
      " dropout_43 (Dropout)        (None, 200)               0         \n",
      "                                                                 \n",
      " dense_34 (Dense)            (None, 100)               20100     \n",
      "                                                                 \n",
      " dropout_44 (Dropout)        (None, 100)               0         \n",
      "                                                                 \n",
      " dense_35 (Dense)            (None, 2)                 202       \n",
      "                                                                 \n",
      "=================================================================\n",
      "Total params: 190,418\n",
      "Trainable params: 190,418\n",
      "Non-trainable params: 0\n",
      "_________________________________________________________________\n",
      "None\n"
     ]
    }
   ],
   "source": [
    "from keras.callbacks import EarlyStopping, ReduceLROnPlateau\n",
    "from keras.layers import Embedding, Conv1D, MaxPooling1D\n",
    "\n",
    "# Define the early stopping criteria\n",
    "early_stopping = EarlyStopping(monitor='binary_accuracy', patience=25)\n",
    "\n",
    "model = Sequential()\n",
    "model.add(Embedding(vocab_size, w2v_model.vector_size, input_length=max_length, trainable = True, weights = [embedding_weights]))\n",
    "model.add(Dropout(0.2))\n",
    "model.add(Conv1D(filters=16, kernel_size=10, activation='relu'))\n",
    "model.add(MaxPooling1D())\n",
    "model.add(Flatten())\n",
    "model.add(Dropout(0.2))\n",
    "model.add(Dense(100, activation='relu'))\n",
    "model.add(Dropout(0.2))\n",
    "model.add(Dense(200, activation='relu'))\n",
    "model.add(Dropout(0.2))\n",
    "model.add(Dense(100, activation='relu'))\n",
    "model.add(Dropout(0.2))\n",
    "model.add(Dense(2, activation='sigmoid'))\n",
    "print(model.summary())\n"
   ]
  },
  {
   "cell_type": "code",
   "execution_count": 279,
   "metadata": {},
   "outputs": [
    {
     "name": "stdout",
     "output_type": "stream",
     "text": [
      "Epoch 1/50\n",
      "13/13 - 3s - loss: 0.6847 - binary_accuracy: 0.6139 - val_loss: 0.6572 - val_binary_accuracy: 0.6515 - 3s/epoch - 246ms/step\n",
      "Epoch 2/50\n",
      "13/13 - 0s - loss: 0.5980 - binary_accuracy: 0.7127 - val_loss: 0.6223 - val_binary_accuracy: 0.6717 - 365ms/epoch - 28ms/step\n",
      "Epoch 3/50\n",
      "13/13 - 0s - loss: 0.5245 - binary_accuracy: 0.7316 - val_loss: 0.5628 - val_binary_accuracy: 0.6970 - 364ms/epoch - 28ms/step\n",
      "Epoch 4/50\n",
      "13/13 - 0s - loss: 0.3889 - binary_accuracy: 0.7937 - val_loss: 0.4873 - val_binary_accuracy: 0.7576 - 366ms/epoch - 28ms/step\n",
      "Epoch 5/50\n",
      "13/13 - 0s - loss: 0.3111 - binary_accuracy: 0.8519 - val_loss: 0.5133 - val_binary_accuracy: 0.8081 - 370ms/epoch - 28ms/step\n",
      "Epoch 6/50\n",
      "13/13 - 0s - loss: 0.2153 - binary_accuracy: 0.8899 - val_loss: 0.5091 - val_binary_accuracy: 0.8081 - 359ms/epoch - 28ms/step\n",
      "Epoch 7/50\n",
      "13/13 - 0s - loss: 0.1936 - binary_accuracy: 0.9101 - val_loss: 0.4789 - val_binary_accuracy: 0.8535 - 360ms/epoch - 28ms/step\n",
      "Epoch 8/50\n",
      "13/13 - 0s - loss: 0.1324 - binary_accuracy: 0.9354 - val_loss: 0.4837 - val_binary_accuracy: 0.8485 - 397ms/epoch - 31ms/step\n",
      "Epoch 9/50\n",
      "13/13 - 0s - loss: 0.1338 - binary_accuracy: 0.9405 - val_loss: 0.4893 - val_binary_accuracy: 0.8485 - 367ms/epoch - 28ms/step\n",
      "Epoch 10/50\n",
      "13/13 - 0s - loss: 0.0856 - binary_accuracy: 0.9582 - val_loss: 0.5121 - val_binary_accuracy: 0.8636 - 370ms/epoch - 28ms/step\n",
      "Epoch 11/50\n",
      "13/13 - 0s - loss: 0.0988 - binary_accuracy: 0.9519 - val_loss: 0.7376 - val_binary_accuracy: 0.8434 - 436ms/epoch - 34ms/step\n",
      "Epoch 12/50\n",
      "13/13 - 0s - loss: 0.0666 - binary_accuracy: 0.9696 - val_loss: 0.6157 - val_binary_accuracy: 0.8485 - 438ms/epoch - 34ms/step\n",
      "Epoch 13/50\n",
      "13/13 - 0s - loss: 0.0728 - binary_accuracy: 0.9684 - val_loss: 0.8833 - val_binary_accuracy: 0.8283 - 370ms/epoch - 28ms/step\n",
      "Epoch 14/50\n",
      "13/13 - 0s - loss: 0.0838 - binary_accuracy: 0.9620 - val_loss: 0.5612 - val_binary_accuracy: 0.8737 - 364ms/epoch - 28ms/step\n",
      "Epoch 15/50\n",
      "13/13 - 0s - loss: 0.0790 - binary_accuracy: 0.9646 - val_loss: 0.6229 - val_binary_accuracy: 0.8788 - 366ms/epoch - 28ms/step\n",
      "Epoch 16/50\n",
      "13/13 - 0s - loss: 0.0664 - binary_accuracy: 0.9709 - val_loss: 0.6174 - val_binary_accuracy: 0.8838 - 359ms/epoch - 28ms/step\n",
      "Epoch 17/50\n",
      "13/13 - 0s - loss: 0.0586 - binary_accuracy: 0.9747 - val_loss: 0.6055 - val_binary_accuracy: 0.8687 - 359ms/epoch - 28ms/step\n",
      "Epoch 18/50\n",
      "13/13 - 0s - loss: 0.0754 - binary_accuracy: 0.9722 - val_loss: 0.7026 - val_binary_accuracy: 0.8636 - 362ms/epoch - 28ms/step\n",
      "Epoch 19/50\n",
      "13/13 - 0s - loss: 0.0391 - binary_accuracy: 0.9848 - val_loss: 0.7871 - val_binary_accuracy: 0.8283 - 363ms/epoch - 28ms/step\n",
      "Epoch 20/50\n",
      "13/13 - 0s - loss: 0.0550 - binary_accuracy: 0.9823 - val_loss: 0.7818 - val_binary_accuracy: 0.8687 - 359ms/epoch - 28ms/step\n",
      "Epoch 21/50\n",
      "13/13 - 0s - loss: 0.0342 - binary_accuracy: 0.9785 - val_loss: 0.8598 - val_binary_accuracy: 0.8636 - 359ms/epoch - 28ms/step\n",
      "Epoch 22/50\n",
      "13/13 - 0s - loss: 0.0419 - binary_accuracy: 0.9759 - val_loss: 0.8214 - val_binary_accuracy: 0.8687 - 355ms/epoch - 27ms/step\n",
      "Epoch 23/50\n",
      "13/13 - 0s - loss: 0.0390 - binary_accuracy: 0.9873 - val_loss: 0.8616 - val_binary_accuracy: 0.8889 - 357ms/epoch - 27ms/step\n",
      "Epoch 24/50\n",
      "13/13 - 0s - loss: 0.0236 - binary_accuracy: 0.9886 - val_loss: 0.8961 - val_binary_accuracy: 0.8788 - 363ms/epoch - 28ms/step\n",
      "Epoch 25/50\n",
      "13/13 - 0s - loss: 0.0435 - binary_accuracy: 0.9797 - val_loss: 0.9325 - val_binary_accuracy: 0.8788 - 369ms/epoch - 28ms/step\n",
      "Epoch 26/50\n",
      "13/13 - 0s - loss: 0.0298 - binary_accuracy: 0.9835 - val_loss: 1.0380 - val_binary_accuracy: 0.8687 - 364ms/epoch - 28ms/step\n",
      "Epoch 27/50\n",
      "13/13 - 0s - loss: 0.0331 - binary_accuracy: 0.9873 - val_loss: 0.7556 - val_binary_accuracy: 0.8788 - 346ms/epoch - 27ms/step\n",
      "Epoch 28/50\n",
      "13/13 - 0s - loss: 0.0235 - binary_accuracy: 0.9899 - val_loss: 0.7909 - val_binary_accuracy: 0.8737 - 342ms/epoch - 26ms/step\n",
      "Epoch 29/50\n",
      "13/13 - 0s - loss: 0.0320 - binary_accuracy: 0.9797 - val_loss: 0.8692 - val_binary_accuracy: 0.8838 - 344ms/epoch - 26ms/step\n",
      "Epoch 30/50\n",
      "13/13 - 0s - loss: 0.0257 - binary_accuracy: 0.9823 - val_loss: 0.9516 - val_binary_accuracy: 0.8889 - 346ms/epoch - 27ms/step\n",
      "Epoch 31/50\n",
      "13/13 - 0s - loss: 0.0334 - binary_accuracy: 0.9810 - val_loss: 1.0298 - val_binary_accuracy: 0.8737 - 350ms/epoch - 27ms/step\n",
      "Epoch 32/50\n",
      "13/13 - 0s - loss: 0.0571 - binary_accuracy: 0.9835 - val_loss: 0.9873 - val_binary_accuracy: 0.8788 - 341ms/epoch - 26ms/step\n",
      "Epoch 33/50\n",
      "13/13 - 0s - loss: 0.0417 - binary_accuracy: 0.9823 - val_loss: 0.8642 - val_binary_accuracy: 0.8636 - 340ms/epoch - 26ms/step\n",
      "Epoch 34/50\n",
      "13/13 - 0s - loss: 0.0322 - binary_accuracy: 0.9861 - val_loss: 0.8341 - val_binary_accuracy: 0.8636 - 342ms/epoch - 26ms/step\n",
      "Epoch 35/50\n",
      "13/13 - 0s - loss: 0.0259 - binary_accuracy: 0.9835 - val_loss: 0.8901 - val_binary_accuracy: 0.8586 - 345ms/epoch - 27ms/step\n",
      "Epoch 36/50\n",
      "13/13 - 0s - loss: 0.0349 - binary_accuracy: 0.9823 - val_loss: 1.0418 - val_binary_accuracy: 0.8636 - 352ms/epoch - 27ms/step\n",
      "Epoch 37/50\n",
      "13/13 - 0s - loss: 0.0329 - binary_accuracy: 0.9810 - val_loss: 1.0230 - val_binary_accuracy: 0.8636 - 346ms/epoch - 27ms/step\n",
      "Epoch 38/50\n",
      "13/13 - 0s - loss: 0.0400 - binary_accuracy: 0.9848 - val_loss: 0.8776 - val_binary_accuracy: 0.8333 - 347ms/epoch - 27ms/step\n",
      "Epoch 39/50\n",
      "13/13 - 0s - loss: 0.0396 - binary_accuracy: 0.9797 - val_loss: 1.0500 - val_binary_accuracy: 0.8586 - 359ms/epoch - 28ms/step\n",
      "Epoch 40/50\n",
      "13/13 - 0s - loss: 0.0452 - binary_accuracy: 0.9747 - val_loss: 0.9341 - val_binary_accuracy: 0.8687 - 350ms/epoch - 27ms/step\n",
      "Epoch 41/50\n",
      "13/13 - 0s - loss: 0.0329 - binary_accuracy: 0.9823 - val_loss: 0.8753 - val_binary_accuracy: 0.8586 - 421ms/epoch - 32ms/step\n",
      "Epoch 42/50\n",
      "13/13 - 0s - loss: 0.0320 - binary_accuracy: 0.9810 - val_loss: 0.9038 - val_binary_accuracy: 0.8485 - 415ms/epoch - 32ms/step\n",
      "Epoch 43/50\n",
      "13/13 - 0s - loss: 0.0290 - binary_accuracy: 0.9835 - val_loss: 0.9519 - val_binary_accuracy: 0.8636 - 390ms/epoch - 30ms/step\n",
      "Epoch 44/50\n",
      "13/13 - 0s - loss: 0.0321 - binary_accuracy: 0.9861 - val_loss: 0.9879 - val_binary_accuracy: 0.8535 - 396ms/epoch - 30ms/step\n",
      "Epoch 45/50\n",
      "13/13 - 0s - loss: 0.0265 - binary_accuracy: 0.9835 - val_loss: 0.8934 - val_binary_accuracy: 0.8434 - 367ms/epoch - 28ms/step\n",
      "Epoch 46/50\n",
      "13/13 - 0s - loss: 0.0187 - binary_accuracy: 0.9899 - val_loss: 0.9216 - val_binary_accuracy: 0.8485 - 378ms/epoch - 29ms/step\n",
      "Epoch 47/50\n",
      "13/13 - 0s - loss: 0.0290 - binary_accuracy: 0.9797 - val_loss: 0.9530 - val_binary_accuracy: 0.8485 - 386ms/epoch - 30ms/step\n",
      "Epoch 48/50\n",
      "13/13 - 0s - loss: 0.0204 - binary_accuracy: 0.9873 - val_loss: 1.0376 - val_binary_accuracy: 0.8586 - 380ms/epoch - 29ms/step\n",
      "Epoch 49/50\n",
      "13/13 - 0s - loss: 0.0336 - binary_accuracy: 0.9835 - val_loss: 1.0153 - val_binary_accuracy: 0.8586 - 382ms/epoch - 29ms/step\n",
      "Epoch 50/50\n",
      "13/13 - 0s - loss: 0.0213 - binary_accuracy: 0.9861 - val_loss: 1.0901 - val_binary_accuracy: 0.8586 - 360ms/epoch - 28ms/step\n"
     ]
    },
    {
     "data": {
      "text/plain": [
       "<keras.callbacks.History at 0x222233d7670>"
      ]
     },
     "execution_count": 279,
     "metadata": {},
     "output_type": "execute_result"
    }
   ],
   "source": [
    "# compile network\n",
    "model.compile(loss='binary_crossentropy', optimizer='adam', metrics=['binary_accuracy'])\n",
    "# fit network\n",
    "# better to fit multiple times\n",
    "model.fit(X_train_resampled, Y_train_hot, epochs=50, verbose=2, validation_split=0.2, callbacks=[early_stopping])"
   ]
  },
  {
   "cell_type": "code",
   "execution_count": 280,
   "metadata": {},
   "outputs": [
    {
     "name": "stdout",
     "output_type": "stream",
     "text": [
      "4/4 [==============================] - 0s 5ms/step\n"
     ]
    }
   ],
   "source": [
    "predictions = model.predict(Xtest)"
   ]
  },
  {
   "cell_type": "code",
   "execution_count": 281,
   "metadata": {},
   "outputs": [
    {
     "data": {
      "text/plain": [
       "(124, 2)"
      ]
     },
     "execution_count": 281,
     "metadata": {},
     "output_type": "execute_result"
    }
   ],
   "source": [
    "predictions.shape"
   ]
  },
  {
   "cell_type": "code",
   "execution_count": 282,
   "metadata": {},
   "outputs": [],
   "source": [
    "predictions = np.round(predictions)"
   ]
  },
  {
   "cell_type": "code",
   "execution_count": 283,
   "metadata": {},
   "outputs": [
    {
     "name": "stdout",
     "output_type": "stream",
     "text": [
      "              precision    recall  f1-score   support\n",
      "\n",
      "           0       0.83      0.73      0.78        41\n",
      "           1       0.88      0.93      0.90        83\n",
      "\n",
      "   micro avg       0.86      0.86      0.86       124\n",
      "   macro avg       0.85      0.83      0.84       124\n",
      "weighted avg       0.86      0.86      0.86       124\n",
      " samples avg       0.86      0.86      0.86       124\n",
      "\n"
     ]
    }
   ],
   "source": [
    "from sklearn.metrics import classification_report\n",
    "print(classification_report(Y_test_hot, predictions))"
   ]
  },
  {
   "cell_type": "code",
   "execution_count": 284,
   "metadata": {},
   "outputs": [
    {
     "name": "stdout",
     "output_type": "stream",
     "text": [
      "total number of types extracted is: 7\n",
      "[['bad', 'user', 'experience', 'slow', 'communication', 'sound', 'weak']]\n",
      "1/1 [==============================] - 0s 76ms/step\n"
     ]
    },
    {
     "data": {
      "text/plain": [
       "array([[1., 0.]], dtype=float32)"
      ]
     },
     "execution_count": 284,
     "metadata": {},
     "output_type": "execute_result"
    }
   ],
   "source": [
    "x = [\"Bad user experience, slow communication and the sound is not strong\"]\n",
    "review, temp = tokenize_list_of_text(x, custom_stopwords, False, 2)\n",
    "print(temp)\n",
    "seq_review = t.texts_to_sequences(temp)\n",
    "padded_review = pad_sequences(seq_review, maxlen=max_length, padding='post')\n",
    "preds = np.round(model.predict(padded_review))\n",
    "preds"
   ]
  },
  {
   "cell_type": "code",
   "execution_count": 285,
   "metadata": {},
   "outputs": [
    {
     "name": "stdout",
     "output_type": "stream",
     "text": [
      "1/1 [==============================] - 0s 36ms/step\n"
     ]
    },
    {
     "data": {
      "text/plain": [
       "array([[0.9909038 , 0.00799437]], dtype=float32)"
      ]
     },
     "execution_count": 285,
     "metadata": {},
     "output_type": "execute_result"
    }
   ],
   "source": [
    "model.predict(padded_review)"
   ]
  },
  {
   "cell_type": "code",
   "execution_count": 78,
   "metadata": {},
   "outputs": [],
   "source": [
    "# [1, 0] is equal to negative label"
   ]
  },
  {
   "cell_type": "code",
   "execution_count": null,
   "metadata": {},
   "outputs": [],
   "source": []
  }
 ],
 "metadata": {
  "kernelspec": {
   "display_name": "Python 3",
   "language": "python",
   "name": "python3"
  },
  "language_info": {
   "codemirror_mode": {
    "name": "ipython",
    "version": 3
   },
   "file_extension": ".py",
   "mimetype": "text/x-python",
   "name": "python",
   "nbconvert_exporter": "python",
   "pygments_lexer": "ipython3",
   "version": "3.10.6"
  },
  "orig_nbformat": 4,
  "vscode": {
   "interpreter": {
    "hash": "43973268aa23c7cf4b4cafe0e819fac9b2412fcc991a21988492c3271a4e3f9b"
   }
  }
 },
 "nbformat": 4,
 "nbformat_minor": 2
}
