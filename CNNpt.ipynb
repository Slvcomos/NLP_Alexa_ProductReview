{
 "cells": [
  {
   "attachments": {},
   "cell_type": "markdown",
   "metadata": {},
   "source": [
    "### Questo notebook implementa un Convolutional Neural Network che utilizza, però, i vettori pretrainati. Questi sono comunque soggetti a fine-tuning nel layer \"Embeddings\" col parametro trainable = True"
   ]
  },
  {
   "cell_type": "code",
   "execution_count": 226,
   "metadata": {},
   "outputs": [],
   "source": [
    "from keras.preprocessing import sequence\n",
    "from keras.models import Sequential\n",
    "from keras.layers import Dense, Dropout, Activation\n",
    "from keras.preprocessing.text import Tokenizer\n",
    "from keras.utils import pad_sequences\n",
    "import pandas as pd\n",
    "import nltk\n",
    "from sklearn.model_selection import train_test_split\n",
    "from sklearn import metrics\n",
    "from sklearn.svm import LinearSVC, SVC\n",
    "from sklearn.naive_bayes import MultinomialNB\n",
    "from sklearn.feature_extraction.text import TfidfVectorizer\n",
    "import string\n",
    "from nltk import pos_tag\n",
    "from nltk.corpus import stopwords\n",
    "from nltk.corpus import wordnet\n",
    "import re\n",
    "import gensim\n",
    "from gensim.models import KeyedVectors\n",
    "import numpy as np\n",
    "from collections import Counter\n",
    "from numpy import dot\n",
    "from numpy.linalg import norm\n",
    "from gensim.models import Word2Vec\n",
    "from gensim.models.phrases import Phrases\n",
    "from nltk import sent_tokenize\n",
    "from nltk.tokenize.treebank import TreebankWordDetokenizer\n",
    "import gensim.downloader as api\n",
    "from sklearn.model_selection import GridSearchCV, StratifiedKFold\n",
    "from sklearn.metrics import accuracy_score, f1_score, classification_report\n",
    "from sklearn.metrics import accuracy_score, precision_score, recall_score, make_scorer\n",
    "from preprocessing import *"
   ]
  },
  {
   "cell_type": "code",
   "execution_count": 227,
   "metadata": {},
   "outputs": [],
   "source": [
    "w2v_model = Word2Vec.load(\"w2vPreTrained\")"
   ]
  },
  {
   "cell_type": "code",
   "execution_count": 228,
   "metadata": {},
   "outputs": [
    {
     "name": "stdout",
     "output_type": "stream",
     "text": [
      "(3150, 6)\n",
      "(3150, 6)\n",
      "(2998, 6)\n",
      "(2196, 6)\n"
     ]
    }
   ],
   "source": [
    "dataset = pd.read_csv(\"amazon_alexa.tsv\", sep = \"\\t\", encoding = \"utf-8\")\n",
    "print(dataset.shape)\n",
    "dataset.dropna(inplace = True)\n",
    "print(dataset.shape)\n",
    "dataset.drop(dataset[dataset.rating == 3].index, inplace=True)\n",
    "print(dataset.shape)\n",
    "dataset.drop_duplicates(subset = \"verified_reviews\", inplace = True)\n",
    "print(dataset.shape)"
   ]
  },
  {
   "cell_type": "code",
   "execution_count": 229,
   "metadata": {},
   "outputs": [
    {
     "name": "stdout",
     "output_type": "stream",
     "text": [
      "1    1990\n",
      "0     206\n",
      "Name: feedback, dtype: int64\n"
     ]
    }
   ],
   "source": [
    "print(dataset[\"feedback\"].value_counts())"
   ]
  },
  {
   "cell_type": "code",
   "execution_count": 230,
   "metadata": {},
   "outputs": [],
   "source": [
    "X = np.array(dataset[\"verified_reviews\"].values).reshape(-1, 1)\n",
    "y = list(dataset[\"feedback\"].values)"
   ]
  },
  {
   "cell_type": "code",
   "execution_count": 231,
   "metadata": {},
   "outputs": [
    {
     "name": "stdout",
     "output_type": "stream",
     "text": [
      "Resampled dataset shape Counter({1: 412, 0: 206})\n"
     ]
    }
   ],
   "source": [
    "from imblearn.under_sampling import RandomUnderSampler\n",
    "from collections import Counter\n",
    "\n",
    "undersampler = RandomUnderSampler(sampling_strategy=0.5, random_state = 0)\n",
    "\n",
    "X, y = undersampler.fit_resample(X, y)\n",
    "\n",
    "\n",
    "print('Resampled dataset shape %s' % Counter(y))"
   ]
  },
  {
   "cell_type": "code",
   "execution_count": 232,
   "metadata": {},
   "outputs": [],
   "source": [
    "X_temp = []\n",
    "\n",
    "for rev in X:\n",
    "  X_temp.append(rev[0])"
   ]
  },
  {
   "cell_type": "code",
   "execution_count": 244,
   "metadata": {},
   "outputs": [
    {
     "name": "stdout",
     "output_type": "stream",
     "text": [
      "total number of types extracted is: 1788\n"
     ]
    }
   ],
   "source": [
    "new_text, new_sent_tok = tokenize_list_of_text(X_temp, custom_stopwords, False, 2)"
   ]
  },
  {
   "cell_type": "code",
   "execution_count": 245,
   "metadata": {},
   "outputs": [],
   "source": [
    "cleaned_reviews = frequency_cleaning(new_sent_tok, 2)"
   ]
  },
  {
   "cell_type": "code",
   "execution_count": 246,
   "metadata": {},
   "outputs": [],
   "source": [
    "bigrams = Phrases(cleaned_reviews, scoring=\"npmi\", threshold=0.60) #estrae le collocazioni tramite PMI"
   ]
  },
  {
   "cell_type": "code",
   "execution_count": 247,
   "metadata": {},
   "outputs": [],
   "source": [
    "X_train, X_test, Y_train, Y_test = train_test_split(bigrams[cleaned_reviews], y, test_size=0.20, random_state=10)"
   ]
  },
  {
   "cell_type": "code",
   "execution_count": 248,
   "metadata": {},
   "outputs": [
    {
     "name": "stdout",
     "output_type": "stream",
     "text": [
      "['joke']\n",
      "-\n",
      "['laugh']\n",
      "--------------------------\n",
      "['price', 'product', 'nice', 'quality', 'nice', 'feature', 'definitely', 'reason', 'give', 'think', 'may', 'buyer', 'error', 'first', 'ignore', 'product', 'plug', 'time', 'work', 'really', 'unlike', 'not_a', 'stand', 'device', 'also', 'speaker', 'not_very', 'loud', 'buy', 'bluetooth', 'speaker', 'sure', 'lot', 'figure', 'use', 'kind', 'seem', 'like', 'device', 'plus', 'set', 'awful', 'would', 'definitely', 'money', 'buy', 'one', 'actually']\n",
      "-\n",
      "['cost', 'product', 'decent', 'quality', 'decent', 'feature', 'definitely', 'reason', 'present', 'imagine', 'may', 'buyer', 'error', 'start', 'ignore', 'product', 'plug', 'sentence', 'run', 'truly', 'different', 'not_a', 'base', 'device', 'also', 'speaker', 'not_very', 'loudly', 'purchase', 'bluetooth', 'speaker', 'sure', 'plenty', 'figure', 'utilize', 'kind', 'seem', 'wish', 'device', 'plus', 'adjust', 'terrible', 'would', 'definitely', 'money', 'purchase', 'one', 'really']\n",
      "--------------------------\n",
      "['never', 'work']\n",
      "-\n",
      "['never', 'run']\n",
      "--------------------------\n",
      "['order', 'deal', 'day', 'idle', 'day']\n",
      "-\n",
      "['order', 'bargain', 'day', 'idle', 'day']\n",
      "--------------------------\n",
      "['great', 'product', 'useless', 'overall', 'many', 'feature', 'unless', 'smart', 'home', 'obviate']\n",
      "-\n",
      "['outstanding', 'product', 'useless', 'overall', 'many', 'feature', 'unless', 'smart', 'house', 'obviate']\n",
      "--------------------------\n",
      "['use', 'idle']\n",
      "-\n",
      "['utilize', 'idle']\n",
      "--------------------------\n",
      "['much', 'difficult', 'use']\n",
      "-\n",
      "['much', 'hard', 'utilize']\n",
      "--------------------------\n",
      "['two', 'week', 'set', 'unretentive', 'work', 'dark', 'guess', 'lack', 'purchase', 'refurbished']\n",
      "-\n",
      "['two', 'week', 'adjust', 'unretentive', 'run', 'blue', 'think', 'miss', 'buy', 'refurbish']\n",
      "--------------------------\n",
      "['use', 'hear', 'news', 'concern', 'wish', 'would', 'something', 'firmware', 'yet']\n",
      "-\n",
      "['utilize', 'listen', 'news', 'worry', 'like', 'would', 'something', 'firmware', 'still']\n",
      "--------------------------\n",
      "['really', 'happy', 'original', 'thought', 'get', 'use', 'bedroom', 'really', 'disappointed', 'audio', 'quality', 'connect', 'speaker', 'via', 'bluetooth', 'audio', 'much', 'good', 'start', 'problem', 'connection', 'wifi', 'bluetooth', 'connect', 'speaker', 'via', 'wifi', 'wake', 'middle', 'night', 'horrible', 'sound', 'hop', 'take', 'thing', 'back', 'give', 'good', 'deal', 'spot', 'hope', 'good', 'device']\n",
      "-\n",
      "['truly', 'glad', 'original', 'think', 'receive', 'utilize', 'bedroom', 'truly', 'disappoint', 'sound', 'quality', 'link', 'speaker', 'via', 'bluetooth', 'sound', 'much', 'well', 'begin', 'trouble', 'connection', 'wifi', 'bluetooth', 'link', 'speaker', 'via', 'wifi', 'awake', 'eye', 'dark', 'horrible', 'audio', 'hop', 'bring', 'thing', 'back', 'present', 'well', 'bargain', 'place', 'promise', 'well', 'device']\n",
      "--------------------------\n",
      "['bad', 'purchase', 'make', 'big', 'love', 'brand', 'digital', 'music', 'video', 'even', 'buy', 'game', 'music', 'movie', 'app', 'try', 'use', 'make', 'simple', 'purchase', 'anything', 'useless']\n",
      "-\n",
      "['badly', 'buy', 'ready', 'large', 'enjoy', 'brand', 'digital', 'music', 'picture', 'still', 'purchase', 'game', 'music', 'movie', 'app', 'attempt', 'utilize', 'ready', 'simple', 'buy', 'anything', 'useless']\n",
      "--------------------------\n",
      "['sound', 'terrible', 'like', 'love', 'item', 'awful']\n",
      "-\n",
      "['audio', 'awful', 'wish', 'enjoy', 'item', 'terrible']\n",
      "--------------------------\n",
      "['product', 'two', 'software', 'make', 'completely', 'card', 'homescreen', 'call', 'thing', 'try', 'service', 'try', 'turn', 'homescreen', 'card', 'not_this', 'one', 'homescreen', 'card', 'cycle', 'annoy', 'set', 'card', 'cycle', 'instead', 'cycle', 'continuously', 'setting', 'idle', 'unit', 'set', 'cycle', 'card', 'still', 'continue', 'cycle', 'time', 'reboot', 'device', 'set', 'etc', 'etc', 'two', 'software', 'issue', 'fix', 'product', 'useless']\n",
      "-\n",
      "['product', 'two', 'software', 'ready', 'totally', 'card', 'homescreen', 'phone', 'thing', 'attempt', 'service', 'attempt', 'play', 'homescreen', 'card', 'not_this', 'one', 'homescreen', 'card', 'cycle', 'irritate', 'adjust', 'card', 'cycle', 'instead', 'cycle', 'continuously', 'position', 'idle', 'unit', 'adjust', 'cycle', 'card', 'yet', 'proceed', 'cycle', 'sentence', 'reboot', 'device', 'adjust', 'etc', 'etc', 'two', 'software', 'issue', 'repair', 'product', 'useless']\n",
      "--------------------------\n",
      "['sound', 'home', 'mini', 'sound', 'bad', 'also', 'need', 'small', 'selection', 'music', 'need', 'music', 'play', 'everything', 'also', 'get', 'two', 'need', 'family', 'music', 'play_music', 'think', 'need', 'family', 'use', 'multiple', 'device']\n",
      "-\n",
      "['audio', 'house', 'mini', 'audio', 'badly', 'also', 'want', 'little', 'option', 'music', 'want', 'music', 'turn', 'everything', 'also', 'receive', 'two', 'want', 'household', 'music', 'play_music', 'imagine', 'want', 'household', 'utilize', 'multiple', 'device']\n",
      "--------------------------\n",
      "['work', 'fine', 'realize', 'obviate', 'not_use']\n",
      "-\n",
      "['run', 'okay', 'see', 'obviate', 'not_use']\n",
      "--------------------------\n",
      "['fine', 'spot', 'exact', 'one', 'order', 'turn', 'repeat', 'alarm', 'morning', 'pretty', 'much', 'talk', 'not_a', 'thing', 'want', 'first', 'wake', 'bed', 'definitely', 'unlike', 'yes', 'swipe', 'alarm', 'face', 'dismiss', 'swipe', 'rather', 'touch', 'screen', 'half', 'asleep', 'difficult', 'set', 'snooze', 'half', 'time', 'even', 'really', 'try', 'swipe', 'dismiss', 'swipe', 'dismiss', 'completely', 'alarm', 'especially', 'annoy', 'could', 'easily', 'fix', 'make', 'touch', 'screen', 'turn', 'alarm', 'record', 'least', 'make', 'set', 'decide', 'touch', 'screen', 'alarm', 'snooze', 'turn', 'clock', 'year', 'still', 'set', 'clearly', 'may', 'big', 'product', 'ever', 'make']\n",
      "-\n",
      "['okay', 'place', 'precise', 'one', 'order', 'play', 'repeat', 'alarm', 'morning', 'fairly', 'much', 'speak', 'not_a', 'thing', 'need', 'start', 'awake', 'bed', 'definitely', 'different', 'yes', 'swipe', 'alarm', 'face', 'dismiss', 'swipe', 'rather', 'disturb', 'screen', 'half', 'asleep', 'hard', 'adjust', 'snooze', 'half', 'sentence', 'still', 'truly', 'attempt', 'swipe', 'dismiss', 'swipe', 'dismiss', 'totally', 'alarm', 'particularly', 'irritate', 'could', 'easy', 'repair', 'ready', 'disturb', 'screen', 'play', 'alarm', 'book', 'least', 'ready', 'adjust', 'settle', 'disturb', 'screen', 'alarm', 'snooze', 'play', 'clock', 'year', 'yet', 'adjust', 'clear', 'may', 'large', 'product', 'ever', 'ready']\n",
      "--------------------------\n",
      "['would', 'not_recommend', 'anyone', 'idle', 'program', 'way', 'thru', 'tell', 'unable', 'process', 'time', 'try', 'not_the', 'stream', 'fine', 'computer', 'disappointing']\n",
      "-\n",
      "['would', 'not_recommend', 'anyone', 'idle', 'program', 'way', 'thru', 'say', 'unable', 'procedure', 'sentence', 'attempt', 'not_the', 'stream', 'okay', 'computer', 'disappointing']\n",
      "--------------------------\n",
      "['product', 'dark', 'never', 'reset', 'instruction', 'actually', 'differ', 'package', 'instruction', 'try', 'product', 'defective']\n",
      "-\n",
      "['product', 'blue', 'never', 'reset', 'direction', 'really', 'differ', 'box', 'direction', 'attempt', 'product', 'faulty']\n",
      "--------------------------\n",
      "['turn']\n",
      "-\n",
      "['play']\n",
      "--------------------------\n",
      "['device', 'want', 'sync', 'phone', 'number', 'would', 'forbid', 'say', 'number', 'already', 'use', 'customer', 'service', 'could', 'basically', 'tell', 'phone', 'set', 'kind', 'pointless', 'pay']\n",
      "-\n",
      "['device', 'need', 'sync', 'call', 'amount', 'would', 'forbid', 'tell', 'amount', 'already', 'utilize', 'customer', 'service', 'could', 'essentially', 'say', 'call', 'adjust', 'kind', 'pointless', 'give']\n",
      "--------------------------\n",
      "['still', 'unable', 'connect', 'device', 'say', 'build', 'buy', 'bridge', 'connect', 'device', 'think', 'everything', 'would', 'sync', 'device', 'still', 'via', 'plus', 'look_forward', 'feature', 'able', 'play_music', 'check', 'weather', 'etc', 'fine']\n",
      "-\n",
      "['yet', 'unable', 'link', 'device', 'tell', 'build', 'purchase', 'bridge', 'link', 'device', 'imagine', 'everything', 'would', 'sync', 'device', 'yet', 'via', 'plus', 'look_forward', 'feature', 'able', 'play_music', 'check', 'weather', 'etc', 'okay']\n",
      "--------------------------\n",
      "['need', 'buy', 'get', 'work', 'many', 'device', 'want', 'money', 'back', 'thing', 'odd', 'turn', 'unless', 'buy', 'another', 'point', 'half', 'device', 'sell', 'thing', 'unless', 'want', 'spend', 'another', 'another', 'idle', 'many', 'device', 'must', 'not_this', 'good', 'yet', 'get', 'device', 'actually', 'understand', 'talk']\n",
      "-\n",
      "['want', 'purchase', 'receive', 'run', 'many', 'device', 'need', 'money', 'back', 'thing', 'odd', 'play', 'unless', 'purchase', 'another', 'point', 'half', 'device', 'trade', 'thing', 'unless', 'need', 'spend', 'another', 'another', 'idle', 'many', 'device', 'must', 'not_this', 'well', 'still', 'receive', 'device', 'really', 'interpret', 'speak']\n",
      "--------------------------\n",
      "['replace', 'one', 'move', 'lack', 'range', 'refurbish', 'unit', 'would', 'able', 'find', 'could', 'disconnect', 'get', 'hear', 'trouble', 'connect', 'check', 'app', 'unplug', 'several', 'time', 'not_a']\n",
      "-\n",
      "['substitute', 'one', 'movement', 'miss', 'range', 'refurbish', 'unit', 'would', 'able', 'discover', 'could', 'unplug', 'receive', 'listen', 'problem', 'link', 'check', 'app', 'disconnect', 'various', 'sentence', 'not_a']\n",
      "--------------------------\n",
      "['purchase', 'use', 'idle', 'application']\n",
      "-\n",
      "['buy', 'utilize', 'idle', 'application']\n",
      "--------------------------\n",
      "['much', 'price', 'speaker']\n",
      "-\n",
      "['much', 'cost', 'speaker']\n",
      "--------------------------\n",
      "['suppose', 'come', 'free', 'hue', 'day', 'dark', 'bulb']\n",
      "-\n",
      "['think', 'arrive', 'free', 'hue', 'day', 'blue', 'lightbulb']\n",
      "--------------------------\n",
      "['idle', 'say', 'disconnect', 'network']\n",
      "-\n",
      "['idle', 'tell', 'unplug', 'mesh']\n",
      "--------------------------\n",
      "['buy', 'refurbish', 'stop', 'function', 'quite', 'often', 'sleep', 'every', 'time', 'randomly', 'turn', 'nothing', 'sell', 'refurbished']\n",
      "-\n",
      "['purchase', 'refurbish', 'quit', 'purpose', 'quite', 'frequently', 'sleep', 'every', 'sentence', 'randomly', 'play', 'nothing', 'trade', 'refurbish']\n",
      "--------------------------\n",
      "['product', 'complete', 'waste', 'money', 'ask', 'question', 'either', 'ignore', 'answer', 'give', 'wrong', 'answer', 'find', 'information']\n",
      "-\n",
      "['product', 'finish', 'waste', 'money', 'demand', 'inquiry', 'either', 'ignore', 'response', 'present', 'wrong', 'response', 'discover', 'info']\n",
      "--------------------------\n",
      "['thing', 'work', 'party', 'apps', 'stuff', 'think', 'could', 'box', 'send_back', 'waste', 'money']\n",
      "-\n",
      "['thing', 'run', 'party', 'apps', 'stuff', 'imagine', 'could', 'package', 'send_back', 'waste', 'money']\n",
      "--------------------------\n",
      "['second', 'one', 'refurbished', 'work', 'least', 'home']\n",
      "-\n",
      "['minute', 'one', 'refurbish', 'run', 'least', 'house']\n",
      "--------------------------\n",
      "['item', 'never', 'work', 'box', 'spent', 'several', 'day', 'try', 'get', 'work', 'run', 'fix', 'thing', 'never', 'order', 'another', 'refurbish', 'device']\n",
      "-\n",
      "['item', 'never', 'run', 'package', 'spend', 'various', 'day', 'attempt', 'receive', 'run', 'work', 'repair', 'thing', 'never', 'order', 'another', 'refurbish', 'device']\n",
      "--------------------------\n",
      "['even_though', 'say', 'would', 'spend', 'multiple', 'hour', 'make', 'phone', 'call', 'also', 'miss', 'free', 'bulb']\n",
      "-\n",
      "['even_though', 'tell', 'would', 'spend', 'multiple', 'minute', 'ready', 'call', 'phone', 'also', 'lack', 'free', 'lightbulb']\n",
      "--------------------------\n",
      "['ignore', 'answer', 'many', 'question', 'ask', 'example', 'ask', 'many', 'say', 'money']\n",
      "-\n",
      "['ignore', 'response', 'many', 'inquiry', 'demand', 'example', 'demand', 'many', 'tell', 'money']\n",
      "--------------------------\n",
      "['work', 'well', 'month', 'stop', 'connect', 'internet', 'wifi', 'trouble', 'work', 'customer', 'service', 'could', 'far', 'tell', 'month', 'disappointing', 'replace']\n",
      "-\n",
      "['run', 'good', 'month', 'quit', 'link', 'internet', 'wifi', 'problem', 'run', 'customer', 'service', 'could', 'far', 'say', 'month', 'disappointing', 'substitute']\n",
      "--------------------------\n",
      "['receive', 'wrong', 'product', 'install', 'excitement', 'thank']\n",
      "-\n",
      "['get', 'wrong', 'product', 'instal', 'excitement', 'thank']\n",
      "--------------------------\n",
      "['like', 'day', 'year', 'unretentive', 'work', 'would', 'inability', 'past', 'buy', 'second', 'one', 'sell', 'third', 'one', 'first', 'longer']\n",
      "-\n",
      "['wish', 'day', 'year', 'unretentive', 'run', 'would', 'inability', 'past', 'purchase', 'minute', 'one', 'trade', 'third', 'one', 'start', 'longer']\n",
      "--------------------------\n",
      "['waste', 'money', 'not_really', 'get', 'anything', 'video_chat', 'device', 'would', 'picture', 'put', 'mode', 'first', 'photo', 'even', 'look', 'research', 'lose', 'also', 'problem', 'device', 'lack', 'problem', 'device', 'price', 'difference', 'worthlessness']\n",
      "-\n",
      "['waste', 'money', 'not_really', 'receive', 'anything', 'video_chat', 'device', 'would', 'photo', 'place', 'mood', 'start', 'picture', 'still', 'see', 'research', 'lose', 'also', 'trouble', 'device', 'miss', 'trouble', 'device', 'cost', 'difference', 'worthlessness']\n",
      "--------------------------\n",
      "['disappointed', 'request']\n",
      "-\n",
      "['disappoint', 'request']\n",
      "--------------------------\n",
      "['item', 'return', 'repair', 'item', 'back', 'repair', 'part', 'miss', 'inability', 'cord', 'include', 'please']\n",
      "-\n",
      "['item', 'refund', 'fix', 'item', 'back', 'fix', 'portion', 'lack', 'inability', 'cord', 'include', 'please']\n",
      "--------------------------\n",
      "['send_back', 'turn', 'expect', 'refurbished', 'item']\n",
      "-\n",
      "['send_back', 'play', 'anticipate', 'refurbish', 'item']\n",
      "--------------------------\n",
      "['bad', 'device', 'ignore', 'refurbish', 'activate', 'talk', 'activate', 'start', 'talk', 'talk', 'super']\n",
      "-\n",
      "['badly', 'device', 'ignore', 'refurbish', 'trigger', 'speak', 'trigger', 'begin', 'speak', 'speak', 'extremely']\n",
      "--------------------------\n",
      "['get', 'month', 'idea', 'help', 'control', 'smart', 'bulb', 'useful', 'answer_question', 'get', 'daily', 'weather', 'update', 'far', 'useful', 'half', 'time', 'wake', 'device', 'ask', 'question', 'command', 'say', 'turn', 'basically', 'ignore', 'often', 'unable', 'answer_question', 'work', 'rather', 'make_life', 'easy', 'would', 'return', 'past', 'return']\n",
      "-\n",
      "['receive', 'month', 'idea', 'assistance', 'operate', 'smart', 'lightbulb', 'useful', 'answer_question', 'receive', 'everyday', 'weather', 'update', 'far', 'useful', 'half', 'sentence', 'awake', 'device', 'demand', 'inquiry', 'control', 'tell', 'play', 'essentially', 'ignore', 'frequently', 'unable', 'answer_question', 'run', 'rather', 'make_life', 'easily', 'would', 'refund', 'past', 'refund']\n",
      "--------------------------\n",
      "['slow']\n",
      "-\n",
      "['sluggish']\n",
      "--------------------------\n",
      "['differ', 'excite', 'try', 'new', 'unfortunately', 'even_though', 'foot', 'away', 'router', 'get', 'think', 'little', 'device', 'suppose', 'take', 'issue']\n",
      "-\n",
      "['differ', 'excite', 'attempt', 'new', 'unfortunately', 'even_though', 'foot', 'away', 'router', 'receive', 'imagine', 'small', 'device', 'think', 'bring', 'issue']\n",
      "--------------------------\n",
      "['get', 'excite', 'device', 'good', 'sound', 'control', 'hue', 'not_realize', 'also', 'communicate', 'not_use', 'hue', 'bulb', 'full', 'potential', 'device', 'turn', 'light', 'set', 'number', 'color', 'also', 'bulb', 'new', 'security', 'concern', 'sell', 'want', 'full', 'new', 'device', 'end', 'need', 'update', 'make', 'device', 'pointless', 'still', 'love', 'complaint', 'functionality', 'sound_quality', 'device', 'disappointed', 'functionality']\n",
      "-\n",
      "['receive', 'excite', 'device', 'well', 'audio', 'operate', 'hue', 'not_realize', 'also', 'pass', 'not_use', 'hue', 'lightbulb', 'wide', 'potential', 'device', 'play', 'lighting', 'adjust', 'amount', 'color', 'also', 'lightbulb', 'new', 'security', 'worry', 'trade', 'need', 'wide', 'new', 'device', 'end', 'want', 'update', 'ready', 'device', 'pointless', 'yet', 'enjoy', 'complaint', 'functionality', 'sound_quality', 'device', 'disappoint', 'functionality']\n",
      "--------------------------\n",
      "['get', 'try', 'screen']\n",
      "-\n",
      "['receive', 'attempt', 'screen']\n",
      "--------------------------\n",
      "['purchase', 'plus', 'build', 'come', 'free', 'hue', 'bulb', 'get', 'everything', 'set', 'realize', 'plus', 'forbid', 'full', 'functionality', 'bulb', 'turn', 'light', 'stay', 'color', 'still', 'hue', 'bridge', 'full', 'function', 'feature', 'bulb', 'wish', 'buy', 'bulb', 'bridge', 'use', 'already', 'since', 'build', 'useless', 'buy', 'hue', 'bridge', 'get', 'full', 'light']\n",
      "-\n",
      "['buy', 'plus', 'build', 'arrive', 'free', 'hue', 'lightbulb', 'receive', 'everything', 'adjust', 'see', 'plus', 'forbid', 'wide', 'functionality', 'lightbulb', 'play', 'lighting', 'stop', 'color', 'yet', 'hue', 'bridge', 'wide', 'purpose', 'feature', 'lightbulb', 'like', 'purchase', 'lightbulb', 'bridge', 'utilize', 'already', 'since', 'build', 'useless', 'purchase', 'hue', 'bridge', 'receive', 'wide', 'lighting']\n",
      "--------------------------\n",
      "['terrible', 'stop', 'work', 'one', 'day']\n",
      "-\n",
      "['awful', 'quit', 'run', 'one', 'day']\n",
      "--------------------------\n",
      "['old', 'keep', 'crash', 'use', 'buy', 'one', 'think', 'old', 'one', 'defective', 'one', 'thing', 'back', 'start', 'leave', 'program']\n",
      "-\n",
      "['previous', 'prevent', 'crash', 'utilize', 'purchase', 'one', 'imagine', 'previous', 'one', 'faulty', 'one', 'thing', 'back', 'begin', 'forget', 'program']\n",
      "--------------------------\n",
      "['unbend', 'thing', 'try', 'screen', 'scroll', 'big', 'device', 'send_back', 'really', 'want', 'get', 'enough', 'already']\n",
      "-\n",
      "['unbend', 'thing', 'attempt', 'screen', 'scroll', 'large', 'device', 'send_back', 'truly', 'need', 'receive', 'enough', 'already']\n",
      "--------------------------\n",
      "['never', 'respond', 'speak', 'word', 'think', 'would', 'connect', 'use', 'like', 'intercom', 'differ', 'able']\n",
      "-\n",
      "['never', 'answer', 'talk', 'word', 'imagine', 'would', 'link', 'utilize', 'wish', 'intercom', 'differ', 'able']\n",
      "--------------------------\n",
      "['poor', 'quality', 'give', 'away']\n",
      "-\n",
      "['poor', 'quality', 'present', 'away']\n",
      "--------------------------\n",
      "['return', 'piece', 'garbage', 'soon', 'sure', 'small', 'customer', 'rarely', 'disappointed', 'purchase', 'home', 'automation', 'buy', 'plus', 'build', 'along', 'zigbee', 'light', 'switch', 'voice', 'control', 'even', 'work', 'often', 'nothing', 'could', 'differ', 'disappointed', 'product', 'zigbee', 'value', 'money', 'expect', 'product', 'need', 'look']\n",
      "-\n",
      "['refund', 'piece', 'garbage', 'shortly', 'sure', 'little', 'customer', 'seldom', 'disappoint', 'buy', 'house', 'automation', 'purchase', 'plus', 'build', 'along', 'zigbee', 'lighting', 'change', 'voice', 'operate', 'still', 'run', 'frequently', 'nothing', 'could', 'differ', 'disappoint', 'product', 'zigbee', 'value', 'money', 'anticipate', 'product', 'want', 'see']\n",
      "--------------------------\n",
      "['sound_quality', 'not_that', 'good', 'especially', 'price', 'pay', 'would', 'recommend', 'get', 'buy', 'good', 'speaker', 'instead', 'maybe', 'sonos', 'use']\n",
      "-\n",
      "['sound_quality', 'not_that', 'well', 'particularly', 'cost', 'give', 'would', 'recommend', 'receive', 'purchase', 'well', 'speaker', 'instead', 'perhaps', 'sonos', 'utilize']\n",
      "--------------------------\n",
      "['think', 'get', 'long', 'time', 'excite', 'hue', 'bulb', 'excite', 'end', 'spend', 'hour', 'attempt', 'add', 'bulb', 'plus', 'everything', 'try', 'end', 'try', 'set', 'watch', 'video', 'read', 'set', 'thing', 'expect', 'different', 'next', 'day', 'get', 'tech', 'support', 'hop', 'something', 'would', 'make', 'thing', 'work', 'also', 'problem', 'differ', 'error', 'well', 'tech', 'support', 'phone', 'still', 'idle', 'product', 'test', 'far', 'experience', 'smart', 'home', 'old', 'school', 'reason', 'give', 'two', 'send', 'different', 'plus', 'light_bulb', 'problem', 'not_the', 'bulb', 'item', 'purchase', 'another', 'bulb', 'still', 'could', 'device', 'next', 'attempt', 'defective', 'support', 'thought', 'maybe', 'explore', 'device', 'end', 'look', 'look', 'like', 'disbelieve', 'lose', 'video', 'show', 'problem', 'everything', 'look', 'simple', 'not_the', 'experience', 'review', 'spend', 'enough', 'time', 'already']\n",
      "-\n",
      "['imagine', 'receive', 'long', 'sentence', 'excite', 'hue', 'lightbulb', 'excite', 'end', 'spend', 'minute', 'try', 'bring', 'lightbulb', 'plus', 'everything', 'attempt', 'end', 'attempt', 'adjust', 'see', 'picture', 'understand', 'adjust', 'thing', 'anticipate', 'unlike', 'future', 'day', 'receive', 'tech', 'support', 'hop', 'something', 'would', 'ready', 'thing', 'run', 'also', 'trouble', 'differ', 'error', 'good', 'tech', 'support', 'call', 'yet', 'idle', 'product', 'test', 'far', 'experience', 'smart', 'house', 'previous', 'train', 'reason', 'present', 'two', 'ship', 'unlike', 'plus', 'light_bulb', 'trouble', 'not_the', 'lightbulb', 'item', 'buy', 'another', 'lightbulb', 'yet', 'could', 'device', 'future', 'try', 'faulty', 'support', 'think', 'perhaps', 'explore', 'device', 'end', 'see', 'see', 'wish', 'disbelieve', 'lose', 'picture', 'picture', 'trouble', 'everything', 'see', 'simple', 'not_the', 'experience', 'review', 'spend', 'enough', 'sentence', 'already']\n",
      "--------------------------\n",
      "['horrible', 'volume', 'phone', 'loud', 'device', 'one', 'not_the', 'case']\n",
      "-\n",
      "['horrible', 'loudness', 'call', 'loudly', 'device', 'one', 'not_the', 'case']\n",
      "--------------------------\n",
      "['come']\n",
      "-\n",
      "['arrive']\n",
      "--------------------------\n",
      "['sound', 'terrible', 'want', 'good', 'music', 'get']\n",
      "-\n",
      "['audio', 'awful', 'need', 'well', 'music', 'receive']\n",
      "--------------------------\n",
      "['speaker', 'pretty', 'terrible', 'home', 'good', 'product']\n",
      "-\n",
      "['speaker', 'fairly', 'awful', 'house', 'well', 'product']\n",
      "--------------------------\n",
      "['wish', 'battery', 'well', 'plug', 'item']\n",
      "-\n",
      "['like', 'battery', 'good', 'plug', 'item']\n",
      "--------------------------\n",
      "['idle', 'time']\n",
      "-\n",
      "['idle', 'sentence']\n",
      "--------------------------\n",
      "['smart', 'enough', 'make', 'work', 'send_back', 'cant', 'get', 'help', 'work', 'fine', 'want', 'big', 'speaker']\n",
      "-\n",
      "['smart', 'enough', 'ready', 'run', 'send_back', 'bank', 'receive', 'assistance', 'run', 'okay', 'need', 'large', 'speaker']\n",
      "--------------------------\n",
      "['ignore', 'customer', 'use', 'device', 'tool', 'screen', 'unbend', 'thing', 'try', 'people', 'turn', 'change', 'option', 'size', 'slightly', 'improve', 'audio', 'speaker', 'would', 'give', 'device', 'right', 'return', 'device', 'wife', 'say']\n",
      "-\n",
      "['ignore', 'customer', 'utilize', 'device', 'tool', 'screen', 'unbend', 'thing', 'attempt', 'people', 'play', 'switch', 'choice', 'size', 'slightly', 'improve', 'sound', 'speaker', 'would', 'present', 'device', 'right', 'refund', 'device', 'wife', 'tell']\n",
      "--------------------------\n",
      "['think', 'really', 'unmake', 'much', 'play_music', 'answer', 'stupid', 'question', 'finally', 'able', 'hook', 'thermostat', 'see', 'price', 'drop', 'like']\n",
      "-\n",
      "['imagine', 'truly', 'unmake', 'much', 'play_music', 'response', 'stupid', 'inquiry', 'eventually', 'able', 'addict', 'thermostat', 'visit', 'cost', 'drop', 'wish']\n",
      "--------------------------\n",
      "['buy', 'son', 'idle', 'return']\n",
      "-\n",
      "['purchase', 'son', 'idle', 'refund']\n",
      "--------------------------\n",
      "['first', 'one', 'work', 'get', 'next', 'one', 'voice', 'time', 'way', 'get', 'work', 'app', 'uncertain', 'way']\n",
      "-\n",
      "['start', 'one', 'run', 'receive', 'future', 'one', 'voice', 'sentence', 'way', 'receive', 'run', 'app', 'uncertain', 'way']\n",
      "--------------------------\n",
      "['make', 'receive', 'call', 'device', 'tell', 'need', 'ignore']\n",
      "-\n",
      "['ready', 'get', 'phone', 'device', 'say', 'want', 'ignore']\n",
      "--------------------------\n",
      "['quite', 'disappointed', 'product', 'clearly', 'half', 'time', 'ask', 'two', 'second', 'start', 'whole', 'thing', 'stop', 'couple', 'minute', 'ask', 'play_radio', 'also', 'many', 'time', 'get', 'ask', 'switch', 'light', 'item', 'also', 'name', 'clearly', 'still']\n",
      "-\n",
      "['quite', 'disappoint', 'product', 'clear', 'half', 'sentence', 'demand', 'two', 'minute', 'begin', 'totally', 'thing', 'quit', 'couple', 'second', 'demand', 'play_radio', 'also', 'many', 'sentence', 'receive', 'demand', 'change', 'lighting', 'item', 'also', 'call', 'clear', 'yet']\n",
      "--------------------------\n",
      "['unhappy', 'spot', 'reset', 'time', 'seem', 'slow', 'mode', 'top', 'hear', 'even', 'talk', 'support', 'still', 'lack', 'choose']\n",
      "-\n",
      "['unhappy', 'place', 'reset', 'sentence', 'seem', 'sluggish', 'mood', 'cover', 'listen', 'still', 'speak', 'support', 'yet', 'miss', 'select']\n",
      "--------------------------\n",
      "['load', 'keep', 'reboot', 'middle', 'show']\n",
      "-\n",
      "['load', 'prevent', 'reboot', 'eye', 'picture']\n",
      "--------------------------\n",
      "['device', 'show', 'seem', 'huge', 'potential', 'really', 'want', 'like', 'soon', 'find', 'quite', 'bit', 'disappointing', 'not_the', 'end', 'world', 'use', 'like', 'use', 'little', 'month', 'screen', 'start', 'screen', 'quick', 'look', 'make', 'understand', 'pointless', 'ask', 'replacement', 'people', 'device', 'replace', 'start', 'answer', 'quite', 'time', 'long', 'story', 'short', 'move', 'use', 'expensive', 'voice', 'activate', 'light', 'switch', 'hue', 'light', 'like']\n",
      "-\n",
      "['device', 'picture', 'seem', 'vast', 'potential', 'truly', 'need', 'wish', 'shortly', 'discover', 'quite', 'bit', 'disappointing', 'not_the', 'end', 'world', 'utilize', 'wish', 'utilize', 'small', 'month', 'screen', 'begin', 'screen', 'immediate', 'see', 'ready', 'interpret', 'pointless', 'demand', 'replacement', 'people', 'device', 'substitute', 'begin', 'response', 'quite', 'sentence', 'long', 'story', 'dead', 'movement', 'utilize', 'expensive', 'voice', 'trigger', 'lighting', 'change', 'hue', 'lighting', 'wish']\n",
      "--------------------------\n",
      "['not_it', 'end', 'help', 'replace']\n",
      "-\n",
      "['not_it', 'end', 'assistance', 'substitute']\n",
      "--------------------------\n",
      "['sound', 'terrible', 'play', 'must', 'upgrade', 'music', 'want', 'play', 'one', 'device', 'time']\n",
      "-\n",
      "['audio', 'awful', 'turn', 'must', 'upgrade', 'music', 'need', 'turn', 'one', 'device', 'sentence']\n",
      "--------------------------\n",
      "['need', 'able', 'connect', 'party', 'apps']\n",
      "-\n",
      "['want', 'able', 'link', 'party', 'apps']\n",
      "--------------------------\n",
      "['work', 'fine', 'get', 'thing', 'try', 'not_a', 'year', 'old', 'need', 'tell', 'thing', 'find', 'not_way', 'turn', 'except', 'turn', 'screen', 'lose', 'fix', 'back']\n",
      "-\n",
      "['run', 'okay', 'receive', 'thing', 'attempt', 'not_a', 'year', 'previous', 'want', 'say', 'thing', 'discover', 'not_way', 'play', 'except', 'play', 'screen', 'lose', 'repair', 'back']\n",
      "--------------------------\n"
     ]
    }
   ],
   "source": [
    "negative_reviews = []\n",
    "for rev, label in zip(X_train, Y_train):\n",
    "    if label == 0:\n",
    "        negative_reviews.append(rev)\n",
    "    \n",
    "generated_reviews = generate_samples(negative_reviews, int(len(negative_reviews)/2), w2v_model)\n",
    "\n",
    "# run this only one time\n",
    "X_train.extend(generated_reviews)\n",
    "Y_train.extend([0 for x in generated_reviews])"
   ]
  },
  {
   "cell_type": "code",
   "execution_count": 249,
   "metadata": {},
   "outputs": [
    {
     "name": "stdout",
     "output_type": "stream",
     "text": [
      "Train set is Counter({1: 329, 0: 241})\n",
      "Test set is Counter({1: 83, 0: 41})\n"
     ]
    }
   ],
   "source": [
    "print('Train set is %s' % Counter(Y_train))\n",
    "print('Test set is %s' % Counter(Y_test))"
   ]
  },
  {
   "cell_type": "code",
   "execution_count": 250,
   "metadata": {},
   "outputs": [],
   "source": [
    "t = Tokenizer(lower = False)\n",
    "t.fit_on_texts(X_train)\n",
    "X_train_encoded = t.texts_to_sequences(X_train)\n",
    "max_length = len(max(bigrams[cleaned_reviews], key = len))\n",
    "Xtrain = pad_sequences(X_train_encoded, maxlen=max_length, padding='post')"
   ]
  },
  {
   "cell_type": "code",
   "execution_count": 251,
   "metadata": {},
   "outputs": [],
   "source": [
    "X_test_encoded = t.texts_to_sequences(X_test)\n",
    "Xtest = pad_sequences(X_test_encoded, maxlen=max_length, padding='post')"
   ]
  },
  {
   "cell_type": "code",
   "execution_count": 252,
   "metadata": {},
   "outputs": [],
   "source": [
    "vocab_size = len(t.word_index) + 1"
   ]
  },
  {
   "cell_type": "code",
   "execution_count": 253,
   "metadata": {},
   "outputs": [],
   "source": [
    "def get_weight_matrix(embedding, vocab):\n",
    "    # total vocabulary size plus 0 for unknown words\n",
    "    vocab_size = len(vocab) + 1\n",
    "    # define weight matrix dimensions with all 0\n",
    "    weight_matrix = np.zeros((vocab_size, w2v_model.vector_size))\n",
    "    # step vocab, store vectors using the Tokenizer's integer mapping\n",
    "    not_found = 0\n",
    "    not_found_list = []\n",
    "    for word, i in vocab.items():\n",
    "        try:\n",
    "            vector = embedding[word]\n",
    "            weight_matrix[i] = vector\n",
    "        except KeyError:\n",
    "            weight_matrix[i] = np.zeros((1, w2v_model.vector_size))\n",
    "            not_found+=1\n",
    "            not_found_list.append(word)\n",
    "            continue\n",
    "\n",
    "    print(not_found_list)\n",
    "    print(not_found)\n",
    "    return weight_matrix"
   ]
  },
  {
   "cell_type": "code",
   "execution_count": 254,
   "metadata": {},
   "outputs": [
    {
     "name": "stdout",
     "output_type": "stream",
     "text": [
      "['play_music', 'not_a', 'differ', 'sound_quality', 'not_the', 'send_back', 'still_learn', 'listen_music', 'light_bulb', \"'ve\", 'even_though', \"'re\", 'uncertain', 'answer_question', 'play_radio', 'homescreen', 'unmake', 'look_forward', 'not_very', 'unretentive', 'not_that', 'video_chat', 'alarm_clock', 'forbid', 'not_this', 'make_life', \"'ll\", 'not_i', 'unaware', 'trailer', 'certified', 'not_to', 'excitement', 'not_it']\n",
      "34\n"
     ]
    }
   ],
   "source": [
    "embedding_weights = get_weight_matrix(w2v_model.wv, t.word_index)"
   ]
  },
  {
   "cell_type": "code",
   "execution_count": 255,
   "metadata": {},
   "outputs": [],
   "source": [
    "from keras.layers import Flatten"
   ]
  },
  {
   "cell_type": "code",
   "execution_count": 256,
   "metadata": {},
   "outputs": [],
   "source": [
    "from keras.utils import to_categorical\n",
    "Y_train_hot = to_categorical(Y_train)"
   ]
  },
  {
   "cell_type": "code",
   "execution_count": 257,
   "metadata": {},
   "outputs": [
    {
     "name": "stdout",
     "output_type": "stream",
     "text": [
      "1 [0. 1.]\n",
      "0 [1. 0.]\n"
     ]
    }
   ],
   "source": [
    "print(Y_train[0], Y_train_hot[0])\n",
    "print(Y_train[1], Y_train_hot[1])"
   ]
  },
  {
   "cell_type": "code",
   "execution_count": 258,
   "metadata": {},
   "outputs": [],
   "source": [
    "Y_test_hot = to_categorical(Y_test)"
   ]
  },
  {
   "cell_type": "code",
   "execution_count": 259,
   "metadata": {},
   "outputs": [
    {
     "name": "stdout",
     "output_type": "stream",
     "text": [
      "Model: \"sequential_12\"\n",
      "_________________________________________________________________\n",
      " Layer (type)                Output Shape              Param #   \n",
      "=================================================================\n",
      " embedding_12 (Embedding)    (None, 100, 100)          70100     \n",
      "                                                                 \n",
      " dropout_60 (Dropout)        (None, 100, 100)          0         \n",
      "                                                                 \n",
      " conv1d_12 (Conv1D)          (None, 91, 16)            16016     \n",
      "                                                                 \n",
      " max_pooling1d_12 (MaxPoolin  (None, 45, 16)           0         \n",
      " g1D)                                                            \n",
      "                                                                 \n",
      " flatten_12 (Flatten)        (None, 720)               0         \n",
      "                                                                 \n",
      " dropout_61 (Dropout)        (None, 720)               0         \n",
      "                                                                 \n",
      " dense_48 (Dense)            (None, 100)               72100     \n",
      "                                                                 \n",
      " dropout_62 (Dropout)        (None, 100)               0         \n",
      "                                                                 \n",
      " dense_49 (Dense)            (None, 200)               20200     \n",
      "                                                                 \n",
      " dropout_63 (Dropout)        (None, 200)               0         \n",
      "                                                                 \n",
      " dense_50 (Dense)            (None, 100)               20100     \n",
      "                                                                 \n",
      " dropout_64 (Dropout)        (None, 100)               0         \n",
      "                                                                 \n",
      " dense_51 (Dense)            (None, 2)                 202       \n",
      "                                                                 \n",
      "=================================================================\n",
      "Total params: 198,718\n",
      "Trainable params: 198,718\n",
      "Non-trainable params: 0\n",
      "_________________________________________________________________\n",
      "None\n"
     ]
    }
   ],
   "source": [
    "from keras.callbacks import EarlyStopping, ReduceLROnPlateau\n",
    "from keras.layers import Embedding, Conv1D, MaxPooling1D\n",
    "\n",
    "# Define the early stopping criteria\n",
    "early_stopping = EarlyStopping(monitor='binary_accuracy', patience=25)\n",
    "\n",
    "model = Sequential()\n",
    "model.add(Embedding(vocab_size, w2v_model.vector_size, input_length=max_length, trainable = True, weights = [embedding_weights]))\n",
    "model.add(Dropout(0.2))\n",
    "model.add(Conv1D(filters=16, kernel_size=10, activation='relu'))\n",
    "model.add(MaxPooling1D())\n",
    "model.add(Flatten())\n",
    "model.add(Dropout(0.2))\n",
    "model.add(Dense(100, activation='relu'))\n",
    "model.add(Dropout(0.2))\n",
    "model.add(Dense(200, activation='relu'))\n",
    "model.add(Dropout(0.2))\n",
    "model.add(Dense(100, activation='relu'))\n",
    "model.add(Dropout(0.2))\n",
    "model.add(Dense(2, activation='sigmoid'))\n",
    "print(model.summary())\n"
   ]
  },
  {
   "cell_type": "code",
   "execution_count": 260,
   "metadata": {},
   "outputs": [
    {
     "name": "stdout",
     "output_type": "stream",
     "text": [
      "Epoch 1/50\n",
      "114/114 - 4s - loss: 0.6590 - binary_accuracy: 0.6820 - val_loss: 0.6090 - val_binary_accuracy: 0.5746 - 4s/epoch - 32ms/step\n",
      "Epoch 2/50\n",
      "114/114 - 1s - loss: 0.4094 - binary_accuracy: 0.8289 - val_loss: 0.8743 - val_binary_accuracy: 0.6623 - 896ms/epoch - 8ms/step\n",
      "Epoch 3/50\n",
      "114/114 - 1s - loss: 0.2651 - binary_accuracy: 0.9057 - val_loss: 0.3447 - val_binary_accuracy: 0.8553 - 887ms/epoch - 8ms/step\n",
      "Epoch 4/50\n",
      "114/114 - 1s - loss: 0.1419 - binary_accuracy: 0.9485 - val_loss: 0.4766 - val_binary_accuracy: 0.8684 - 862ms/epoch - 8ms/step\n",
      "Epoch 5/50\n",
      "114/114 - 1s - loss: 0.0967 - binary_accuracy: 0.9572 - val_loss: 0.4136 - val_binary_accuracy: 0.8684 - 896ms/epoch - 8ms/step\n",
      "Epoch 6/50\n",
      "114/114 - 1s - loss: 0.0692 - binary_accuracy: 0.9759 - val_loss: 0.2251 - val_binary_accuracy: 0.8991 - 901ms/epoch - 8ms/step\n",
      "Epoch 7/50\n",
      "114/114 - 1s - loss: 0.1162 - binary_accuracy: 0.9627 - val_loss: 0.3733 - val_binary_accuracy: 0.8553 - 920ms/epoch - 8ms/step\n",
      "Epoch 8/50\n",
      "114/114 - 1s - loss: 0.0642 - binary_accuracy: 0.9726 - val_loss: 0.4326 - val_binary_accuracy: 0.8509 - 1s/epoch - 9ms/step\n",
      "Epoch 9/50\n",
      "114/114 - 1s - loss: 0.0661 - binary_accuracy: 0.9759 - val_loss: 0.2774 - val_binary_accuracy: 0.8947 - 887ms/epoch - 8ms/step\n",
      "Epoch 10/50\n",
      "114/114 - 1s - loss: 0.0315 - binary_accuracy: 0.9879 - val_loss: 0.4753 - val_binary_accuracy: 0.8860 - 876ms/epoch - 8ms/step\n",
      "Epoch 11/50\n",
      "114/114 - 1s - loss: 0.0728 - binary_accuracy: 0.9770 - val_loss: 0.3533 - val_binary_accuracy: 0.8860 - 879ms/epoch - 8ms/step\n",
      "Epoch 12/50\n",
      "114/114 - 1s - loss: 0.0466 - binary_accuracy: 0.9814 - val_loss: 0.3376 - val_binary_accuracy: 0.9035 - 857ms/epoch - 8ms/step\n",
      "Epoch 13/50\n",
      "114/114 - 1s - loss: 0.0399 - binary_accuracy: 0.9836 - val_loss: 0.3738 - val_binary_accuracy: 0.8947 - 845ms/epoch - 7ms/step\n",
      "Epoch 14/50\n",
      "114/114 - 1s - loss: 0.0409 - binary_accuracy: 0.9792 - val_loss: 0.3054 - val_binary_accuracy: 0.9123 - 860ms/epoch - 8ms/step\n",
      "Epoch 15/50\n",
      "114/114 - 1s - loss: 0.0428 - binary_accuracy: 0.9857 - val_loss: 0.3890 - val_binary_accuracy: 0.8991 - 833ms/epoch - 7ms/step\n",
      "Epoch 16/50\n",
      "114/114 - 1s - loss: 0.0185 - binary_accuracy: 0.9923 - val_loss: 0.4797 - val_binary_accuracy: 0.8947 - 844ms/epoch - 7ms/step\n",
      "Epoch 17/50\n",
      "114/114 - 1s - loss: 0.0318 - binary_accuracy: 0.9890 - val_loss: 0.4208 - val_binary_accuracy: 0.8947 - 858ms/epoch - 8ms/step\n",
      "Epoch 18/50\n",
      "114/114 - 1s - loss: 0.0332 - binary_accuracy: 0.9846 - val_loss: 0.4939 - val_binary_accuracy: 0.9035 - 856ms/epoch - 8ms/step\n",
      "Epoch 19/50\n",
      "114/114 - 1s - loss: 0.0405 - binary_accuracy: 0.9868 - val_loss: 0.3634 - val_binary_accuracy: 0.8684 - 859ms/epoch - 8ms/step\n",
      "Epoch 20/50\n",
      "114/114 - 1s - loss: 0.0319 - binary_accuracy: 0.9846 - val_loss: 0.3690 - val_binary_accuracy: 0.8860 - 849ms/epoch - 7ms/step\n",
      "Epoch 21/50\n",
      "114/114 - 1s - loss: 0.0209 - binary_accuracy: 0.9836 - val_loss: 0.4648 - val_binary_accuracy: 0.8947 - 873ms/epoch - 8ms/step\n",
      "Epoch 22/50\n",
      "114/114 - 1s - loss: 0.0679 - binary_accuracy: 0.9868 - val_loss: 0.3662 - val_binary_accuracy: 0.8816 - 948ms/epoch - 8ms/step\n",
      "Epoch 23/50\n",
      "114/114 - 1s - loss: 0.0308 - binary_accuracy: 0.9901 - val_loss: 0.7158 - val_binary_accuracy: 0.8684 - 876ms/epoch - 8ms/step\n",
      "Epoch 24/50\n",
      "114/114 - 1s - loss: 0.0629 - binary_accuracy: 0.9792 - val_loss: 0.4791 - val_binary_accuracy: 0.8904 - 851ms/epoch - 7ms/step\n",
      "Epoch 25/50\n",
      "114/114 - 1s - loss: 0.0281 - binary_accuracy: 0.9846 - val_loss: 0.3269 - val_binary_accuracy: 0.9035 - 864ms/epoch - 8ms/step\n",
      "Epoch 26/50\n",
      "114/114 - 1s - loss: 0.0303 - binary_accuracy: 0.9857 - val_loss: 0.2896 - val_binary_accuracy: 0.9211 - 860ms/epoch - 8ms/step\n",
      "Epoch 27/50\n",
      "114/114 - 1s - loss: 0.0263 - binary_accuracy: 0.9912 - val_loss: 0.5380 - val_binary_accuracy: 0.8947 - 847ms/epoch - 7ms/step\n",
      "Epoch 28/50\n",
      "114/114 - 1s - loss: 0.0268 - binary_accuracy: 0.9890 - val_loss: 0.3884 - val_binary_accuracy: 0.9035 - 864ms/epoch - 8ms/step\n",
      "Epoch 29/50\n",
      "114/114 - 1s - loss: 0.0155 - binary_accuracy: 0.9879 - val_loss: 0.4193 - val_binary_accuracy: 0.9035 - 928ms/epoch - 8ms/step\n",
      "Epoch 30/50\n",
      "114/114 - 1s - loss: 0.0278 - binary_accuracy: 0.9879 - val_loss: 0.4144 - val_binary_accuracy: 0.9079 - 917ms/epoch - 8ms/step\n",
      "Epoch 31/50\n",
      "114/114 - 1s - loss: 0.0126 - binary_accuracy: 0.9923 - val_loss: 0.5377 - val_binary_accuracy: 0.8860 - 952ms/epoch - 8ms/step\n",
      "Epoch 32/50\n",
      "114/114 - 1s - loss: 0.0180 - binary_accuracy: 0.9879 - val_loss: 0.7204 - val_binary_accuracy: 0.9035 - 986ms/epoch - 9ms/step\n",
      "Epoch 33/50\n",
      "114/114 - 1s - loss: 0.0124 - binary_accuracy: 0.9945 - val_loss: 0.6646 - val_binary_accuracy: 0.9123 - 854ms/epoch - 7ms/step\n",
      "Epoch 34/50\n",
      "114/114 - 1s - loss: 0.0649 - binary_accuracy: 0.9836 - val_loss: 1.1040 - val_binary_accuracy: 0.8728 - 863ms/epoch - 8ms/step\n",
      "Epoch 35/50\n",
      "114/114 - 1s - loss: 0.0588 - binary_accuracy: 0.9825 - val_loss: 0.3524 - val_binary_accuracy: 0.8772 - 860ms/epoch - 8ms/step\n",
      "Epoch 36/50\n",
      "114/114 - 1s - loss: 0.0360 - binary_accuracy: 0.9792 - val_loss: 0.5064 - val_binary_accuracy: 0.9035 - 864ms/epoch - 8ms/step\n",
      "Epoch 37/50\n",
      "114/114 - 1s - loss: 0.0222 - binary_accuracy: 0.9901 - val_loss: 0.7074 - val_binary_accuracy: 0.8947 - 872ms/epoch - 8ms/step\n",
      "Epoch 38/50\n",
      "114/114 - 1s - loss: 0.0249 - binary_accuracy: 0.9846 - val_loss: 0.8512 - val_binary_accuracy: 0.8816 - 856ms/epoch - 8ms/step\n",
      "Epoch 39/50\n",
      "114/114 - 1s - loss: 0.0197 - binary_accuracy: 0.9901 - val_loss: 0.8062 - val_binary_accuracy: 0.8947 - 874ms/epoch - 8ms/step\n",
      "Epoch 40/50\n",
      "114/114 - 1s - loss: 0.0127 - binary_accuracy: 0.9934 - val_loss: 0.9516 - val_binary_accuracy: 0.8947 - 944ms/epoch - 8ms/step\n",
      "Epoch 41/50\n",
      "114/114 - 1s - loss: 0.0216 - binary_accuracy: 0.9868 - val_loss: 0.7793 - val_binary_accuracy: 0.9035 - 867ms/epoch - 8ms/step\n",
      "Epoch 42/50\n",
      "114/114 - 1s - loss: 0.0141 - binary_accuracy: 0.9956 - val_loss: 0.8386 - val_binary_accuracy: 0.9123 - 845ms/epoch - 7ms/step\n",
      "Epoch 43/50\n",
      "114/114 - 1s - loss: 0.0130 - binary_accuracy: 0.9912 - val_loss: 0.9859 - val_binary_accuracy: 0.9079 - 850ms/epoch - 7ms/step\n",
      "Epoch 44/50\n",
      "114/114 - 1s - loss: 0.0115 - binary_accuracy: 0.9934 - val_loss: 1.0338 - val_binary_accuracy: 0.9079 - 837ms/epoch - 7ms/step\n",
      "Epoch 45/50\n",
      "114/114 - 1s - loss: 0.0330 - binary_accuracy: 0.9912 - val_loss: 1.1233 - val_binary_accuracy: 0.8860 - 852ms/epoch - 7ms/step\n",
      "Epoch 46/50\n",
      "114/114 - 1s - loss: 0.0360 - binary_accuracy: 0.9846 - val_loss: 0.8994 - val_binary_accuracy: 0.8947 - 847ms/epoch - 7ms/step\n",
      "Epoch 47/50\n",
      "114/114 - 1s - loss: 0.0295 - binary_accuracy: 0.9868 - val_loss: 0.7469 - val_binary_accuracy: 0.9211 - 869ms/epoch - 8ms/step\n",
      "Epoch 48/50\n",
      "114/114 - 1s - loss: 0.0122 - binary_accuracy: 0.9934 - val_loss: 1.0426 - val_binary_accuracy: 0.8772 - 886ms/epoch - 8ms/step\n",
      "Epoch 49/50\n",
      "114/114 - 1s - loss: 0.0329 - binary_accuracy: 0.9846 - val_loss: 0.6886 - val_binary_accuracy: 0.9035 - 858ms/epoch - 8ms/step\n",
      "Epoch 50/50\n",
      "114/114 - 1s - loss: 0.0151 - binary_accuracy: 0.9890 - val_loss: 0.7489 - val_binary_accuracy: 0.9035 - 967ms/epoch - 8ms/step\n"
     ]
    },
    {
     "data": {
      "text/plain": [
       "<keras.callbacks.History at 0x1b3b00fe020>"
      ]
     },
     "execution_count": 260,
     "metadata": {},
     "output_type": "execute_result"
    }
   ],
   "source": [
    "# compile network\n",
    "model.compile(loss='binary_crossentropy', optimizer='adam', metrics=['binary_accuracy'])\n",
    "# fit network\n",
    "# better to fit multiple times\n",
    "model.fit(Xtrain, Y_train_hot, epochs=50, verbose=2, validation_split=0.2, callbacks=[early_stopping], batch_size=4)"
   ]
  },
  {
   "cell_type": "code",
   "execution_count": 261,
   "metadata": {},
   "outputs": [
    {
     "name": "stdout",
     "output_type": "stream",
     "text": [
      "4/4 [==============================] - 0s 6ms/step\n"
     ]
    }
   ],
   "source": [
    "predictions = model.predict(Xtest)"
   ]
  },
  {
   "cell_type": "code",
   "execution_count": 262,
   "metadata": {},
   "outputs": [
    {
     "data": {
      "text/plain": [
       "(124, 2)"
      ]
     },
     "execution_count": 262,
     "metadata": {},
     "output_type": "execute_result"
    }
   ],
   "source": [
    "predictions.shape"
   ]
  },
  {
   "cell_type": "code",
   "execution_count": 263,
   "metadata": {},
   "outputs": [],
   "source": [
    "predictions = np.round(predictions)"
   ]
  },
  {
   "cell_type": "code",
   "execution_count": 165,
   "metadata": {},
   "outputs": [
    {
     "name": "stdout",
     "output_type": "stream",
     "text": [
      "              precision    recall  f1-score   support\n",
      "\n",
      "           0       0.81      0.85      0.83        41\n",
      "           1       0.91      0.90      0.91        83\n",
      "\n",
      "   micro avg       0.88      0.89      0.88       124\n",
      "   macro avg       0.86      0.88      0.87       124\n",
      "weighted avg       0.88      0.89      0.88       124\n",
      " samples avg       0.88      0.89      0.88       124\n",
      "\n"
     ]
    }
   ],
   "source": [
    "from sklearn.metrics import classification_report\n",
    "print(classification_report(Y_test_hot, predictions))"
   ]
  },
  {
   "cell_type": "code",
   "execution_count": 178,
   "metadata": {},
   "outputs": [
    {
     "name": "stdout",
     "output_type": "stream",
     "text": [
      "total number of types extracted is: 4\n",
      "[['awful', 'sound', 'terrible', 'not_understand']]\n",
      "1/1 [==============================] - 0s 125ms/step\n"
     ]
    },
    {
     "data": {
      "text/plain": [
       "array([[1., 0.]], dtype=float32)"
      ]
     },
     "execution_count": 178,
     "metadata": {},
     "output_type": "execute_result"
    }
   ],
   "source": [
    "x = [\"Awful, the sound is terrible and it doesn't understand me\"]\n",
    "review, temp = tokenize_list_of_text(x, custom_stopwords, False, 2)\n",
    "print(temp)\n",
    "seq_review = t.texts_to_sequences(temp)\n",
    "padded_review = pad_sequences(seq_review, maxlen=max_length, padding='post')\n",
    "preds = np.round(model.predict(padded_review))\n",
    "preds"
   ]
  },
  {
   "cell_type": "code",
   "execution_count": 179,
   "metadata": {},
   "outputs": [
    {
     "name": "stdout",
     "output_type": "stream",
     "text": [
      "1/1 [==============================] - 0s 26ms/step\n"
     ]
    },
    {
     "data": {
      "text/plain": [
       "array([[1.000000e+00, 9.682071e-10]], dtype=float32)"
      ]
     },
     "execution_count": 179,
     "metadata": {},
     "output_type": "execute_result"
    }
   ],
   "source": [
    "model.predict(padded_review)"
   ]
  },
  {
   "cell_type": "code",
   "execution_count": 132,
   "metadata": {},
   "outputs": [],
   "source": [
    "# [1, 0] is equal to negative label"
   ]
  }
 ],
 "metadata": {
  "kernelspec": {
   "display_name": "Python 3",
   "language": "python",
   "name": "python3"
  },
  "language_info": {
   "codemirror_mode": {
    "name": "ipython",
    "version": 3
   },
   "file_extension": ".py",
   "mimetype": "text/x-python",
   "name": "python",
   "nbconvert_exporter": "python",
   "pygments_lexer": "ipython3",
   "version": "3.10.6"
  },
  "orig_nbformat": 4,
  "vscode": {
   "interpreter": {
    "hash": "43973268aa23c7cf4b4cafe0e819fac9b2412fcc991a21988492c3271a4e3f9b"
   }
  }
 },
 "nbformat": 4,
 "nbformat_minor": 2
}
