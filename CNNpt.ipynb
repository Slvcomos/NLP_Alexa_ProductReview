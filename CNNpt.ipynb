{
 "cells": [
  {
   "cell_type": "code",
   "execution_count": 1,
   "metadata": {},
   "outputs": [],
   "source": [
    "from keras.preprocessing import sequence\n",
    "from keras.models import Sequential\n",
    "from keras.layers import Dense, Dropout, Activation"
   ]
  },
  {
   "cell_type": "code",
   "execution_count": 2,
   "metadata": {},
   "outputs": [],
   "source": [
    "from keras.preprocessing.text import Tokenizer\n",
    "from keras.utils import pad_sequences"
   ]
  },
  {
   "cell_type": "code",
   "execution_count": 3,
   "metadata": {},
   "outputs": [],
   "source": [
    "import pandas as pd\n",
    "import nltk\n",
    "from sklearn.model_selection import train_test_split\n",
    "from sklearn import metrics\n",
    "from sklearn.svm import LinearSVC, SVC\n",
    "from sklearn.naive_bayes import MultinomialNB\n",
    "from sklearn.feature_extraction.text import TfidfVectorizer\n",
    "import string\n",
    "from nltk import pos_tag\n",
    "from nltk.corpus import stopwords\n",
    "from nltk.corpus import wordnet\n",
    "import re\n",
    "import gensim\n",
    "from gensim.models import KeyedVectors\n",
    "import numpy as np\n",
    "from collections import Counter\n",
    "from numpy import dot\n",
    "from numpy.linalg import norm\n",
    "from gensim.models import Word2Vec\n",
    "from gensim.models.phrases import Phrases\n",
    "from nltk import sent_tokenize\n",
    "from nltk.tokenize.treebank import TreebankWordDetokenizer\n",
    "import gensim.downloader as api\n",
    "from sklearn.model_selection import GridSearchCV, StratifiedKFold\n",
    "from sklearn.metrics import accuracy_score, f1_score, classification_report\n",
    "from sklearn.metrics import accuracy_score, precision_score, recall_score, make_scorer\n",
    "from preprocessing import *"
   ]
  },
  {
   "cell_type": "code",
   "execution_count": 4,
   "metadata": {},
   "outputs": [
    {
     "name": "stdout",
     "output_type": "stream",
     "text": [
      "loading pre trained embeddings, this can take some minutes...\n",
      "loading complete.\n"
     ]
    }
   ],
   "source": [
    "print(\"loading pre trained embeddings, this can take some minutes...\")\n",
    "glove_twitter_25 = KeyedVectors.load_word2vec_format('glove-twitter-25.txt', binary=False)\n",
    "print(\"loading complete.\")"
   ]
  },
  {
   "cell_type": "code",
   "execution_count": 4,
   "metadata": {},
   "outputs": [],
   "source": [
    "w2v_model = Word2Vec.load(\"w2vPreTrained\")"
   ]
  },
  {
   "cell_type": "code",
   "execution_count": 5,
   "metadata": {},
   "outputs": [
    {
     "data": {
      "text/plain": [
       "[('enjoy', 0.5578348636627197),\n",
       " ('great', 0.5526167154312134),\n",
       " ('amaze', 0.5221312046051025),\n",
       " ('like', 0.4955675005912781),\n",
       " ('awesome', 0.43842583894729614),\n",
       " ('favorite', 0.42576074600219727),\n",
       " ('fun', 0.4234786629676819),\n",
       " ('amazing', 0.4115583598613739),\n",
       " ('fantastic', 0.408966600894928),\n",
       " ('nice', 0.3966287672519684)]"
      ]
     },
     "execution_count": 5,
     "metadata": {},
     "output_type": "execute_result"
    }
   ],
   "source": [
    "w2v_model.wv.most_similar(\"love\")"
   ]
  },
  {
   "cell_type": "code",
   "execution_count": 6,
   "metadata": {},
   "outputs": [
    {
     "data": {
      "text/plain": [
       "[('complain', 0.38117867708206177),\n",
       " ('bad', 0.37489137053489685),\n",
       " ('assist', 0.3195871114730835),\n",
       " ('throw', 0.2934301197528839),\n",
       " ('hide', 0.2910609841346741),\n",
       " ('rid', 0.28255414962768555),\n",
       " ('practically', 0.28100088238716125),\n",
       " ('automate', 0.2786242365837097),\n",
       " ('handsfree', 0.278286874294281),\n",
       " ('turn', 0.2732694745063782)]"
      ]
     },
     "execution_count": 6,
     "metadata": {},
     "output_type": "execute_result"
    }
   ],
   "source": [
    "w2v_model.wv.most_similar(\"hate\", topn = 10)"
   ]
  },
  {
   "cell_type": "code",
   "execution_count": 7,
   "metadata": {},
   "outputs": [
    {
     "name": "stdout",
     "output_type": "stream",
     "text": [
      "(3150, 5)\n",
      "(3150, 5)\n",
      "(2998, 5)\n",
      "(2322, 5)\n"
     ]
    }
   ],
   "source": [
    "dataset = pd.read_csv(\"amazon_alexa.tsv\", sep = \"\\t\", encoding = \"utf-8\")\n",
    "print(dataset.shape)\n",
    "dataset.dropna(inplace = True)\n",
    "print(dataset.shape)\n",
    "dataset.drop(dataset[dataset.rating == 3].index, inplace=True)\n",
    "print(dataset.shape)\n",
    "dataset.drop_duplicates(inplace = True)\n",
    "print(dataset.shape)"
   ]
  },
  {
   "cell_type": "code",
   "execution_count": 8,
   "metadata": {},
   "outputs": [],
   "source": [
    "X = np.array(dataset[\"verified_reviews\"].values).reshape(-1, 1)\n",
    "y = list(dataset[\"feedback\"].values)"
   ]
  },
  {
   "cell_type": "code",
   "execution_count": 9,
   "metadata": {},
   "outputs": [
    {
     "name": "stdout",
     "output_type": "stream",
     "text": [
      "Resampled dataset shape Counter({1: 442, 0: 221})\n"
     ]
    }
   ],
   "source": [
    "from imblearn.under_sampling import RandomUnderSampler\n",
    "from collections import Counter\n",
    "\n",
    "undersampler = RandomUnderSampler(sampling_strategy=0.5, random_state = 0)\n",
    "\n",
    "X, y = undersampler.fit_resample(X, y)\n",
    "\n",
    "\n",
    "print('Resampled dataset shape %s' % Counter(y))"
   ]
  },
  {
   "cell_type": "code",
   "execution_count": 10,
   "metadata": {},
   "outputs": [],
   "source": [
    "X_temp = []\n",
    "\n",
    "for rev in X:\n",
    "  X_temp.append(rev[0])"
   ]
  },
  {
   "cell_type": "code",
   "execution_count": 11,
   "metadata": {},
   "outputs": [
    {
     "name": "stdout",
     "output_type": "stream",
     "text": [
      "total number of types extracted is: 1810\n"
     ]
    }
   ],
   "source": [
    "new_text, new_sent_tok = tokenize_list_of_text(X_temp, custom_stopwords, False, pos_list)"
   ]
  },
  {
   "cell_type": "code",
   "execution_count": 12,
   "metadata": {},
   "outputs": [],
   "source": [
    "# negative_reviews = list(dataset[dataset[\"feedback\"] == 0][\"verified_reviews\"].values)\n",
    "# print(len(negative_reviews))\n",
    "# negative_text, negative_tok = tokenize_list_of_text(negative_reviews, custom_stopwords, False, pos_list)"
   ]
  },
  {
   "cell_type": "code",
   "execution_count": 13,
   "metadata": {},
   "outputs": [],
   "source": [
    "# negative_artifical = generate_samples(negative_tok, 200, pre_trained_model = glove_twitter_25)\n",
    "# new_sent_tok.extend(negative_artifical)\n",
    "# len(negative_artifical)"
   ]
  },
  {
   "cell_type": "code",
   "execution_count": 14,
   "metadata": {},
   "outputs": [],
   "source": [
    "def frequency_cleaning(new_sent_tok, n):\n",
    "    \n",
    "    tot_tokens = []\n",
    "\n",
    "    for sent in new_sent_tok:\n",
    "        for tok in sent:\n",
    "            tot_tokens.append(tok)\n",
    "\n",
    "    freqs = nltk.FreqDist(tot_tokens)\n",
    "    cleaned_reviews = []\n",
    "\n",
    "    for sent in new_sent_tok:\n",
    "        clean_sent = []\n",
    "        for tok in sent:\n",
    "            if freqs[tok] > n:\n",
    "                clean_sent.append(tok)\n",
    "        cleaned_reviews.append(clean_sent)\n",
    "\n",
    "    return cleaned_reviews"
   ]
  },
  {
   "cell_type": "code",
   "execution_count": 15,
   "metadata": {},
   "outputs": [],
   "source": [
    "cleaned_reviews = frequency_cleaning(new_sent_tok, 2)\n",
    "# negative_artificial_cleaned = cleaned_reviews[-len(negative_artifical):] # estraggo le recensioni artificiali per poi aggiungerle esclusivamente al train\n",
    "# del cleaned_reviews[-len(negative_artifical):] # le elimino dalle recensioni pulite"
   ]
  },
  {
   "cell_type": "code",
   "execution_count": 16,
   "metadata": {},
   "outputs": [],
   "source": [
    "bigrams = Phrases(cleaned_reviews, scoring=\"npmi\", threshold=0.60) #estrae le collocazioni tramite PMI"
   ]
  },
  {
   "cell_type": "code",
   "execution_count": 17,
   "metadata": {},
   "outputs": [],
   "source": [
    "X_train, X_test, Y_train, Y_test = train_test_split(bigrams[cleaned_reviews], y, test_size=0.20, random_state=10)\n",
    "# X_train.extend(negative_artificial_cleaned)\n",
    "# Y_train.extend([0 for x in range(len(negative_artificial_cleaned))])"
   ]
  },
  {
   "cell_type": "code",
   "execution_count": 18,
   "metadata": {},
   "outputs": [
    {
     "name": "stdout",
     "output_type": "stream",
     "text": [
      "Train set is Counter({1: 351, 0: 179})\n",
      "Test set is Counter({1: 91, 0: 42})\n"
     ]
    }
   ],
   "source": [
    "print('Train set is %s' % Counter(Y_train))\n",
    "print('Test set is %s' % Counter(Y_test))"
   ]
  },
  {
   "cell_type": "code",
   "execution_count": 19,
   "metadata": {},
   "outputs": [],
   "source": [
    "t = Tokenizer()\n",
    "t.fit_on_texts(X_train)\n",
    "X_train_encoded = t.texts_to_sequences(X_train)\n",
    "max_length = len(max(bigrams[cleaned_reviews], key = len))\n",
    "Xtrain = pad_sequences(X_train_encoded, maxlen=max_length, padding='post')"
   ]
  },
  {
   "cell_type": "code",
   "execution_count": 20,
   "metadata": {},
   "outputs": [],
   "source": [
    "X_test_encoded = t.texts_to_sequences(X_test)\n",
    "Xtest = pad_sequences(X_test_encoded, maxlen=max_length, padding='post')"
   ]
  },
  {
   "cell_type": "code",
   "execution_count": 21,
   "metadata": {},
   "outputs": [],
   "source": [
    "vocab_size = len(t.word_index) + 1"
   ]
  },
  {
   "cell_type": "code",
   "execution_count": 22,
   "metadata": {},
   "outputs": [],
   "source": [
    "def get_weight_matrix(embedding, vocab):\n",
    "    # total vocabulary size plus 0 for unknown words\n",
    "    vocab_size = len(vocab) + 1\n",
    "    # define weight matrix dimensions with all 0\n",
    "    weight_matrix = np.zeros((vocab_size, w2v_model.vector_size))\n",
    "    # step vocab, store vectors using the Tokenizer's integer mapping\n",
    "    not_found = 0\n",
    "    not_found_list = []\n",
    "    for word, i in vocab.items():\n",
    "        try:\n",
    "            vector = embedding[word]\n",
    "            weight_matrix[i] = vector\n",
    "        except KeyError:\n",
    "            # weight_matrix[i] = np.zeros((1, w2v_model.vector_size))\n",
    "            not_found+=1\n",
    "            not_found_list.append(word)\n",
    "            continue\n",
    "\n",
    "    print(not_found_list)\n",
    "    print(not_found)\n",
    "    return weight_matrix"
   ]
  },
  {
   "cell_type": "code",
   "execution_count": 23,
   "metadata": {},
   "outputs": [
    {
     "name": "stdout",
     "output_type": "stream",
     "text": [
      "['play_music', 'easy_set', 'sound_quality', 'alarm_clock', 'ask_question', \"'ve\", 'still_learn', 'send_back', 'bluetooth_speaker', 'brand_new', 'touch_screen', 'answer_question', 'excitement', 'surrender', 'even_though', \"n't_see\", \"'ll\", \"'re\", \"n't_tell\", 'literate', 'homescreen', \"n't_use\", 'certified', 'impotent']\n",
      "24\n"
     ]
    }
   ],
   "source": [
    "embedding_weights = get_weight_matrix(w2v_model.wv, t.word_index)"
   ]
  },
  {
   "cell_type": "code",
   "execution_count": 24,
   "metadata": {},
   "outputs": [
    {
     "name": "stdout",
     "output_type": "stream",
     "text": [
      "Resampled dataset shape Counter({1: 325, 0: 153})\n"
     ]
    }
   ],
   "source": [
    "from imblearn.under_sampling import RandomUnderSampler, TomekLinks\n",
    "\n",
    "\n",
    "undersampler_nn = TomekLinks(sampling_strategy=\"all\") # use tomeLinks to remove ambiguous data through nearest neighbours\n",
    "\n",
    "\n",
    "# Fit and transform the X and y data\n",
    "X_train_resampled, y_train_resampled = undersampler_nn.fit_resample(Xtrain, Y_train)\n",
    "# X_train_resampled, y_train_resampled = Xtrain, Y_train\n",
    "\n",
    "\n",
    "print('Resampled dataset shape %s' % Counter(y_train_resampled))"
   ]
  },
  {
   "cell_type": "code",
   "execution_count": 25,
   "metadata": {},
   "outputs": [],
   "source": [
    "from keras.layers import Flatten"
   ]
  },
  {
   "cell_type": "code",
   "execution_count": 26,
   "metadata": {},
   "outputs": [],
   "source": [
    "from keras.utils import to_categorical\n",
    "Y_train_hot = to_categorical(y_train_resampled)"
   ]
  },
  {
   "cell_type": "code",
   "execution_count": 27,
   "metadata": {},
   "outputs": [
    {
     "name": "stdout",
     "output_type": "stream",
     "text": [
      "0 [1. 0.]\n",
      "1 [0. 1.]\n"
     ]
    }
   ],
   "source": [
    "print(y_train_resampled[0], Y_train_hot[0])\n",
    "print(y_train_resampled[1], Y_train_hot[1])"
   ]
  },
  {
   "cell_type": "code",
   "execution_count": 28,
   "metadata": {},
   "outputs": [],
   "source": [
    "Y_test_hot = to_categorical(Y_test)"
   ]
  },
  {
   "cell_type": "code",
   "execution_count": 49,
   "metadata": {},
   "outputs": [
    {
     "name": "stdout",
     "output_type": "stream",
     "text": [
      "Model: \"sequential_2\"\n",
      "_________________________________________________________________\n",
      " Layer (type)                Output Shape              Param #   \n",
      "=================================================================\n",
      " embedding_2 (Embedding)     (None, 98, 100)           61900     \n",
      "                                                                 \n",
      " dropout_10 (Dropout)        (None, 98, 100)           0         \n",
      "                                                                 \n",
      " conv1d_2 (Conv1D)           (None, 89, 16)            16016     \n",
      "                                                                 \n",
      " max_pooling1d_2 (MaxPooling  (None, 44, 16)           0         \n",
      " 1D)                                                             \n",
      "                                                                 \n",
      " flatten_2 (Flatten)         (None, 704)               0         \n",
      "                                                                 \n",
      " dropout_11 (Dropout)        (None, 704)               0         \n",
      "                                                                 \n",
      " dense_8 (Dense)             (None, 300)               211500    \n",
      "                                                                 \n",
      " dropout_12 (Dropout)        (None, 300)               0         \n",
      "                                                                 \n",
      " dense_9 (Dense)             (None, 400)               120400    \n",
      "                                                                 \n",
      " dropout_13 (Dropout)        (None, 400)               0         \n",
      "                                                                 \n",
      " dense_10 (Dense)            (None, 300)               120300    \n",
      "                                                                 \n",
      " dropout_14 (Dropout)        (None, 300)               0         \n",
      "                                                                 \n",
      " dense_11 (Dense)            (None, 2)                 602       \n",
      "                                                                 \n",
      "=================================================================\n",
      "Total params: 530,718\n",
      "Trainable params: 530,718\n",
      "Non-trainable params: 0\n",
      "_________________________________________________________________\n",
      "None\n"
     ]
    }
   ],
   "source": [
    "from keras.callbacks import EarlyStopping, ReduceLROnPlateau\n",
    "from keras.layers import Embedding, Conv1D, MaxPooling1D\n",
    "\n",
    "# Define the early stopping criteria\n",
    "early_stopping = EarlyStopping(monitor='binary_accuracy', patience=25)\n",
    "\n",
    "model = Sequential()\n",
    "model.add(Embedding(vocab_size, w2v_model.vector_size, input_length=max_length, trainable = True, weights = [embedding_weights]))\n",
    "model.add(Dropout(0.2))\n",
    "model.add(Conv1D(filters=16, kernel_size=10, activation='relu'))\n",
    "model.add(MaxPooling1D())\n",
    "model.add(Flatten())\n",
    "model.add(Dropout(0.2))\n",
    "model.add(Dense(300, activation='relu'))\n",
    "model.add(Dropout(0.2))\n",
    "model.add(Dense(400, activation='relu'))\n",
    "model.add(Dropout(0.2))\n",
    "model.add(Dense(300, activation='relu'))\n",
    "model.add(Dropout(0.2))\n",
    "model.add(Dense(2, activation='sigmoid'))\n",
    "print(model.summary())\n"
   ]
  },
  {
   "cell_type": "code",
   "execution_count": 50,
   "metadata": {},
   "outputs": [
    {
     "name": "stdout",
     "output_type": "stream",
     "text": [
      "Epoch 1/100\n",
      "14/14 - 2s - loss: 0.6581 - binary_accuracy: 0.6628 - val_loss: 0.6759 - val_binary_accuracy: 0.6250 - 2s/epoch - 139ms/step\n",
      "Epoch 2/100\n",
      "14/14 - 0s - loss: 0.5189 - binary_accuracy: 0.7756 - val_loss: 0.6968 - val_binary_accuracy: 0.6354 - 341ms/epoch - 24ms/step\n",
      "Epoch 3/100\n",
      "14/14 - 0s - loss: 0.4351 - binary_accuracy: 0.7988 - val_loss: 0.6646 - val_binary_accuracy: 0.7292 - 384ms/epoch - 27ms/step\n",
      "Epoch 4/100\n",
      "14/14 - 0s - loss: 0.3436 - binary_accuracy: 0.8291 - val_loss: 0.4251 - val_binary_accuracy: 0.7917 - 395ms/epoch - 28ms/step\n",
      "Epoch 5/100\n",
      "14/14 - 0s - loss: 0.2370 - binary_accuracy: 0.8907 - val_loss: 0.5076 - val_binary_accuracy: 0.8125 - 385ms/epoch - 27ms/step\n",
      "Epoch 6/100\n",
      "14/14 - 0s - loss: 0.1886 - binary_accuracy: 0.9128 - val_loss: 0.6005 - val_binary_accuracy: 0.7917 - 415ms/epoch - 30ms/step\n",
      "Epoch 7/100\n",
      "14/14 - 0s - loss: 0.1768 - binary_accuracy: 0.9093 - val_loss: 0.5228 - val_binary_accuracy: 0.7708 - 417ms/epoch - 30ms/step\n",
      "Epoch 8/100\n",
      "14/14 - 0s - loss: 0.1608 - binary_accuracy: 0.9221 - val_loss: 0.7171 - val_binary_accuracy: 0.7917 - 359ms/epoch - 26ms/step\n",
      "Epoch 9/100\n",
      "14/14 - 0s - loss: 0.1262 - binary_accuracy: 0.9453 - val_loss: 0.7306 - val_binary_accuracy: 0.7708 - 322ms/epoch - 23ms/step\n",
      "Epoch 10/100\n",
      "14/14 - 0s - loss: 0.1258 - binary_accuracy: 0.9512 - val_loss: 0.7706 - val_binary_accuracy: 0.7812 - 365ms/epoch - 26ms/step\n",
      "Epoch 11/100\n",
      "14/14 - 0s - loss: 0.1275 - binary_accuracy: 0.9384 - val_loss: 1.5503 - val_binary_accuracy: 0.8125 - 308ms/epoch - 22ms/step\n",
      "Epoch 12/100\n",
      "14/14 - 0s - loss: 0.1370 - binary_accuracy: 0.9430 - val_loss: 0.9443 - val_binary_accuracy: 0.7917 - 298ms/epoch - 21ms/step\n",
      "Epoch 13/100\n",
      "14/14 - 0s - loss: 0.0910 - binary_accuracy: 0.9407 - val_loss: 0.8113 - val_binary_accuracy: 0.8125 - 308ms/epoch - 22ms/step\n",
      "Epoch 14/100\n",
      "14/14 - 0s - loss: 0.0861 - binary_accuracy: 0.9453 - val_loss: 0.7840 - val_binary_accuracy: 0.8125 - 305ms/epoch - 22ms/step\n",
      "Epoch 15/100\n",
      "14/14 - 0s - loss: 0.0713 - binary_accuracy: 0.9581 - val_loss: 0.9742 - val_binary_accuracy: 0.7917 - 310ms/epoch - 22ms/step\n",
      "Epoch 16/100\n",
      "14/14 - 0s - loss: 0.0693 - binary_accuracy: 0.9616 - val_loss: 1.0901 - val_binary_accuracy: 0.7708 - 295ms/epoch - 21ms/step\n",
      "Epoch 17/100\n",
      "14/14 - 0s - loss: 0.0677 - binary_accuracy: 0.9628 - val_loss: 1.5278 - val_binary_accuracy: 0.7500 - 291ms/epoch - 21ms/step\n",
      "Epoch 18/100\n",
      "14/14 - 0s - loss: 0.0844 - binary_accuracy: 0.9523 - val_loss: 1.0447 - val_binary_accuracy: 0.7917 - 292ms/epoch - 21ms/step\n",
      "Epoch 19/100\n",
      "14/14 - 0s - loss: 0.1185 - binary_accuracy: 0.9558 - val_loss: 0.9074 - val_binary_accuracy: 0.7188 - 288ms/epoch - 21ms/step\n",
      "Epoch 20/100\n",
      "14/14 - 0s - loss: 0.0793 - binary_accuracy: 0.9663 - val_loss: 1.4942 - val_binary_accuracy: 0.7917 - 345ms/epoch - 25ms/step\n",
      "Epoch 21/100\n",
      "14/14 - 0s - loss: 0.0999 - binary_accuracy: 0.9488 - val_loss: 1.2671 - val_binary_accuracy: 0.7708 - 292ms/epoch - 21ms/step\n",
      "Epoch 22/100\n",
      "14/14 - 0s - loss: 0.0920 - binary_accuracy: 0.9523 - val_loss: 1.0208 - val_binary_accuracy: 0.8125 - 294ms/epoch - 21ms/step\n",
      "Epoch 23/100\n",
      "14/14 - 0s - loss: 0.0811 - binary_accuracy: 0.9616 - val_loss: 1.1597 - val_binary_accuracy: 0.8333 - 294ms/epoch - 21ms/step\n",
      "Epoch 24/100\n",
      "14/14 - 0s - loss: 0.1097 - binary_accuracy: 0.9547 - val_loss: 0.8440 - val_binary_accuracy: 0.7917 - 294ms/epoch - 21ms/step\n",
      "Epoch 25/100\n",
      "14/14 - 0s - loss: 0.0672 - binary_accuracy: 0.9570 - val_loss: 0.8175 - val_binary_accuracy: 0.7708 - 292ms/epoch - 21ms/step\n",
      "Epoch 26/100\n",
      "14/14 - 0s - loss: 0.0605 - binary_accuracy: 0.9558 - val_loss: 0.7460 - val_binary_accuracy: 0.8021 - 288ms/epoch - 21ms/step\n",
      "Epoch 27/100\n",
      "14/14 - 0s - loss: 0.0584 - binary_accuracy: 0.9558 - val_loss: 0.9122 - val_binary_accuracy: 0.7708 - 312ms/epoch - 22ms/step\n",
      "Epoch 28/100\n",
      "14/14 - 0s - loss: 0.0602 - binary_accuracy: 0.9651 - val_loss: 0.6768 - val_binary_accuracy: 0.7917 - 295ms/epoch - 21ms/step\n",
      "Epoch 29/100\n",
      "14/14 - 0s - loss: 0.0684 - binary_accuracy: 0.9674 - val_loss: 0.8398 - val_binary_accuracy: 0.7708 - 297ms/epoch - 21ms/step\n",
      "Epoch 30/100\n",
      "14/14 - 0s - loss: 0.0531 - binary_accuracy: 0.9616 - val_loss: 0.8230 - val_binary_accuracy: 0.7708 - 287ms/epoch - 20ms/step\n",
      "Epoch 31/100\n",
      "14/14 - 0s - loss: 0.0510 - binary_accuracy: 0.9674 - val_loss: 0.9298 - val_binary_accuracy: 0.7708 - 297ms/epoch - 21ms/step\n",
      "Epoch 32/100\n",
      "14/14 - 0s - loss: 0.0947 - binary_accuracy: 0.9500 - val_loss: 1.4220 - val_binary_accuracy: 0.8125 - 290ms/epoch - 21ms/step\n",
      "Epoch 33/100\n",
      "14/14 - 0s - loss: 0.0575 - binary_accuracy: 0.9721 - val_loss: 1.0231 - val_binary_accuracy: 0.7708 - 290ms/epoch - 21ms/step\n",
      "Epoch 34/100\n",
      "14/14 - 0s - loss: 0.0703 - binary_accuracy: 0.9570 - val_loss: 1.0896 - val_binary_accuracy: 0.8125 - 290ms/epoch - 21ms/step\n",
      "Epoch 35/100\n",
      "14/14 - 0s - loss: 0.0673 - binary_accuracy: 0.9605 - val_loss: 0.9450 - val_binary_accuracy: 0.8125 - 302ms/epoch - 22ms/step\n",
      "Epoch 36/100\n",
      "14/14 - 0s - loss: 0.0616 - binary_accuracy: 0.9628 - val_loss: 0.8685 - val_binary_accuracy: 0.8125 - 322ms/epoch - 23ms/step\n",
      "Epoch 37/100\n",
      "14/14 - 0s - loss: 0.0488 - binary_accuracy: 0.9686 - val_loss: 0.9853 - val_binary_accuracy: 0.7917 - 318ms/epoch - 23ms/step\n",
      "Epoch 38/100\n",
      "14/14 - 0s - loss: 0.0522 - binary_accuracy: 0.9698 - val_loss: 0.7869 - val_binary_accuracy: 0.7917 - 324ms/epoch - 23ms/step\n",
      "Epoch 39/100\n",
      "14/14 - 0s - loss: 0.0644 - binary_accuracy: 0.9605 - val_loss: 0.8332 - val_binary_accuracy: 0.7917 - 319ms/epoch - 23ms/step\n",
      "Epoch 40/100\n",
      "14/14 - 0s - loss: 0.0473 - binary_accuracy: 0.9674 - val_loss: 0.7558 - val_binary_accuracy: 0.7812 - 326ms/epoch - 23ms/step\n",
      "Epoch 41/100\n",
      "14/14 - 0s - loss: 0.0459 - binary_accuracy: 0.9698 - val_loss: 0.8035 - val_binary_accuracy: 0.7708 - 330ms/epoch - 24ms/step\n",
      "Epoch 42/100\n",
      "14/14 - 0s - loss: 0.0448 - binary_accuracy: 0.9663 - val_loss: 0.7583 - val_binary_accuracy: 0.7917 - 321ms/epoch - 23ms/step\n",
      "Epoch 43/100\n",
      "14/14 - 0s - loss: 0.0420 - binary_accuracy: 0.9791 - val_loss: 1.1080 - val_binary_accuracy: 0.7917 - 316ms/epoch - 23ms/step\n",
      "Epoch 44/100\n",
      "14/14 - 0s - loss: 0.0721 - binary_accuracy: 0.9674 - val_loss: 0.8422 - val_binary_accuracy: 0.8333 - 315ms/epoch - 22ms/step\n",
      "Epoch 45/100\n",
      "14/14 - 0s - loss: 0.0520 - binary_accuracy: 0.9767 - val_loss: 0.9926 - val_binary_accuracy: 0.8125 - 322ms/epoch - 23ms/step\n",
      "Epoch 46/100\n",
      "14/14 - 0s - loss: 0.0458 - binary_accuracy: 0.9721 - val_loss: 1.1207 - val_binary_accuracy: 0.8125 - 318ms/epoch - 23ms/step\n",
      "Epoch 47/100\n",
      "14/14 - 0s - loss: 0.0455 - binary_accuracy: 0.9744 - val_loss: 1.1710 - val_binary_accuracy: 0.8125 - 319ms/epoch - 23ms/step\n",
      "Epoch 48/100\n",
      "14/14 - 0s - loss: 0.0454 - binary_accuracy: 0.9651 - val_loss: 1.2207 - val_binary_accuracy: 0.8125 - 330ms/epoch - 24ms/step\n",
      "Epoch 49/100\n",
      "14/14 - 0s - loss: 0.0457 - binary_accuracy: 0.9663 - val_loss: 1.3200 - val_binary_accuracy: 0.8125 - 314ms/epoch - 22ms/step\n",
      "Epoch 50/100\n",
      "14/14 - 0s - loss: 0.0427 - binary_accuracy: 0.9709 - val_loss: 1.3887 - val_binary_accuracy: 0.8125 - 318ms/epoch - 23ms/step\n",
      "Epoch 51/100\n",
      "14/14 - 0s - loss: 0.0437 - binary_accuracy: 0.9698 - val_loss: 1.4517 - val_binary_accuracy: 0.8125 - 317ms/epoch - 23ms/step\n",
      "Epoch 52/100\n",
      "14/14 - 0s - loss: 0.0727 - binary_accuracy: 0.9628 - val_loss: 1.1077 - val_binary_accuracy: 0.8333 - 322ms/epoch - 23ms/step\n",
      "Epoch 53/100\n",
      "14/14 - 0s - loss: 0.0430 - binary_accuracy: 0.9674 - val_loss: 1.1172 - val_binary_accuracy: 0.8125 - 318ms/epoch - 23ms/step\n",
      "Epoch 54/100\n",
      "14/14 - 0s - loss: 0.0458 - binary_accuracy: 0.9709 - val_loss: 1.2188 - val_binary_accuracy: 0.7917 - 317ms/epoch - 23ms/step\n",
      "Epoch 55/100\n",
      "14/14 - 0s - loss: 0.0482 - binary_accuracy: 0.9698 - val_loss: 1.3127 - val_binary_accuracy: 0.7917 - 328ms/epoch - 23ms/step\n",
      "Epoch 56/100\n",
      "14/14 - 0s - loss: 0.0431 - binary_accuracy: 0.9733 - val_loss: 1.3014 - val_binary_accuracy: 0.7917 - 315ms/epoch - 23ms/step\n",
      "Epoch 57/100\n",
      "14/14 - 0s - loss: 0.0413 - binary_accuracy: 0.9709 - val_loss: 1.3129 - val_binary_accuracy: 0.8125 - 323ms/epoch - 23ms/step\n",
      "Epoch 58/100\n",
      "14/14 - 0s - loss: 0.0654 - binary_accuracy: 0.9616 - val_loss: 1.2135 - val_binary_accuracy: 0.8542 - 315ms/epoch - 22ms/step\n",
      "Epoch 59/100\n",
      "14/14 - 0s - loss: 0.0479 - binary_accuracy: 0.9640 - val_loss: 1.2303 - val_binary_accuracy: 0.8125 - 310ms/epoch - 22ms/step\n",
      "Epoch 60/100\n",
      "14/14 - 0s - loss: 0.0527 - binary_accuracy: 0.9709 - val_loss: 1.1715 - val_binary_accuracy: 0.8125 - 378ms/epoch - 27ms/step\n",
      "Epoch 61/100\n",
      "14/14 - 0s - loss: 0.0442 - binary_accuracy: 0.9698 - val_loss: 1.1841 - val_binary_accuracy: 0.8125 - 320ms/epoch - 23ms/step\n",
      "Epoch 62/100\n",
      "14/14 - 0s - loss: 0.0418 - binary_accuracy: 0.9651 - val_loss: 1.2788 - val_binary_accuracy: 0.8125 - 311ms/epoch - 22ms/step\n",
      "Epoch 63/100\n",
      "14/14 - 0s - loss: 0.0429 - binary_accuracy: 0.9698 - val_loss: 1.3106 - val_binary_accuracy: 0.8125 - 312ms/epoch - 22ms/step\n",
      "Epoch 64/100\n",
      "14/14 - 0s - loss: 0.0578 - binary_accuracy: 0.9605 - val_loss: 1.1572 - val_binary_accuracy: 0.8333 - 312ms/epoch - 22ms/step\n",
      "Epoch 65/100\n",
      "14/14 - 0s - loss: 0.0440 - binary_accuracy: 0.9733 - val_loss: 1.2763 - val_binary_accuracy: 0.8333 - 316ms/epoch - 23ms/step\n",
      "Epoch 66/100\n",
      "14/14 - 0s - loss: 0.0431 - binary_accuracy: 0.9709 - val_loss: 1.4094 - val_binary_accuracy: 0.8125 - 317ms/epoch - 23ms/step\n",
      "Epoch 67/100\n",
      "14/14 - 0s - loss: 0.0474 - binary_accuracy: 0.9698 - val_loss: 1.4233 - val_binary_accuracy: 0.8125 - 311ms/epoch - 22ms/step\n",
      "Epoch 68/100\n",
      "14/14 - 0s - loss: 0.0417 - binary_accuracy: 0.9721 - val_loss: 1.4646 - val_binary_accuracy: 0.8125 - 316ms/epoch - 23ms/step\n"
     ]
    },
    {
     "data": {
      "text/plain": [
       "<keras.callbacks.History at 0x28011ed1660>"
      ]
     },
     "execution_count": 50,
     "metadata": {},
     "output_type": "execute_result"
    }
   ],
   "source": [
    "# compile network\n",
    "model.compile(loss='binary_crossentropy', optimizer='adam', metrics=['binary_accuracy'])\n",
    "# fit network\n",
    "model.fit(X_train_resampled, Y_train_hot, epochs=100, verbose=2, validation_split=0.1, callbacks=[early_stopping])"
   ]
  },
  {
   "cell_type": "code",
   "execution_count": 51,
   "metadata": {},
   "outputs": [
    {
     "name": "stdout",
     "output_type": "stream",
     "text": [
      "5/5 [==============================] - 0s 3ms/step\n"
     ]
    }
   ],
   "source": [
    "predictions = model.predict(Xtest)"
   ]
  },
  {
   "cell_type": "code",
   "execution_count": 52,
   "metadata": {},
   "outputs": [
    {
     "data": {
      "text/plain": [
       "(133, 2)"
      ]
     },
     "execution_count": 52,
     "metadata": {},
     "output_type": "execute_result"
    }
   ],
   "source": [
    "predictions.shape"
   ]
  },
  {
   "cell_type": "code",
   "execution_count": 53,
   "metadata": {},
   "outputs": [],
   "source": [
    "predictions = np.round(predictions)"
   ]
  },
  {
   "cell_type": "code",
   "execution_count": 54,
   "metadata": {},
   "outputs": [
    {
     "name": "stdout",
     "output_type": "stream",
     "text": [
      "              precision    recall  f1-score   support\n",
      "\n",
      "           0       0.80      0.83      0.81        42\n",
      "           1       0.92      0.90      0.91        91\n",
      "\n",
      "   micro avg       0.88      0.88      0.88       133\n",
      "   macro avg       0.86      0.87      0.86       133\n",
      "weighted avg       0.88      0.88      0.88       133\n",
      " samples avg       0.88      0.88      0.88       133\n",
      "\n"
     ]
    }
   ],
   "source": [
    "from sklearn.metrics import classification_report\n",
    "print(classification_report(Y_test_hot, predictions))"
   ]
  },
  {
   "cell_type": "code",
   "execution_count": 55,
   "metadata": {},
   "outputs": [
    {
     "name": "stdout",
     "output_type": "stream",
     "text": [
      "total number of types extracted is: 14\n",
      "1/1 [==============================] - 0s 27ms/step\n"
     ]
    },
    {
     "data": {
      "text/plain": [
       "array([[1., 0.]], dtype=float32)"
      ]
     },
     "execution_count": 55,
     "metadata": {},
     "output_type": "execute_result"
    }
   ],
   "source": [
    "x = [\"The product is disappointing, i bought it expecting to be user friendly and intelligent, instaed it's not easy and it's stupid, too slow\"]\n",
    "review, temp = tokenize_list_of_text(x)\n",
    "seq_review = t.texts_to_sequences(temp)\n",
    "padded_review = pad_sequences(seq_review, maxlen=max_length, padding='post')\n",
    "preds = np.round(model.predict(padded_review))\n",
    "preds"
   ]
  },
  {
   "cell_type": "code",
   "execution_count": null,
   "metadata": {},
   "outputs": [],
   "source": []
  }
 ],
 "metadata": {
  "kernelspec": {
   "display_name": "Python 3",
   "language": "python",
   "name": "python3"
  },
  "language_info": {
   "codemirror_mode": {
    "name": "ipython",
    "version": 3
   },
   "file_extension": ".py",
   "mimetype": "text/x-python",
   "name": "python",
   "nbconvert_exporter": "python",
   "pygments_lexer": "ipython3",
   "version": "3.10.6 (tags/v3.10.6:9c7b4bd, Aug  1 2022, 21:53:49) [MSC v.1932 64 bit (AMD64)]"
  },
  "orig_nbformat": 4,
  "vscode": {
   "interpreter": {
    "hash": "43973268aa23c7cf4b4cafe0e819fac9b2412fcc991a21988492c3271a4e3f9b"
   }
  }
 },
 "nbformat": 4,
 "nbformat_minor": 2
}
