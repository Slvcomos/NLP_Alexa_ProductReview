{
 "cells": [
  {
   "cell_type": "code",
   "execution_count": 1,
   "metadata": {},
   "outputs": [],
   "source": [
    "from keras.preprocessing import sequence\n",
    "from keras.models import Sequential\n",
    "from keras.layers import Dense, Dropout, Activation\n",
    "import pandas as pd\n",
    "import nltk\n",
    "from sklearn.model_selection import train_test_split\n",
    "from sklearn import metrics\n",
    "from sklearn.svm import LinearSVC, SVC\n",
    "from sklearn.naive_bayes import MultinomialNB\n",
    "from sklearn.feature_extraction.text import TfidfVectorizer\n",
    "import string\n",
    "from nltk import pos_tag\n",
    "from nltk.corpus import stopwords\n",
    "from nltk.corpus import wordnet\n",
    "import re\n",
    "import gensim\n",
    "from gensim.models import KeyedVectors\n",
    "import numpy as np\n",
    "from collections import Counter\n",
    "from numpy import dot\n",
    "from numpy.linalg import norm\n",
    "from gensim.models import Word2Vec\n",
    "from gensim.models.phrases import Phrases\n",
    "from nltk import sent_tokenize\n",
    "from nltk.tokenize.treebank import TreebankWordDetokenizer\n",
    "import gensim.downloader as api\n",
    "from sklearn.model_selection import GridSearchCV, StratifiedKFold\n",
    "from sklearn.metrics import accuracy_score, f1_score, classification_report\n",
    "from sklearn.metrics import accuracy_score, precision_score, recall_score, make_scorer\n",
    "from preprocessing import *"
   ]
  },
  {
   "cell_type": "code",
   "execution_count": 2,
   "metadata": {},
   "outputs": [],
   "source": [
    "glove_twitter_25 = []"
   ]
  },
  {
   "cell_type": "code",
   "execution_count": 3,
   "metadata": {},
   "outputs": [],
   "source": [
    "# print(\"loading pre trained embeddings, this can take some minutes...\")\n",
    "# glove_twitter_25 = KeyedVectors.load_word2vec_format('glove-twitter-25.txt', binary=False)\n",
    "# print(\"loading complete.\")"
   ]
  },
  {
   "cell_type": "code",
   "execution_count": 4,
   "metadata": {},
   "outputs": [
    {
     "name": "stdout",
     "output_type": "stream",
     "text": [
      "(3150, 5)\n",
      "(3150, 5)\n",
      "(2998, 5)\n",
      "(2196, 5)\n"
     ]
    }
   ],
   "source": [
    "dataset = pd.read_csv(\"amazon_alexa.tsv\", sep = \"\\t\", encoding = \"utf-8\")\n",
    "print(dataset.shape)\n",
    "dataset.dropna(inplace = True)\n",
    "print(dataset.shape)\n",
    "dataset.drop(dataset[dataset.rating == 3].index, inplace=True)\n",
    "print(dataset.shape)\n",
    "dataset.drop_duplicates(subset = \"verified_reviews\", inplace = True)\n",
    "print(dataset.shape)"
   ]
  },
  {
   "cell_type": "code",
   "execution_count": 5,
   "metadata": {},
   "outputs": [],
   "source": [
    "X = np.array(dataset[\"verified_reviews\"].values).reshape(-1, 1)\n",
    "y = list(dataset[\"feedback\"].values)"
   ]
  },
  {
   "cell_type": "code",
   "execution_count": 6,
   "metadata": {},
   "outputs": [
    {
     "name": "stdout",
     "output_type": "stream",
     "text": [
      "Resampled dataset shape Counter({1: 412, 0: 206})\n"
     ]
    }
   ],
   "source": [
    "from imblearn.under_sampling import RandomUnderSampler\n",
    "from collections import Counter\n",
    "\n",
    "undersampler = RandomUnderSampler(sampling_strategy=0.5, random_state = 0)\n",
    "\n",
    "X, y = undersampler.fit_resample(X, y)\n",
    "\n",
    "\n",
    "print('Resampled dataset shape %s' % Counter(y))"
   ]
  },
  {
   "cell_type": "code",
   "execution_count": 7,
   "metadata": {},
   "outputs": [],
   "source": [
    "X_temp = []\n",
    "\n",
    "for rev in X:\n",
    "  X_temp.append(rev[0])"
   ]
  },
  {
   "cell_type": "code",
   "execution_count": 8,
   "metadata": {},
   "outputs": [
    {
     "name": "stdout",
     "output_type": "stream",
     "text": [
      "total number of types extracted is: 2693\n"
     ]
    }
   ],
   "source": [
    "new_text, new_sent_tok = tokenize_list_of_text(X_temp, custom_stopwords, True, 2)"
   ]
  },
  {
   "cell_type": "code",
   "execution_count": 9,
   "metadata": {},
   "outputs": [],
   "source": [
    "def frequency_cleaning(new_sent_tok, n):\n",
    "    \n",
    "    tot_tokens = []\n",
    "\n",
    "    for sent in new_sent_tok:\n",
    "        for tok in sent:\n",
    "            tot_tokens.append(tok)\n",
    "\n",
    "    freqs = nltk.FreqDist(tot_tokens)\n",
    "    cleaned_reviews = []\n",
    "\n",
    "    for sent in new_sent_tok:\n",
    "        clean_sent = []\n",
    "        for tok in sent:\n",
    "            if freqs[tok] > n:\n",
    "                clean_sent.append(tok)\n",
    "        cleaned_reviews.append(clean_sent)\n",
    "\n",
    "    return cleaned_reviews"
   ]
  },
  {
   "cell_type": "code",
   "execution_count": 10,
   "metadata": {},
   "outputs": [],
   "source": [
    "cleaned_reviews = frequency_cleaning(new_sent_tok, 2)"
   ]
  },
  {
   "cell_type": "code",
   "execution_count": 11,
   "metadata": {},
   "outputs": [
    {
     "data": {
      "text/plain": [
       "['fact_NN',\n",
       " 'answer_NNS',\n",
       " 'not_see_VB',\n",
       " 'real_JJ',\n",
       " 'household_NN',\n",
       " 'though_IN',\n",
       " 'good_JJ',\n",
       " 'day_NN']"
      ]
     },
     "execution_count": 11,
     "metadata": {},
     "output_type": "execute_result"
    }
   ],
   "source": [
    "bigrams = Phrases(cleaned_reviews, scoring=\"npmi\", threshold=0.60) #estrae le collocazioni tramite PMI\n",
    "bigrams[cleaned_reviews][0]"
   ]
  },
  {
   "cell_type": "code",
   "execution_count": 12,
   "metadata": {},
   "outputs": [],
   "source": [
    "X_train, X_test, Y_train, Y_test = train_test_split(bigrams[cleaned_reviews], y, test_size=0.20, random_state=10)"
   ]
  },
  {
   "cell_type": "code",
   "execution_count": 13,
   "metadata": {},
   "outputs": [
    {
     "name": "stdout",
     "output_type": "stream",
     "text": [
      "box_NN 0.2693722673908957\n",
      "even_RB_though_IN 0.2693722673908957\n",
      "far_RB 0.20215600784785842\n",
      "happy_JJ 0.4753244285386046\n",
      "like_IN 0.15763986748133363\n",
      "look_VBZ 0.25649877931002296\n",
      "new_JJ 0.2041650742860883\n",
      "original_JJ 0.251101726097465\n",
      "perfectly_RB 0.2772685786094323\n",
      "purchase_NN 0.25649877931002296\n",
      "refurbish_VBN 0.251101726097465\n",
      "two_CD 0.23386606096945184\n",
      "week_NNS 0.2866079325189088\n",
      "work_VBG 0.22392049137031347\n"
     ]
    }
   ],
   "source": [
    "tfidf = TfidfVectorizer(tokenizer=lambda i:i, lowercase=False, min_df = 0)\n",
    "tfidf_model = tfidf.fit_transform(X_train)\n",
    "X_test_tf = tfidf.transform(X_test)\n",
    "review = 0\n",
    "for score, feature in zip(tfidf_model.toarray()[review], tfidf.get_feature_names_out()):\n",
    "    if score > 0.0:\n",
    "        print(feature, score)"
   ]
  },
  {
   "cell_type": "code",
   "execution_count": 14,
   "metadata": {},
   "outputs": [],
   "source": [
    "w2v_model = Word2Vec(X_train, vector_size=100, window = 10, min_count = 0, sg=1, hs = 1, seed = 5, epochs=100)"
   ]
  },
  {
   "cell_type": "code",
   "execution_count": 15,
   "metadata": {},
   "outputs": [
    {
     "data": {
      "text/plain": [
       "[('great_JJ', 0.4103817641735077),\n",
       " ('command_NNS', 0.3745611906051636),\n",
       " ('love_VBP', 0.3717384934425354),\n",
       " ('good_JJ', 0.34893396496772766),\n",
       " ('not_problem_NN', 0.3488442301750183),\n",
       " ('game_NNS', 0.3429841697216034),\n",
       " ('play_VBG', 0.33462899923324585),\n",
       " ('favorite_JJ', 0.3295687139034271),\n",
       " ('song_NNS', 0.32041609287261963),\n",
       " ('sometimes_RB', 0.315849244594574)]"
      ]
     },
     "execution_count": 15,
     "metadata": {},
     "output_type": "execute_result"
    }
   ],
   "source": [
    "w2v_model.wv.most_similar(\"love_VB\", topn = 10)"
   ]
  },
  {
   "cell_type": "code",
   "execution_count": 16,
   "metadata": {},
   "outputs": [
    {
     "data": {
      "text/plain": [
       "[('research_NN', -0.09369165450334549),\n",
       " ('alarm_NN_clock_NN', -0.09507547318935394),\n",
       " ('stop_VBD', -0.09683091938495636),\n",
       " ('hop_VBG', -0.10076894611120224),\n",
       " ('already_RB', -0.10347534716129303),\n",
       " ('enough_RB', -0.10750862210988998),\n",
       " ('device_NN', -0.10778271406888962),\n",
       " ('give_VBN', -0.1325184851884842),\n",
       " ('price_NN', -0.14415259659290314),\n",
       " ('differ_VB', -0.14933691918849945)]"
      ]
     },
     "execution_count": 16,
     "metadata": {},
     "output_type": "execute_result"
    }
   ],
   "source": [
    "w2v_model.wv.most_similar(\"love_VB\", topn = 2000)[-10:]"
   ]
  },
  {
   "cell_type": "code",
   "execution_count": 17,
   "metadata": {},
   "outputs": [],
   "source": [
    "def review_vectors(tokens, size = 300, weights = [], pretrained = False, pretrained_embeddings = None):\n",
    "    \n",
    "    \"\"\"Genera un vettore per ogni recensione: questo vettore\n",
    "    è calcolato come la media ponderata (t * w: token vettore * peso tfidf) dei vettori dei token nella recensione.\n",
    "    Il vettore risultante è normalizzato alla fine.\"\"\"\n",
    "\n",
    "    vec = np.zeros(size).reshape((1, size))\n",
    "    count = 0\n",
    "\n",
    "    for word, weight in zip(tokens, weights):\n",
    "        try:\n",
    "            if pretrained:\n",
    "                vec += pretrained_embeddings[word] \n",
    "                count +=1\n",
    "            else:\n",
    "                vec += w2v_model.wv[word]\n",
    "                count +=1\n",
    "        except KeyError:\n",
    "            # print(\"non trovo\", word)\n",
    "            continue\n",
    "\n",
    "    if count!= 0:\n",
    "        vec = vec / norm(vec)\n",
    "        \n",
    "    return vec"
   ]
  },
  {
   "cell_type": "code",
   "execution_count": 18,
   "metadata": {},
   "outputs": [
    {
     "data": {
      "text/plain": [
       "100"
      ]
     },
     "execution_count": 18,
     "metadata": {},
     "output_type": "execute_result"
    }
   ],
   "source": [
    "w2v_model.vector_size"
   ]
  },
  {
   "cell_type": "code",
   "execution_count": 19,
   "metadata": {},
   "outputs": [
    {
     "data": {
      "text/plain": [
       "(494, 100)"
      ]
     },
     "execution_count": 19,
     "metadata": {},
     "output_type": "execute_result"
    }
   ],
   "source": [
    "w2v_X_train = np.zeros((len(X_train), w2v_model.vector_size))\n",
    "for i in range(len(X_train)):\n",
    "    w2v_X_train[i,:] = review_vectors(tfidf.inverse_transform(tfidf_model[i, :])[0], w2v_model.vector_size, tfidf_model[i,:].data, False, glove_twitter_25)\n",
    "w2v_X_train.shape"
   ]
  },
  {
   "cell_type": "code",
   "execution_count": 20,
   "metadata": {},
   "outputs": [
    {
     "data": {
      "text/plain": [
       "(124, 100)"
      ]
     },
     "execution_count": 20,
     "metadata": {},
     "output_type": "execute_result"
    }
   ],
   "source": [
    "w2v_X_test = np.zeros((len(X_test), w2v_model.vector_size))\n",
    "for i in range(len(X_test)):\n",
    "    w2v_X_test[i,:] = review_vectors(tfidf.inverse_transform(X_test_tf[i, :])[0], w2v_model.vector_size, X_test_tf[i,:].data, False, glove_twitter_25)\n",
    "w2v_X_test.shape"
   ]
  },
  {
   "cell_type": "code",
   "execution_count": 21,
   "metadata": {},
   "outputs": [
    {
     "name": "stdout",
     "output_type": "stream",
     "text": [
      "Resampled dataset shape Counter({1: 329, 0: 165})\n"
     ]
    }
   ],
   "source": [
    "from imblearn.over_sampling import SMOTE\n",
    "from imblearn.under_sampling import RandomUnderSampler, TomekLinks\n",
    "\n",
    "# # Create the SMOTE object\n",
    "# sm = SMOTE(sampling_strategy=1, k_neighbors=5, random_state=10)\n",
    "\n",
    "# # Apply SMOTE to the training data\n",
    "# X_train_resampled, y_train_resampled = sm.fit_resample(w2v_X_train, Y_train)\n",
    "\n",
    "# print('Resampled dataset shape %s' % Counter(y_train_resampled))\n",
    "\n",
    "undersampler_nn = TomekLinks(sampling_strategy=\"all\") # use tomeLinks to remove ambiguous data through nearest neighbours\n",
    "\n",
    "\n",
    "# Fit and transform the X and y data\n",
    "# X_train_resampled, y_train_resampled = undersampler_nn.fit_resample(w2v_X_train, Y_train)\n",
    "\n",
    "X_train_resampled, y_train_resampled = w2v_X_train, Y_train\n",
    "\n",
    "\n",
    "print('Resampled dataset shape %s' % Counter(y_train_resampled))"
   ]
  },
  {
   "cell_type": "code",
   "execution_count": 22,
   "metadata": {},
   "outputs": [],
   "source": [
    "from keras.layers import Flatten"
   ]
  },
  {
   "cell_type": "code",
   "execution_count": 23,
   "metadata": {},
   "outputs": [],
   "source": [
    "from keras.utils import to_categorical\n",
    "Y_train_hot = to_categorical(y_train_resampled)"
   ]
  },
  {
   "cell_type": "code",
   "execution_count": 24,
   "metadata": {},
   "outputs": [],
   "source": [
    "Y_test_hot = to_categorical(Y_test)"
   ]
  },
  {
   "cell_type": "code",
   "execution_count": 31,
   "metadata": {},
   "outputs": [],
   "source": [
    "from keras.callbacks import EarlyStopping\n",
    "\n",
    "# Define the early stopping criteria\n",
    "early_stopping = EarlyStopping(monitor='binary_accuracy', patience=25)\n",
    "\n",
    "# Fit the model with early stopping\n",
    "model = Sequential()\n",
    "model.add(Dense(300, activation='relu', input_dim=w2v_model.vector_size))\n",
    "model.add(Dropout(0.2))\n",
    "model.add(Dense(300, activation='relu'))\n",
    "model.add(Dropout(0.2))\n",
    "model.add(Dense(100, activation='relu'))\n",
    "model.add(Dropout(0.2))\n",
    "model.add(Dense(2, activation='sigmoid'))\n",
    "\n",
    "# Compile your model\n",
    "model.compile(loss='binary_crossentropy', optimizer='adam', metrics=['binary_accuracy'])"
   ]
  },
  {
   "cell_type": "code",
   "execution_count": 32,
   "metadata": {},
   "outputs": [
    {
     "name": "stdout",
     "output_type": "stream",
     "text": [
      "Epoch 1/100\n",
      "37/37 - 1s - loss: 0.6095 - binary_accuracy: 0.6588 - val_loss: 0.5473 - val_binary_accuracy: 0.6900 - 1s/epoch - 28ms/step\n",
      "Epoch 2/100\n",
      "37/37 - 0s - loss: 0.3973 - binary_accuracy: 0.8198 - val_loss: 0.4916 - val_binary_accuracy: 0.8000 - 112ms/epoch - 3ms/step\n",
      "Epoch 3/100\n",
      "37/37 - 0s - loss: 0.2791 - binary_accuracy: 0.8998 - val_loss: 0.4976 - val_binary_accuracy: 0.8200 - 114ms/epoch - 3ms/step\n",
      "Epoch 4/100\n",
      "37/37 - 0s - loss: 0.2260 - binary_accuracy: 0.9110 - val_loss: 0.4700 - val_binary_accuracy: 0.8000 - 136ms/epoch - 4ms/step\n",
      "Epoch 5/100\n",
      "37/37 - 0s - loss: 0.1908 - binary_accuracy: 0.9245 - val_loss: 0.4224 - val_binary_accuracy: 0.7800 - 126ms/epoch - 3ms/step\n",
      "Epoch 6/100\n",
      "37/37 - 0s - loss: 0.1390 - binary_accuracy: 0.9516 - val_loss: 0.5604 - val_binary_accuracy: 0.8200 - 112ms/epoch - 3ms/step\n",
      "Epoch 7/100\n",
      "37/37 - 0s - loss: 0.1345 - binary_accuracy: 0.9471 - val_loss: 0.4669 - val_binary_accuracy: 0.8000 - 134ms/epoch - 4ms/step\n",
      "Epoch 8/100\n",
      "37/37 - 0s - loss: 0.0835 - binary_accuracy: 0.9741 - val_loss: 0.5632 - val_binary_accuracy: 0.7800 - 137ms/epoch - 4ms/step\n",
      "Epoch 9/100\n",
      "37/37 - 0s - loss: 0.0749 - binary_accuracy: 0.9752 - val_loss: 0.6035 - val_binary_accuracy: 0.8000 - 116ms/epoch - 3ms/step\n",
      "Epoch 10/100\n",
      "37/37 - 0s - loss: 0.0606 - binary_accuracy: 0.9809 - val_loss: 0.5849 - val_binary_accuracy: 0.8400 - 107ms/epoch - 3ms/step\n",
      "Epoch 11/100\n",
      "37/37 - 0s - loss: 0.0453 - binary_accuracy: 0.9842 - val_loss: 0.5661 - val_binary_accuracy: 0.8400 - 106ms/epoch - 3ms/step\n",
      "Epoch 12/100\n",
      "37/37 - 0s - loss: 0.0532 - binary_accuracy: 0.9786 - val_loss: 0.6499 - val_binary_accuracy: 0.8000 - 105ms/epoch - 3ms/step\n",
      "Epoch 13/100\n",
      "37/37 - 0s - loss: 0.0316 - binary_accuracy: 0.9887 - val_loss: 0.8061 - val_binary_accuracy: 0.8400 - 110ms/epoch - 3ms/step\n",
      "Epoch 14/100\n",
      "37/37 - 0s - loss: 0.0354 - binary_accuracy: 0.9865 - val_loss: 0.6368 - val_binary_accuracy: 0.8300 - 109ms/epoch - 3ms/step\n",
      "Epoch 15/100\n",
      "37/37 - 0s - loss: 0.0311 - binary_accuracy: 0.9865 - val_loss: 0.6823 - val_binary_accuracy: 0.8200 - 107ms/epoch - 3ms/step\n",
      "Epoch 16/100\n",
      "37/37 - 0s - loss: 0.0267 - binary_accuracy: 0.9887 - val_loss: 0.7196 - val_binary_accuracy: 0.8200 - 109ms/epoch - 3ms/step\n",
      "Epoch 17/100\n",
      "37/37 - 0s - loss: 0.0289 - binary_accuracy: 0.9865 - val_loss: 0.7159 - val_binary_accuracy: 0.8200 - 107ms/epoch - 3ms/step\n",
      "Epoch 18/100\n",
      "37/37 - 0s - loss: 0.0306 - binary_accuracy: 0.9865 - val_loss: 0.7455 - val_binary_accuracy: 0.8200 - 108ms/epoch - 3ms/step\n",
      "Epoch 19/100\n",
      "37/37 - 0s - loss: 0.0298 - binary_accuracy: 0.9865 - val_loss: 0.7548 - val_binary_accuracy: 0.8400 - 107ms/epoch - 3ms/step\n",
      "Epoch 20/100\n",
      "37/37 - 0s - loss: 0.0247 - binary_accuracy: 0.9887 - val_loss: 0.8051 - val_binary_accuracy: 0.8300 - 110ms/epoch - 3ms/step\n",
      "Epoch 21/100\n",
      "37/37 - 0s - loss: 0.0261 - binary_accuracy: 0.9887 - val_loss: 0.8245 - val_binary_accuracy: 0.8000 - 112ms/epoch - 3ms/step\n",
      "Epoch 22/100\n",
      "37/37 - 0s - loss: 0.0230 - binary_accuracy: 0.9887 - val_loss: 0.8190 - val_binary_accuracy: 0.8200 - 113ms/epoch - 3ms/step\n",
      "Epoch 23/100\n",
      "37/37 - 0s - loss: 0.0259 - binary_accuracy: 0.9887 - val_loss: 0.8456 - val_binary_accuracy: 0.8400 - 108ms/epoch - 3ms/step\n",
      "Epoch 24/100\n",
      "37/37 - 0s - loss: 0.0249 - binary_accuracy: 0.9887 - val_loss: 0.8967 - val_binary_accuracy: 0.8200 - 107ms/epoch - 3ms/step\n",
      "Epoch 25/100\n",
      "37/37 - 0s - loss: 0.0233 - binary_accuracy: 0.9887 - val_loss: 0.9128 - val_binary_accuracy: 0.8200 - 108ms/epoch - 3ms/step\n",
      "Epoch 26/100\n",
      "37/37 - 0s - loss: 0.0241 - binary_accuracy: 0.9887 - val_loss: 0.9672 - val_binary_accuracy: 0.8400 - 109ms/epoch - 3ms/step\n",
      "Epoch 27/100\n",
      "37/37 - 0s - loss: 0.0375 - binary_accuracy: 0.9865 - val_loss: 0.9162 - val_binary_accuracy: 0.8200 - 105ms/epoch - 3ms/step\n",
      "Epoch 28/100\n",
      "37/37 - 0s - loss: 0.0632 - binary_accuracy: 0.9775 - val_loss: 1.0008 - val_binary_accuracy: 0.8000 - 104ms/epoch - 3ms/step\n",
      "Epoch 29/100\n",
      "37/37 - 0s - loss: 0.0548 - binary_accuracy: 0.9809 - val_loss: 0.7010 - val_binary_accuracy: 0.8200 - 105ms/epoch - 3ms/step\n",
      "Epoch 30/100\n",
      "37/37 - 0s - loss: 0.0465 - binary_accuracy: 0.9775 - val_loss: 0.8099 - val_binary_accuracy: 0.8400 - 106ms/epoch - 3ms/step\n",
      "Epoch 31/100\n",
      "37/37 - 0s - loss: 0.0333 - binary_accuracy: 0.9865 - val_loss: 0.7559 - val_binary_accuracy: 0.8000 - 105ms/epoch - 3ms/step\n",
      "Epoch 32/100\n",
      "37/37 - 0s - loss: 0.0464 - binary_accuracy: 0.9797 - val_loss: 1.2094 - val_binary_accuracy: 0.8200 - 105ms/epoch - 3ms/step\n",
      "Epoch 33/100\n",
      "37/37 - 0s - loss: 0.0458 - binary_accuracy: 0.9820 - val_loss: 0.9697 - val_binary_accuracy: 0.8200 - 108ms/epoch - 3ms/step\n",
      "Epoch 34/100\n",
      "37/37 - 0s - loss: 0.0302 - binary_accuracy: 0.9842 - val_loss: 1.0088 - val_binary_accuracy: 0.8000 - 105ms/epoch - 3ms/step\n",
      "Epoch 35/100\n",
      "37/37 - 0s - loss: 0.0245 - binary_accuracy: 0.9887 - val_loss: 1.1167 - val_binary_accuracy: 0.8200 - 109ms/epoch - 3ms/step\n",
      "Epoch 36/100\n",
      "37/37 - 0s - loss: 0.0295 - binary_accuracy: 0.9865 - val_loss: 1.0719 - val_binary_accuracy: 0.8200 - 106ms/epoch - 3ms/step\n",
      "Epoch 37/100\n",
      "37/37 - 0s - loss: 0.0247 - binary_accuracy: 0.9887 - val_loss: 1.1507 - val_binary_accuracy: 0.7800 - 113ms/epoch - 3ms/step\n",
      "Epoch 38/100\n",
      "37/37 - 0s - loss: 0.0267 - binary_accuracy: 0.9865 - val_loss: 1.2577 - val_binary_accuracy: 0.8000 - 106ms/epoch - 3ms/step\n"
     ]
    },
    {
     "data": {
      "text/plain": [
       "<keras.callbacks.History at 0x1a12e8d9930>"
      ]
     },
     "execution_count": 32,
     "metadata": {},
     "output_type": "execute_result"
    }
   ],
   "source": [
    "model.fit(X_train_resampled, Y_train_hot, epochs=100, batch_size=12, verbose=2, validation_split=0.1, callbacks = [early_stopping])"
   ]
  },
  {
   "cell_type": "code",
   "execution_count": 33,
   "metadata": {},
   "outputs": [
    {
     "name": "stdout",
     "output_type": "stream",
     "text": [
      "Model: \"sequential_1\"\n",
      "_________________________________________________________________\n",
      " Layer (type)                Output Shape              Param #   \n",
      "=================================================================\n",
      " dense_4 (Dense)             (None, 300)               30300     \n",
      "                                                                 \n",
      " dropout_3 (Dropout)         (None, 300)               0         \n",
      "                                                                 \n",
      " dense_5 (Dense)             (None, 300)               90300     \n",
      "                                                                 \n",
      " dropout_4 (Dropout)         (None, 300)               0         \n",
      "                                                                 \n",
      " dense_6 (Dense)             (None, 100)               30100     \n",
      "                                                                 \n",
      " dropout_5 (Dropout)         (None, 100)               0         \n",
      "                                                                 \n",
      " dense_7 (Dense)             (None, 2)                 202       \n",
      "                                                                 \n",
      "=================================================================\n",
      "Total params: 150,902\n",
      "Trainable params: 150,902\n",
      "Non-trainable params: 0\n",
      "_________________________________________________________________\n"
     ]
    }
   ],
   "source": [
    "model.summary()"
   ]
  },
  {
   "cell_type": "code",
   "execution_count": 34,
   "metadata": {},
   "outputs": [
    {
     "name": "stdout",
     "output_type": "stream",
     "text": [
      "4/4 [==============================] - 0s 2ms/step\n"
     ]
    }
   ],
   "source": [
    "predictions = model.predict(w2v_X_test) "
   ]
  },
  {
   "cell_type": "code",
   "execution_count": 35,
   "metadata": {},
   "outputs": [],
   "source": [
    "predictions = np.round(predictions)"
   ]
  },
  {
   "cell_type": "code",
   "execution_count": 36,
   "metadata": {},
   "outputs": [
    {
     "name": "stdout",
     "output_type": "stream",
     "text": [
      "              precision    recall  f1-score   support\n",
      "\n",
      "           0       0.69      0.71      0.70        41\n",
      "           1       0.85      0.84      0.85        83\n",
      "\n",
      "   micro avg       0.80      0.80      0.80       124\n",
      "   macro avg       0.77      0.78      0.77       124\n",
      "weighted avg       0.80      0.80      0.80       124\n",
      " samples avg       0.80      0.80      0.80       124\n",
      "\n"
     ]
    }
   ],
   "source": [
    "from sklearn.metrics import classification_report\n",
    "print(classification_report(Y_test_hot, predictions))"
   ]
  },
  {
   "cell_type": "code",
   "execution_count": null,
   "metadata": {},
   "outputs": [],
   "source": []
  }
 ],
 "metadata": {
  "kernelspec": {
   "display_name": "Python 3",
   "language": "python",
   "name": "python3"
  },
  "language_info": {
   "codemirror_mode": {
    "name": "ipython",
    "version": 3
   },
   "file_extension": ".py",
   "mimetype": "text/x-python",
   "name": "python",
   "nbconvert_exporter": "python",
   "pygments_lexer": "ipython3",
   "version": "3.10.6"
  },
  "orig_nbformat": 4,
  "vscode": {
   "interpreter": {
    "hash": "43973268aa23c7cf4b4cafe0e819fac9b2412fcc991a21988492c3271a4e3f9b"
   }
  }
 },
 "nbformat": 4,
 "nbformat_minor": 2
}
