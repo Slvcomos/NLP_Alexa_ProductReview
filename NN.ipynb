{
 "cells": [
  {
   "cell_type": "code",
   "execution_count": 1,
   "metadata": {},
   "outputs": [],
   "source": [
    "from keras.preprocessing import sequence\n",
    "from keras.models import Sequential\n",
    "from keras.layers import Dense, Dropout, Activation\n",
    "import pandas as pd\n",
    "import nltk\n",
    "from sklearn.model_selection import train_test_split\n",
    "from sklearn import metrics\n",
    "from sklearn.svm import LinearSVC, SVC\n",
    "from sklearn.naive_bayes import MultinomialNB\n",
    "from sklearn.feature_extraction.text import TfidfVectorizer\n",
    "import string\n",
    "from nltk import pos_tag\n",
    "from nltk.corpus import stopwords\n",
    "from nltk.corpus import wordnet\n",
    "import re\n",
    "import gensim\n",
    "from gensim.models import KeyedVectors\n",
    "import numpy as np\n",
    "from collections import Counter\n",
    "from numpy import dot\n",
    "from numpy.linalg import norm\n",
    "from gensim.models import Word2Vec\n",
    "from gensim.models.phrases import Phrases\n",
    "from nltk import sent_tokenize\n",
    "from nltk.tokenize.treebank import TreebankWordDetokenizer\n",
    "import gensim.downloader as api\n",
    "from sklearn.model_selection import GridSearchCV, StratifiedKFold\n",
    "from sklearn.metrics import accuracy_score, f1_score, classification_report\n",
    "from sklearn.metrics import accuracy_score, precision_score, recall_score, make_scorer\n",
    "from preprocessing import *"
   ]
  },
  {
   "cell_type": "code",
   "execution_count": 17,
   "metadata": {},
   "outputs": [],
   "source": [
    "glove_twitter_25 = []"
   ]
  },
  {
   "cell_type": "code",
   "execution_count": 2,
   "metadata": {},
   "outputs": [
    {
     "name": "stdout",
     "output_type": "stream",
     "text": [
      "loading pre trained embeddings, this can take some minutes...\n",
      "loading complete.\n"
     ]
    }
   ],
   "source": [
    "print(\"loading pre trained embeddings, this can take some minutes...\")\n",
    "glove_twitter_25 = KeyedVectors.load_word2vec_format('glove-twitter-25.txt', binary=False)\n",
    "print(\"loading complete.\")"
   ]
  },
  {
   "cell_type": "code",
   "execution_count": 2,
   "metadata": {},
   "outputs": [
    {
     "name": "stdout",
     "output_type": "stream",
     "text": [
      "(3150, 5)\n",
      "(3150, 5)\n",
      "(2998, 5)\n",
      "(2322, 5)\n"
     ]
    }
   ],
   "source": [
    "dataset = pd.read_csv(\"amazon_alexa.tsv\", sep = \"\\t\", encoding = \"utf-8\")\n",
    "print(dataset.shape)\n",
    "dataset.dropna(inplace = True)\n",
    "print(dataset.shape)\n",
    "dataset.drop(dataset[dataset.rating == 3].index, inplace=True)\n",
    "print(dataset.shape)\n",
    "dataset.drop_duplicates(inplace = True)\n",
    "print(dataset.shape)"
   ]
  },
  {
   "cell_type": "code",
   "execution_count": 3,
   "metadata": {},
   "outputs": [],
   "source": [
    "X = np.array(dataset[\"verified_reviews\"].values).reshape(-1, 1)\n",
    "y = list(dataset[\"feedback\"].values)"
   ]
  },
  {
   "cell_type": "code",
   "execution_count": 4,
   "metadata": {},
   "outputs": [
    {
     "name": "stdout",
     "output_type": "stream",
     "text": [
      "Resampled dataset shape Counter({1: 442, 0: 221})\n"
     ]
    }
   ],
   "source": [
    "from imblearn.under_sampling import RandomUnderSampler\n",
    "from collections import Counter\n",
    "\n",
    "undersampler = RandomUnderSampler(sampling_strategy=0.5, random_state = 0)\n",
    "\n",
    "X, y = undersampler.fit_resample(X, y)\n",
    "\n",
    "\n",
    "print('Resampled dataset shape %s' % Counter(y))"
   ]
  },
  {
   "cell_type": "code",
   "execution_count": 5,
   "metadata": {},
   "outputs": [],
   "source": [
    "X_temp = []\n",
    "\n",
    "for rev in X:\n",
    "  X_temp.append(rev[0])"
   ]
  },
  {
   "cell_type": "code",
   "execution_count": 6,
   "metadata": {},
   "outputs": [
    {
     "name": "stdout",
     "output_type": "stream",
     "text": [
      "total number of types extracted is: 1810\n"
     ]
    }
   ],
   "source": [
    "new_text, new_sent_tok = tokenize_list_of_text(X_temp, custom_stopwords, False, pos_list)"
   ]
  },
  {
   "cell_type": "code",
   "execution_count": 7,
   "metadata": {},
   "outputs": [],
   "source": [
    "def frequency_cleaning(new_sent_tok, n):\n",
    "    \n",
    "    tot_tokens = []\n",
    "\n",
    "    for sent in new_sent_tok:\n",
    "        for tok in sent:\n",
    "            tot_tokens.append(tok)\n",
    "\n",
    "    freqs = nltk.FreqDist(tot_tokens)\n",
    "    cleaned_reviews = []\n",
    "\n",
    "    for sent in new_sent_tok:\n",
    "        clean_sent = []\n",
    "        for tok in sent:\n",
    "            if freqs[tok] > n:\n",
    "                clean_sent.append(tok)\n",
    "        cleaned_reviews.append(clean_sent)\n",
    "\n",
    "    return cleaned_reviews"
   ]
  },
  {
   "cell_type": "code",
   "execution_count": 8,
   "metadata": {},
   "outputs": [],
   "source": [
    "cleaned_reviews = frequency_cleaning(new_sent_tok, 2)"
   ]
  },
  {
   "cell_type": "code",
   "execution_count": 9,
   "metadata": {},
   "outputs": [
    {
     "data": {
      "text/plain": [
       "['like',\n",
       " 'fact',\n",
       " 'answer',\n",
       " \"n't_see\",\n",
       " 'real',\n",
       " 'need',\n",
       " 'household',\n",
       " 'though',\n",
       " 'good',\n",
       " 'day',\n",
       " 'deal']"
      ]
     },
     "execution_count": 9,
     "metadata": {},
     "output_type": "execute_result"
    }
   ],
   "source": [
    "bigrams = Phrases(cleaned_reviews, scoring=\"npmi\", threshold=0.60) #estrae le collocazioni tramite PMI\n",
    "bigrams[cleaned_reviews][0]"
   ]
  },
  {
   "cell_type": "code",
   "execution_count": 10,
   "metadata": {},
   "outputs": [],
   "source": [
    "X_train, X_test, Y_train, Y_test = train_test_split(bigrams[cleaned_reviews], y, test_size=0.20, random_state=10)"
   ]
  },
  {
   "cell_type": "code",
   "execution_count": 11,
   "metadata": {},
   "outputs": [],
   "source": [
    "w2v_model = Word2Vec(X_train, vector_size=100, window = 10, min_count = 0, sg=1, hs = 1, seed = 5, epochs=100)"
   ]
  },
  {
   "cell_type": "code",
   "execution_count": 12,
   "metadata": {},
   "outputs": [
    {
     "data": {
      "text/plain": [
       "[('recipe', 0.48422297835350037),\n",
       " ('great', 0.4830770790576935),\n",
       " ('cook', 0.4746050536632538),\n",
       " ('like', 0.3906935155391693),\n",
       " ('live', 0.38091951608657837),\n",
       " ('morning', 0.3785885274410248),\n",
       " ('alarm_clock', 0.3778526782989502),\n",
       " ('kitchen', 0.3760863244533539),\n",
       " ('base', 0.3586503565311432),\n",
       " ('spanish', 0.3468755781650543)]"
      ]
     },
     "execution_count": 12,
     "metadata": {},
     "output_type": "execute_result"
    }
   ],
   "source": [
    "w2v_model.wv.most_similar(\"love\", topn = 10)"
   ]
  },
  {
   "cell_type": "code",
   "execution_count": 13,
   "metadata": {},
   "outputs": [
    {
     "data": {
      "text/plain": [
       "[('step', -0.0566699355840683),\n",
       " ('offer', -0.06057509407401085),\n",
       " ('seem', -0.07512812316417694),\n",
       " ('result', -0.07515031844377518),\n",
       " ('fairly', -0.07775980234146118),\n",
       " ('high', -0.07840931415557861),\n",
       " ('phone', -0.0816013291478157),\n",
       " ('time', -0.09640014916658401),\n",
       " ('standard', -0.12020003795623779),\n",
       " ('try', -0.12049003690481186)]"
      ]
     },
     "execution_count": 13,
     "metadata": {},
     "output_type": "execute_result"
    }
   ],
   "source": [
    "w2v_model.wv.most_similar(\"love\", topn = 2000)[-10:]"
   ]
  },
  {
   "cell_type": "code",
   "execution_count": 14,
   "metadata": {},
   "outputs": [],
   "source": [
    "def review_vectors(tokens, size = 300, pretrained = False, pretrained_embeddings = None):\n",
    "    \n",
    "    \"\"\"Genera un vettore per ogni recensione: questo vettore\n",
    "    è calcolato come la media ponderata (t * w: token vettore * peso tfidf) dei vettori dei token nella recensione.\n",
    "    Il vettore risultante è normalizzato alla fine.\"\"\"\n",
    "\n",
    "    vec = np.zeros(size).reshape((1, size))\n",
    "    count = 0\n",
    "\n",
    "    for word in tokens:\n",
    "        try:\n",
    "            if pretrained:\n",
    "                vec += pretrained_embeddings[word]\n",
    "                count +=1\n",
    "            else:\n",
    "                vec += w2v_model.wv[word]\n",
    "                count +=1\n",
    "        except KeyError:\n",
    "            # print(\"non trovo\", word)\n",
    "            continue\n",
    "\n",
    "    if count!= 0:\n",
    "        vec = vec / norm(vec)\n",
    "        \n",
    "    return vec"
   ]
  },
  {
   "cell_type": "code",
   "execution_count": 15,
   "metadata": {},
   "outputs": [
    {
     "data": {
      "text/plain": [
       "100"
      ]
     },
     "execution_count": 15,
     "metadata": {},
     "output_type": "execute_result"
    }
   ],
   "source": [
    "w2v_model.vector_size"
   ]
  },
  {
   "cell_type": "code",
   "execution_count": 18,
   "metadata": {},
   "outputs": [
    {
     "data": {
      "text/plain": [
       "(530, 100)"
      ]
     },
     "execution_count": 18,
     "metadata": {},
     "output_type": "execute_result"
    }
   ],
   "source": [
    "w2v_X_train = np.zeros((len(X_train), w2v_model.vector_size))\n",
    "for i in range(len(X_train)):\n",
    "    w2v_X_train[i,:] = review_vectors(X_train[i], w2v_model.vector_size,False, glove_twitter_25)\n",
    "w2v_X_train.shape"
   ]
  },
  {
   "cell_type": "code",
   "execution_count": 19,
   "metadata": {},
   "outputs": [
    {
     "data": {
      "text/plain": [
       "(133, 100)"
      ]
     },
     "execution_count": 19,
     "metadata": {},
     "output_type": "execute_result"
    }
   ],
   "source": [
    "w2v_X_test = np.zeros((len(X_test), w2v_model.vector_size))\n",
    "for i in range(len(X_test)):\n",
    "    w2v_X_test[i,:] = review_vectors(X_test[i], w2v_model.vector_size,False, glove_twitter_25)\n",
    "w2v_X_test.shape"
   ]
  },
  {
   "cell_type": "code",
   "execution_count": 20,
   "metadata": {},
   "outputs": [
    {
     "name": "stdout",
     "output_type": "stream",
     "text": [
      "Resampled dataset shape Counter({1: 330, 0: 158})\n"
     ]
    }
   ],
   "source": [
    "from imblearn.over_sampling import SMOTE\n",
    "from imblearn.under_sampling import RandomUnderSampler, TomekLinks\n",
    "\n",
    "# # Create the SMOTE object\n",
    "# sm = SMOTE(sampling_strategy=1, k_neighbors=5, random_state=10)\n",
    "\n",
    "# # Apply SMOTE to the training data\n",
    "# X_train_resampled, y_train_resampled = sm.fit_resample(w2v_X_train, Y_train)\n",
    "\n",
    "# print('Resampled dataset shape %s' % Counter(y_train_resampled))\n",
    "\n",
    "undersampler_nn = TomekLinks(sampling_strategy=\"all\") # use tomeLinks to remove ambiguous data through nearest neighbours\n",
    "\n",
    "\n",
    "# Fit and transform the X and y data\n",
    "X_train_resampled, y_train_resampled = undersampler_nn.fit_resample(w2v_X_train, Y_train)\n",
    "\n",
    "\n",
    "print('Resampled dataset shape %s' % Counter(y_train_resampled))"
   ]
  },
  {
   "cell_type": "code",
   "execution_count": 21,
   "metadata": {},
   "outputs": [],
   "source": [
    "from keras.layers import Flatten"
   ]
  },
  {
   "cell_type": "code",
   "execution_count": 22,
   "metadata": {},
   "outputs": [],
   "source": [
    "from keras.utils import to_categorical\n",
    "Y_train_hot = to_categorical(y_train_resampled)"
   ]
  },
  {
   "cell_type": "code",
   "execution_count": 23,
   "metadata": {},
   "outputs": [],
   "source": [
    "Y_test_hot = to_categorical(Y_test)"
   ]
  },
  {
   "cell_type": "code",
   "execution_count": 25,
   "metadata": {},
   "outputs": [
    {
     "name": "stdout",
     "output_type": "stream",
     "text": [
      "Epoch 1/100\n",
      "37/37 - 1s - loss: 0.5939 - binary_accuracy: 0.6720 - val_loss: 0.4673 - val_binary_accuracy: 0.6939 - 1s/epoch - 37ms/step\n",
      "Epoch 2/100\n",
      "37/37 - 0s - loss: 0.3996 - binary_accuracy: 0.8178 - val_loss: 0.3164 - val_binary_accuracy: 0.8163 - 131ms/epoch - 4ms/step\n",
      "Epoch 3/100\n",
      "37/37 - 0s - loss: 0.2733 - binary_accuracy: 0.8827 - val_loss: 0.3229 - val_binary_accuracy: 0.8265 - 192ms/epoch - 5ms/step\n",
      "Epoch 4/100\n",
      "37/37 - 0s - loss: 0.2201 - binary_accuracy: 0.8941 - val_loss: 0.3505 - val_binary_accuracy: 0.8367 - 154ms/epoch - 4ms/step\n",
      "Epoch 5/100\n",
      "37/37 - 0s - loss: 0.1800 - binary_accuracy: 0.9203 - val_loss: 0.3679 - val_binary_accuracy: 0.8367 - 154ms/epoch - 4ms/step\n",
      "Epoch 6/100\n",
      "37/37 - 0s - loss: 0.1570 - binary_accuracy: 0.9260 - val_loss: 0.3857 - val_binary_accuracy: 0.8571 - 139ms/epoch - 4ms/step\n",
      "Epoch 7/100\n",
      "37/37 - 0s - loss: 0.1037 - binary_accuracy: 0.9419 - val_loss: 0.4239 - val_binary_accuracy: 0.8367 - 130ms/epoch - 4ms/step\n",
      "Epoch 8/100\n",
      "37/37 - 0s - loss: 0.0636 - binary_accuracy: 0.9567 - val_loss: 0.5781 - val_binary_accuracy: 0.8367 - 127ms/epoch - 3ms/step\n",
      "Epoch 9/100\n",
      "37/37 - 0s - loss: 0.0644 - binary_accuracy: 0.9715 - val_loss: 0.4903 - val_binary_accuracy: 0.8367 - 126ms/epoch - 3ms/step\n",
      "Epoch 10/100\n",
      "37/37 - 0s - loss: 0.0576 - binary_accuracy: 0.9647 - val_loss: 0.5234 - val_binary_accuracy: 0.8571 - 129ms/epoch - 3ms/step\n",
      "Epoch 11/100\n",
      "37/37 - 0s - loss: 0.0595 - binary_accuracy: 0.9544 - val_loss: 0.5723 - val_binary_accuracy: 0.8367 - 151ms/epoch - 4ms/step\n",
      "Epoch 12/100\n",
      "37/37 - 0s - loss: 0.0509 - binary_accuracy: 0.9658 - val_loss: 0.6525 - val_binary_accuracy: 0.8163 - 124ms/epoch - 3ms/step\n",
      "Epoch 13/100\n",
      "37/37 - 0s - loss: 0.0464 - binary_accuracy: 0.9670 - val_loss: 0.7072 - val_binary_accuracy: 0.8163 - 151ms/epoch - 4ms/step\n",
      "Epoch 14/100\n",
      "37/37 - 0s - loss: 0.0452 - binary_accuracy: 0.9749 - val_loss: 0.7371 - val_binary_accuracy: 0.8163 - 169ms/epoch - 5ms/step\n",
      "Epoch 15/100\n",
      "37/37 - 0s - loss: 0.0430 - binary_accuracy: 0.9601 - val_loss: 0.6768 - val_binary_accuracy: 0.8163 - 136ms/epoch - 4ms/step\n",
      "Epoch 16/100\n",
      "37/37 - 0s - loss: 0.0421 - binary_accuracy: 0.9658 - val_loss: 0.6871 - val_binary_accuracy: 0.8163 - 124ms/epoch - 3ms/step\n",
      "Epoch 17/100\n",
      "37/37 - 0s - loss: 0.0413 - binary_accuracy: 0.9772 - val_loss: 0.7502 - val_binary_accuracy: 0.8163 - 141ms/epoch - 4ms/step\n",
      "Epoch 18/100\n",
      "37/37 - 0s - loss: 0.0424 - binary_accuracy: 0.9636 - val_loss: 0.7020 - val_binary_accuracy: 0.8367 - 182ms/epoch - 5ms/step\n",
      "Epoch 19/100\n",
      "37/37 - 0s - loss: 0.0428 - binary_accuracy: 0.9727 - val_loss: 0.7555 - val_binary_accuracy: 0.8163 - 123ms/epoch - 3ms/step\n",
      "Epoch 20/100\n",
      "37/37 - 0s - loss: 0.0406 - binary_accuracy: 0.9658 - val_loss: 0.7293 - val_binary_accuracy: 0.8367 - 119ms/epoch - 3ms/step\n",
      "Epoch 21/100\n",
      "37/37 - 0s - loss: 0.0423 - binary_accuracy: 0.9704 - val_loss: 0.8019 - val_binary_accuracy: 0.8163 - 158ms/epoch - 4ms/step\n",
      "Epoch 22/100\n",
      "37/37 - 0s - loss: 0.0412 - binary_accuracy: 0.9544 - val_loss: 0.7703 - val_binary_accuracy: 0.8367 - 147ms/epoch - 4ms/step\n",
      "Epoch 23/100\n",
      "37/37 - 0s - loss: 0.0399 - binary_accuracy: 0.9704 - val_loss: 0.7860 - val_binary_accuracy: 0.8367 - 129ms/epoch - 3ms/step\n",
      "Epoch 24/100\n",
      "37/37 - 0s - loss: 0.0397 - binary_accuracy: 0.9715 - val_loss: 0.8257 - val_binary_accuracy: 0.8163 - 122ms/epoch - 3ms/step\n",
      "Epoch 25/100\n",
      "37/37 - 0s - loss: 0.0407 - binary_accuracy: 0.9715 - val_loss: 0.8201 - val_binary_accuracy: 0.8163 - 119ms/epoch - 3ms/step\n",
      "Epoch 26/100\n",
      "37/37 - 0s - loss: 0.0401 - binary_accuracy: 0.9738 - val_loss: 0.7960 - val_binary_accuracy: 0.8367 - 131ms/epoch - 4ms/step\n",
      "Epoch 27/100\n",
      "37/37 - 0s - loss: 0.0403 - binary_accuracy: 0.9715 - val_loss: 0.8091 - val_binary_accuracy: 0.8367 - 162ms/epoch - 4ms/step\n",
      "Epoch 28/100\n",
      "37/37 - 0s - loss: 0.0403 - binary_accuracy: 0.9704 - val_loss: 0.8748 - val_binary_accuracy: 0.8163 - 117ms/epoch - 3ms/step\n",
      "Epoch 29/100\n",
      "37/37 - 0s - loss: 0.0397 - binary_accuracy: 0.9749 - val_loss: 0.8913 - val_binary_accuracy: 0.8163 - 120ms/epoch - 3ms/step\n",
      "Epoch 30/100\n",
      "37/37 - 0s - loss: 0.0406 - binary_accuracy: 0.9704 - val_loss: 0.8490 - val_binary_accuracy: 0.8367 - 115ms/epoch - 3ms/step\n",
      "Epoch 31/100\n",
      "37/37 - 0s - loss: 0.0410 - binary_accuracy: 0.9624 - val_loss: 0.8336 - val_binary_accuracy: 0.8367 - 127ms/epoch - 3ms/step\n",
      "Epoch 32/100\n",
      "37/37 - 0s - loss: 0.0397 - binary_accuracy: 0.9704 - val_loss: 0.9037 - val_binary_accuracy: 0.8163 - 118ms/epoch - 3ms/step\n",
      "Epoch 33/100\n",
      "37/37 - 0s - loss: 0.0397 - binary_accuracy: 0.9727 - val_loss: 0.9456 - val_binary_accuracy: 0.8163 - 138ms/epoch - 4ms/step\n",
      "Epoch 34/100\n",
      "37/37 - 0s - loss: 0.0397 - binary_accuracy: 0.9749 - val_loss: 0.9230 - val_binary_accuracy: 0.8163 - 128ms/epoch - 3ms/step\n",
      "Epoch 35/100\n",
      "37/37 - 0s - loss: 0.0399 - binary_accuracy: 0.9704 - val_loss: 0.9407 - val_binary_accuracy: 0.8163 - 134ms/epoch - 4ms/step\n",
      "Epoch 36/100\n",
      "37/37 - 0s - loss: 0.0400 - binary_accuracy: 0.9670 - val_loss: 0.8988 - val_binary_accuracy: 0.8367 - 114ms/epoch - 3ms/step\n",
      "Epoch 37/100\n",
      "37/37 - 0s - loss: 0.0408 - binary_accuracy: 0.9704 - val_loss: 1.0355 - val_binary_accuracy: 0.8163 - 116ms/epoch - 3ms/step\n",
      "Epoch 38/100\n",
      "37/37 - 0s - loss: 0.0413 - binary_accuracy: 0.9715 - val_loss: 1.1476 - val_binary_accuracy: 0.8163 - 112ms/epoch - 3ms/step\n",
      "Epoch 39/100\n",
      "37/37 - 0s - loss: 0.0402 - binary_accuracy: 0.9681 - val_loss: 0.9405 - val_binary_accuracy: 0.8367 - 107ms/epoch - 3ms/step\n",
      "Epoch 40/100\n",
      "37/37 - 0s - loss: 0.0409 - binary_accuracy: 0.9715 - val_loss: 1.0419 - val_binary_accuracy: 0.8265 - 127ms/epoch - 3ms/step\n",
      "Epoch 41/100\n",
      "37/37 - 0s - loss: 0.0409 - binary_accuracy: 0.9715 - val_loss: 1.0957 - val_binary_accuracy: 0.8163 - 125ms/epoch - 3ms/step\n",
      "Epoch 42/100\n",
      "37/37 - 0s - loss: 0.0396 - binary_accuracy: 0.9784 - val_loss: 1.0403 - val_binary_accuracy: 0.8367 - 120ms/epoch - 3ms/step\n",
      "Epoch 43/100\n",
      "37/37 - 0s - loss: 0.0400 - binary_accuracy: 0.9704 - val_loss: 0.9722 - val_binary_accuracy: 0.8265 - 117ms/epoch - 3ms/step\n",
      "Epoch 44/100\n",
      "37/37 - 0s - loss: 0.0393 - binary_accuracy: 0.9727 - val_loss: 1.0536 - val_binary_accuracy: 0.8265 - 127ms/epoch - 3ms/step\n",
      "Epoch 45/100\n",
      "37/37 - 0s - loss: 0.0399 - binary_accuracy: 0.9704 - val_loss: 1.0550 - val_binary_accuracy: 0.8265 - 121ms/epoch - 3ms/step\n",
      "Epoch 46/100\n",
      "37/37 - 0s - loss: 0.0399 - binary_accuracy: 0.9692 - val_loss: 1.0081 - val_binary_accuracy: 0.8163 - 116ms/epoch - 3ms/step\n",
      "Epoch 47/100\n",
      "37/37 - 0s - loss: 0.0402 - binary_accuracy: 0.9624 - val_loss: 1.0904 - val_binary_accuracy: 0.8163 - 120ms/epoch - 3ms/step\n",
      "Epoch 48/100\n",
      "37/37 - 0s - loss: 0.0397 - binary_accuracy: 0.9738 - val_loss: 1.1444 - val_binary_accuracy: 0.8163 - 124ms/epoch - 3ms/step\n",
      "Epoch 49/100\n",
      "37/37 - 0s - loss: 0.0403 - binary_accuracy: 0.9692 - val_loss: 1.0566 - val_binary_accuracy: 0.8163 - 119ms/epoch - 3ms/step\n",
      "Epoch 50/100\n",
      "37/37 - 0s - loss: 0.0404 - binary_accuracy: 0.9715 - val_loss: 1.2187 - val_binary_accuracy: 0.8163 - 123ms/epoch - 3ms/step\n",
      "Epoch 51/100\n",
      "37/37 - 0s - loss: 0.0405 - binary_accuracy: 0.9727 - val_loss: 1.1235 - val_binary_accuracy: 0.8163 - 120ms/epoch - 3ms/step\n",
      "Epoch 52/100\n",
      "37/37 - 0s - loss: 0.0401 - binary_accuracy: 0.9738 - val_loss: 0.9720 - val_binary_accuracy: 0.8163 - 120ms/epoch - 3ms/step\n",
      "Epoch 53/100\n",
      "37/37 - 0s - loss: 0.0404 - binary_accuracy: 0.9738 - val_loss: 1.0446 - val_binary_accuracy: 0.8367 - 133ms/epoch - 4ms/step\n",
      "Epoch 54/100\n",
      "37/37 - 0s - loss: 0.0401 - binary_accuracy: 0.9727 - val_loss: 1.0713 - val_binary_accuracy: 0.8265 - 121ms/epoch - 3ms/step\n",
      "Epoch 55/100\n",
      "37/37 - 0s - loss: 0.0401 - binary_accuracy: 0.9658 - val_loss: 1.1994 - val_binary_accuracy: 0.8367 - 122ms/epoch - 3ms/step\n",
      "Epoch 56/100\n",
      "37/37 - 0s - loss: 0.0398 - binary_accuracy: 0.9715 - val_loss: 1.1980 - val_binary_accuracy: 0.8367 - 118ms/epoch - 3ms/step\n",
      "Epoch 57/100\n",
      "37/37 - 0s - loss: 0.0396 - binary_accuracy: 0.9738 - val_loss: 0.9592 - val_binary_accuracy: 0.8367 - 118ms/epoch - 3ms/step\n",
      "Epoch 58/100\n",
      "37/37 - 0s - loss: 0.0402 - binary_accuracy: 0.9681 - val_loss: 1.0014 - val_binary_accuracy: 0.8163 - 117ms/epoch - 3ms/step\n",
      "Epoch 59/100\n",
      "37/37 - 0s - loss: 0.0392 - binary_accuracy: 0.9704 - val_loss: 1.0174 - val_binary_accuracy: 0.8163 - 116ms/epoch - 3ms/step\n",
      "Epoch 60/100\n",
      "37/37 - 0s - loss: 0.0395 - binary_accuracy: 0.9727 - val_loss: 1.0564 - val_binary_accuracy: 0.8163 - 114ms/epoch - 3ms/step\n",
      "Epoch 61/100\n",
      "37/37 - 0s - loss: 0.0396 - binary_accuracy: 0.9727 - val_loss: 1.1431 - val_binary_accuracy: 0.8367 - 120ms/epoch - 3ms/step\n",
      "Epoch 62/100\n",
      "37/37 - 0s - loss: 0.0400 - binary_accuracy: 0.9704 - val_loss: 1.1375 - val_binary_accuracy: 0.8367 - 167ms/epoch - 5ms/step\n",
      "Epoch 63/100\n",
      "37/37 - 0s - loss: 0.0399 - binary_accuracy: 0.9715 - val_loss: 1.1075 - val_binary_accuracy: 0.8367 - 118ms/epoch - 3ms/step\n",
      "Epoch 64/100\n",
      "37/37 - 0s - loss: 0.0397 - binary_accuracy: 0.9715 - val_loss: 1.1348 - val_binary_accuracy: 0.8367 - 119ms/epoch - 3ms/step\n",
      "Epoch 65/100\n",
      "37/37 - 0s - loss: 0.0404 - binary_accuracy: 0.9681 - val_loss: 1.1466 - val_binary_accuracy: 0.8367 - 122ms/epoch - 3ms/step\n",
      "Epoch 66/100\n",
      "37/37 - 0s - loss: 0.0393 - binary_accuracy: 0.9727 - val_loss: 1.1553 - val_binary_accuracy: 0.8367 - 120ms/epoch - 3ms/step\n",
      "Epoch 67/100\n",
      "37/37 - 0s - loss: 0.0396 - binary_accuracy: 0.9681 - val_loss: 1.1430 - val_binary_accuracy: 0.8367 - 119ms/epoch - 3ms/step\n"
     ]
    },
    {
     "data": {
      "text/plain": [
       "<keras.callbacks.History at 0x2699b811ff0>"
      ]
     },
     "execution_count": 25,
     "metadata": {},
     "output_type": "execute_result"
    }
   ],
   "source": [
    "from keras.callbacks import EarlyStopping\n",
    "\n",
    "# Define the early stopping criteria\n",
    "early_stopping = EarlyStopping(monitor='binary_accuracy', patience=25)\n",
    "\n",
    "# Fit the model with early stopping\n",
    "model = Sequential()\n",
    "model.add(Dense(300, activation='relu', input_dim=w2v_model.vector_size))\n",
    "model.add(Dropout(0.2))\n",
    "model.add(Dense(300, activation='relu'))\n",
    "model.add(Dropout(0.2))\n",
    "model.add(Dense(100, activation='relu'))\n",
    "model.add(Dropout(0.2))\n",
    "model.add(Dense(2, activation='sigmoid'))\n",
    "\n",
    "# Compile your model\n",
    "model.compile(loss='binary_crossentropy', optimizer='adam', metrics=['binary_accuracy'])\n",
    "model.fit(X_train_resampled, Y_train_hot, epochs=100, batch_size=12, verbose=2, validation_split=0.1, callbacks = [early_stopping])"
   ]
  },
  {
   "cell_type": "code",
   "execution_count": 26,
   "metadata": {},
   "outputs": [
    {
     "name": "stdout",
     "output_type": "stream",
     "text": [
      "Model: \"sequential_1\"\n",
      "_________________________________________________________________\n",
      " Layer (type)                Output Shape              Param #   \n",
      "=================================================================\n",
      " dense_4 (Dense)             (None, 300)               30300     \n",
      "                                                                 \n",
      " dropout_3 (Dropout)         (None, 300)               0         \n",
      "                                                                 \n",
      " dense_5 (Dense)             (None, 300)               90300     \n",
      "                                                                 \n",
      " dropout_4 (Dropout)         (None, 300)               0         \n",
      "                                                                 \n",
      " dense_6 (Dense)             (None, 100)               30100     \n",
      "                                                                 \n",
      " dropout_5 (Dropout)         (None, 100)               0         \n",
      "                                                                 \n",
      " dense_7 (Dense)             (None, 2)                 202       \n",
      "                                                                 \n",
      "=================================================================\n",
      "Total params: 150,902\n",
      "Trainable params: 150,902\n",
      "Non-trainable params: 0\n",
      "_________________________________________________________________\n"
     ]
    }
   ],
   "source": [
    "model.summary()"
   ]
  },
  {
   "cell_type": "code",
   "execution_count": 27,
   "metadata": {},
   "outputs": [
    {
     "name": "stdout",
     "output_type": "stream",
     "text": [
      "5/5 [==============================] - 0s 2ms/step\n"
     ]
    }
   ],
   "source": [
    "predictions = model.predict(w2v_X_test) "
   ]
  },
  {
   "cell_type": "code",
   "execution_count": 28,
   "metadata": {},
   "outputs": [],
   "source": [
    "predictions = np.round(predictions)"
   ]
  },
  {
   "cell_type": "code",
   "execution_count": 29,
   "metadata": {},
   "outputs": [
    {
     "name": "stdout",
     "output_type": "stream",
     "text": [
      "              precision    recall  f1-score   support\n",
      "\n",
      "           0       0.70      0.90      0.79        42\n",
      "           1       0.95      0.82      0.88        91\n",
      "\n",
      "   micro avg       0.85      0.85      0.85       133\n",
      "   macro avg       0.83      0.86      0.84       133\n",
      "weighted avg       0.87      0.85      0.85       133\n",
      " samples avg       0.85      0.85      0.85       133\n",
      "\n"
     ]
    }
   ],
   "source": [
    "from sklearn.metrics import classification_report\n",
    "print(classification_report(Y_test_hot, predictions))"
   ]
  },
  {
   "cell_type": "code",
   "execution_count": null,
   "metadata": {},
   "outputs": [],
   "source": []
  }
 ],
 "metadata": {
  "kernelspec": {
   "display_name": "Python 3",
   "language": "python",
   "name": "python3"
  },
  "language_info": {
   "codemirror_mode": {
    "name": "ipython",
    "version": 3
   },
   "file_extension": ".py",
   "mimetype": "text/x-python",
   "name": "python",
   "nbconvert_exporter": "python",
   "pygments_lexer": "ipython3",
   "version": "3.10.6"
  },
  "orig_nbformat": 4,
  "vscode": {
   "interpreter": {
    "hash": "43973268aa23c7cf4b4cafe0e819fac9b2412fcc991a21988492c3271a4e3f9b"
   }
  }
 },
 "nbformat": 4,
 "nbformat_minor": 2
}
