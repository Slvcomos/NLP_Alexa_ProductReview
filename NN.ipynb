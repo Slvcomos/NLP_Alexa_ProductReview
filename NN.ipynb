{
 "cells": [
  {
   "cell_type": "code",
   "execution_count": 1,
   "metadata": {},
   "outputs": [],
   "source": [
    "from keras.preprocessing import sequence\n",
    "from keras.models import Sequential\n",
    "from keras.layers import Dense, Dropout, Activation\n",
    "import pandas as pd\n",
    "import nltk\n",
    "from sklearn.model_selection import train_test_split\n",
    "from sklearn import metrics\n",
    "from sklearn.svm import LinearSVC, SVC\n",
    "from sklearn.naive_bayes import MultinomialNB\n",
    "from sklearn.feature_extraction.text import TfidfVectorizer\n",
    "import string\n",
    "from nltk import pos_tag\n",
    "from nltk.corpus import stopwords\n",
    "from nltk.corpus import wordnet\n",
    "import re\n",
    "import gensim\n",
    "from gensim.models import KeyedVectors\n",
    "import numpy as np\n",
    "from collections import Counter\n",
    "from numpy import dot\n",
    "from numpy.linalg import norm\n",
    "from gensim.models import Word2Vec\n",
    "from gensim.models.phrases import Phrases\n",
    "from nltk import sent_tokenize\n",
    "from nltk.tokenize.treebank import TreebankWordDetokenizer\n",
    "import gensim.downloader as api\n",
    "from sklearn.model_selection import GridSearchCV, StratifiedKFold\n",
    "from sklearn.metrics import accuracy_score, f1_score, classification_report\n",
    "from sklearn.metrics import accuracy_score, precision_score, recall_score, make_scorer\n",
    "from preprocessing import *"
   ]
  },
  {
   "cell_type": "code",
   "execution_count": 13,
   "metadata": {},
   "outputs": [],
   "source": [
    "w2v_pretrained = Word2Vec.load(\"w2vPreTrained\")"
   ]
  },
  {
   "cell_type": "code",
   "execution_count": 2,
   "metadata": {},
   "outputs": [
    {
     "name": "stdout",
     "output_type": "stream",
     "text": [
      "(3150, 5)\n",
      "(3150, 5)\n",
      "(2998, 5)\n",
      "(2196, 5)\n"
     ]
    }
   ],
   "source": [
    "dataset = pd.read_csv(\"amazon_alexa.tsv\", sep = \"\\t\", encoding = \"utf-8\")\n",
    "print(dataset.shape)\n",
    "dataset.dropna(inplace = True)\n",
    "print(dataset.shape)\n",
    "dataset.drop(dataset[dataset.rating == 3].index, inplace=True)\n",
    "print(dataset.shape)\n",
    "dataset.drop_duplicates(subset = \"verified_reviews\", inplace = True)\n",
    "print(dataset.shape)"
   ]
  },
  {
   "cell_type": "code",
   "execution_count": 3,
   "metadata": {},
   "outputs": [],
   "source": [
    "X = np.array(dataset[\"verified_reviews\"].values).reshape(-1, 1)\n",
    "y = list(dataset[\"feedback\"].values)"
   ]
  },
  {
   "cell_type": "code",
   "execution_count": 4,
   "metadata": {},
   "outputs": [
    {
     "name": "stdout",
     "output_type": "stream",
     "text": [
      "Resampled dataset shape Counter({1: 412, 0: 206})\n"
     ]
    }
   ],
   "source": [
    "from imblearn.under_sampling import RandomUnderSampler\n",
    "from collections import Counter\n",
    "\n",
    "undersampler = RandomUnderSampler(sampling_strategy=0.5, random_state = 0)\n",
    "\n",
    "X, y = undersampler.fit_resample(X, y)\n",
    "\n",
    "\n",
    "print('Resampled dataset shape %s' % Counter(y))"
   ]
  },
  {
   "cell_type": "code",
   "execution_count": 5,
   "metadata": {},
   "outputs": [],
   "source": [
    "X_temp = []\n",
    "\n",
    "for rev in X:\n",
    "  X_temp.append(rev[0])"
   ]
  },
  {
   "cell_type": "code",
   "execution_count": 8,
   "metadata": {},
   "outputs": [
    {
     "name": "stdout",
     "output_type": "stream",
     "text": [
      "total number of types extracted is: 1798\n"
     ]
    }
   ],
   "source": [
    "new_text, new_sent_tok = tokenize_list_of_text(X_temp, custom_stopwords, False, 2)"
   ]
  },
  {
   "cell_type": "code",
   "execution_count": 9,
   "metadata": {},
   "outputs": [],
   "source": [
    "cleaned_reviews = frequency_cleaning(new_sent_tok, 2)"
   ]
  },
  {
   "cell_type": "code",
   "execution_count": 10,
   "metadata": {},
   "outputs": [
    {
     "data": {
      "text/plain": [
       "['like',\n",
       " 'fact',\n",
       " 'answer',\n",
       " 'not_see',\n",
       " 'real',\n",
       " 'need',\n",
       " 'household',\n",
       " 'though',\n",
       " 'good',\n",
       " 'day',\n",
       " 'deal']"
      ]
     },
     "execution_count": 10,
     "metadata": {},
     "output_type": "execute_result"
    }
   ],
   "source": [
    "bigrams = Phrases(cleaned_reviews, scoring=\"npmi\", threshold=0.60) #estrae le collocazioni tramite PMI\n",
    "bigrams[cleaned_reviews][0]"
   ]
  },
  {
   "cell_type": "code",
   "execution_count": 11,
   "metadata": {},
   "outputs": [],
   "source": [
    "X_train, X_test, Y_train, Y_test = train_test_split(bigrams[cleaned_reviews], y, test_size=0.20, random_state=10)"
   ]
  },
  {
   "cell_type": "code",
   "execution_count": 14,
   "metadata": {},
   "outputs": [
    {
     "name": "stdout",
     "output_type": "stream",
     "text": [
      "['joke']\n",
      "-\n",
      "['laugh']\n",
      "--------------------------\n",
      "['price', 'product', 'nice', 'quality', 'nice', 'feature', 'definitely', 'reason', 'give', 'think', 'may', 'buyer', 'error', 'first', 'ignore', 'product', 'plug', 'time', 'work', 'really', 'unlike', 'not_a', 'stand', 'device', 'also', 'speaker', 'not_very', 'loud', 'buy', 'bluetooth', 'speaker', 'sure', 'lot', 'figure', 'use', 'kind', 'seem', 'like', 'device', 'plus', 'set', 'awful', 'would', 'definitely', 'money', 'buy', 'one', 'actually']\n",
      "-\n",
      "['cost', 'product', 'decent', 'quality', 'decent', 'feature', 'definitely', 'reason', 'present', 'imagine', 'may', 'buyer', 'error', 'start', 'ignore', 'product', 'plug', 'sentence', 'run', 'truly', 'different', 'not_a', 'base', 'device', 'also', 'speaker', 'not_very', 'loudly', 'purchase', 'bluetooth', 'speaker', 'sure', 'plenty', 'figure', 'utilize', 'kind', 'seem', 'wish', 'device', 'plus', 'adjust', 'terrible', 'would', 'definitely', 'money', 'purchase', 'one', 'really']\n",
      "--------------------------\n",
      "['never', 'work']\n",
      "-\n",
      "['never', 'run']\n",
      "--------------------------\n",
      "['order', 'deal', 'day', 'idle', 'day']\n",
      "-\n",
      "['order', 'bargain', 'day', 'idle', 'day']\n",
      "--------------------------\n",
      "['great', 'product', 'useless', 'overall', 'many', 'feature', 'unless', 'smart', 'home', 'obviate']\n",
      "-\n",
      "['outstanding', 'product', 'useless', 'overall', 'many', 'feature', 'unless', 'smart', 'house', 'obviate']\n",
      "--------------------------\n",
      "['use', 'idle']\n",
      "-\n",
      "['utilize', 'idle']\n",
      "--------------------------\n",
      "['much', 'difficult', 'use']\n",
      "-\n",
      "['much', 'hard', 'utilize']\n",
      "--------------------------\n",
      "['two', 'week', 'set', 'unretentive', 'work', 'dark', 'guess', 'lack', 'purchase', 'refurbished']\n",
      "-\n",
      "['two', 'week', 'adjust', 'unretentive', 'run', 'blue', 'think', 'miss', 'buy', 'refurbish']\n",
      "--------------------------\n",
      "['use', 'hear', 'news', 'concern', 'wish', 'would', 'something', 'firmware', 'yet']\n",
      "-\n",
      "['utilize', 'listen', 'news', 'worry', 'like', 'would', 'something', 'firmware', 'still']\n",
      "--------------------------\n",
      "['really', 'happy', 'original', 'thought', 'get', 'use', 'bedroom', 'really', 'disappointed', 'audio', 'quality', 'connect', 'speaker', 'via', 'bluetooth', 'audio', 'much', 'good', 'start', 'problem', 'connection', 'wifi', 'bluetooth', 'connect', 'speaker', 'via', 'wifi', 'wake', 'middle', 'night', 'horrible', 'sound', 'hop', 'take', 'thing', 'back', 'give', 'good', 'deal', 'spot', 'hope', 'good', 'device']\n",
      "-\n",
      "['truly', 'glad', 'original', 'think', 'receive', 'utilize', 'bedroom', 'truly', 'disappoint', 'sound', 'quality', 'link', 'speaker', 'via', 'bluetooth', 'sound', 'much', 'well', 'begin', 'trouble', 'connection', 'wifi', 'bluetooth', 'link', 'speaker', 'via', 'wifi', 'awake', 'eye', 'dark', 'horrible', 'audio', 'hop', 'bring', 'thing', 'back', 'present', 'well', 'bargain', 'place', 'promise', 'well', 'device']\n",
      "--------------------------\n",
      "['bad', 'purchase', 'make', 'big', 'love', 'brand', 'digital', 'music', 'video', 'even', 'buy', 'game', 'music', 'movie', 'app', 'try', 'use', 'make', 'simple', 'purchase', 'anything', 'useless']\n",
      "-\n",
      "['badly', 'buy', 'ready', 'large', 'enjoy', 'brand', 'digital', 'music', 'picture', 'still', 'purchase', 'game', 'music', 'movie', 'app', 'attempt', 'utilize', 'ready', 'simple', 'buy', 'anything', 'useless']\n",
      "--------------------------\n",
      "['sound', 'terrible', 'like', 'love', 'item', 'awful']\n",
      "-\n",
      "['audio', 'awful', 'wish', 'enjoy', 'item', 'terrible']\n",
      "--------------------------\n",
      "['product', 'two', 'software', 'make', 'completely', 'card', 'homescreen', 'call', 'thing', 'try', 'service', 'try', 'turn', 'homescreen', 'card', 'not_this', 'one', 'homescreen', 'card', 'cycle', 'annoy', 'set', 'card', 'cycle', 'instead', 'cycle', 'continuously', 'setting', 'idle', 'unit', 'set', 'cycle', 'card', 'still', 'continue', 'cycle', 'time', 'reboot', 'device', 'set', 'etc', 'etc', 'two', 'software', 'issue', 'fix', 'product', 'useless']\n",
      "-\n",
      "['product', 'two', 'software', 'ready', 'totally', 'card', 'homescreen', 'phone', 'thing', 'attempt', 'service', 'attempt', 'play', 'homescreen', 'card', 'not_this', 'one', 'homescreen', 'card', 'cycle', 'irritate', 'adjust', 'card', 'cycle', 'instead', 'cycle', 'continuously', 'position', 'idle', 'unit', 'adjust', 'cycle', 'card', 'yet', 'proceed', 'cycle', 'sentence', 'reboot', 'device', 'adjust', 'etc', 'etc', 'two', 'software', 'issue', 'repair', 'product', 'useless']\n",
      "--------------------------\n",
      "['sound', 'home', 'mini', 'sound', 'bad', 'also', 'need', 'small', 'selection', 'music', 'need', 'music', 'play', 'everything', 'also', 'get', 'two', 'need', 'family', 'music', 'play_music', 'think', 'need', 'family', 'use', 'multiple', 'device']\n",
      "-\n",
      "['audio', 'house', 'mini', 'audio', 'badly', 'also', 'want', 'little', 'option', 'music', 'want', 'music', 'turn', 'everything', 'also', 'receive', 'two', 'want', 'household', 'music', 'play_music', 'imagine', 'want', 'household', 'utilize', 'multiple', 'device']\n",
      "--------------------------\n",
      "['work', 'fine', 'realize', 'obviate', 'not_use']\n",
      "-\n",
      "['run', 'okay', 'see', 'obviate', 'not_use']\n",
      "--------------------------\n",
      "['fine', 'spot', 'exact', 'one', 'order', 'turn', 'repeat', 'alarm', 'morning', 'pretty', 'much', 'talk', 'not_a', 'thing', 'want', 'first', 'wake', 'bed', 'definitely', 'unlike', 'yes', 'swipe', 'alarm', 'face', 'dismiss', 'swipe', 'rather', 'touch', 'screen', 'half', 'asleep', 'difficult', 'set', 'snooze', 'half', 'time', 'even', 'really', 'try', 'swipe', 'dismiss', 'swipe', 'dismiss', 'completely', 'alarm', 'especially', 'annoy', 'could', 'easily', 'fix', 'make', 'touch', 'screen', 'turn', 'alarm', 'record', 'least', 'make', 'set', 'decide', 'touch', 'screen', 'alarm', 'snooze', 'turn', 'clock', 'year', 'still', 'set', 'clearly', 'may', 'big', 'product', 'ever', 'make']\n",
      "-\n",
      "['okay', 'place', 'precise', 'one', 'order', 'play', 'repeat', 'alarm', 'morning', 'fairly', 'much', 'speak', 'not_a', 'thing', 'need', 'start', 'awake', 'bed', 'definitely', 'different', 'yes', 'swipe', 'alarm', 'face', 'dismiss', 'swipe', 'rather', 'disturb', 'screen', 'half', 'asleep', 'hard', 'adjust', 'snooze', 'half', 'sentence', 'still', 'truly', 'attempt', 'swipe', 'dismiss', 'swipe', 'dismiss', 'totally', 'alarm', 'particularly', 'irritate', 'could', 'easy', 'repair', 'ready', 'disturb', 'screen', 'play', 'alarm', 'book', 'least', 'ready', 'adjust', 'settle', 'disturb', 'screen', 'alarm', 'snooze', 'play', 'clock', 'year', 'yet', 'adjust', 'clear', 'may', 'large', 'product', 'ever', 'ready']\n",
      "--------------------------\n",
      "['would', 'not_recommend', 'anyone', 'idle', 'program', 'way', 'thru', 'tell', 'unable', 'process', 'time', 'try', 'not_the', 'stream', 'fine', 'computer', 'disappointing']\n",
      "-\n",
      "['would', 'not_recommend', 'anyone', 'idle', 'program', 'way', 'thru', 'say', 'unable', 'procedure', 'sentence', 'attempt', 'not_the', 'stream', 'okay', 'computer', 'disappointing']\n",
      "--------------------------\n",
      "['product', 'dark', 'never', 'reset', 'instruction', 'actually', 'differ', 'package', 'instruction', 'try', 'product', 'defective']\n",
      "-\n",
      "['product', 'blue', 'never', 'reset', 'direction', 'really', 'differ', 'box', 'direction', 'attempt', 'product', 'faulty']\n",
      "--------------------------\n",
      "['turn']\n",
      "-\n",
      "['play']\n",
      "--------------------------\n",
      "['device', 'want', 'sync', 'phone', 'number', 'would', 'forbid', 'say', 'number', 'already', 'use', 'customer', 'service', 'could', 'basically', 'tell', 'phone', 'set', 'kind', 'pointless', 'pay']\n",
      "-\n",
      "['device', 'need', 'sync', 'call', 'amount', 'would', 'forbid', 'tell', 'amount', 'already', 'utilize', 'customer', 'service', 'could', 'essentially', 'say', 'call', 'adjust', 'kind', 'pointless', 'give']\n",
      "--------------------------\n",
      "['still', 'unable', 'connect', 'device', 'say', 'build', 'buy', 'bridge', 'connect', 'device', 'think', 'everything', 'would', 'sync', 'device', 'still', 'via', 'plus', 'look_forward', 'feature', 'able', 'play_music', 'check', 'weather', 'etc', 'fine']\n",
      "-\n",
      "['yet', 'unable', 'link', 'device', 'tell', 'build', 'purchase', 'bridge', 'link', 'device', 'imagine', 'everything', 'would', 'sync', 'device', 'yet', 'via', 'plus', 'look_forward', 'feature', 'able', 'play_music', 'check', 'weather', 'etc', 'okay']\n",
      "--------------------------\n",
      "['need', 'buy', 'get', 'work', 'many', 'device', 'want', 'money', 'back', 'thing', 'odd', 'turn', 'unless', 'buy', 'another', 'point', 'half', 'device', 'sell', 'thing', 'unless', 'want', 'spend', 'another', 'another', 'idle', 'many', 'device', 'must', 'not_this', 'good', 'yet', 'get', 'device', 'actually', 'understand', 'talk']\n",
      "-\n",
      "['want', 'purchase', 'receive', 'run', 'many', 'device', 'need', 'money', 'back', 'thing', 'odd', 'play', 'unless', 'purchase', 'another', 'point', 'half', 'device', 'trade', 'thing', 'unless', 'need', 'spend', 'another', 'another', 'idle', 'many', 'device', 'must', 'not_this', 'well', 'still', 'receive', 'device', 'really', 'interpret', 'speak']\n",
      "--------------------------\n",
      "['replace', 'one', 'move', 'lack', 'range', 'refurbish', 'unit', 'would', 'able', 'find', 'could', 'disconnect', 'get', 'hear', 'trouble', 'connect', 'check', 'app', 'unplug', 'several', 'time', 'not_a']\n",
      "-\n",
      "['substitute', 'one', 'movement', 'miss', 'range', 'refurbish', 'unit', 'would', 'able', 'discover', 'could', 'unplug', 'receive', 'listen', 'problem', 'link', 'check', 'app', 'disconnect', 'various', 'sentence', 'not_a']\n",
      "--------------------------\n",
      "['purchase', 'use', 'idle', 'application']\n",
      "-\n",
      "['buy', 'utilize', 'idle', 'application']\n",
      "--------------------------\n",
      "['much', 'price', 'speaker']\n",
      "-\n",
      "['much', 'cost', 'speaker']\n",
      "--------------------------\n",
      "['suppose', 'come', 'free', 'hue', 'day', 'dark', 'bulb']\n",
      "-\n",
      "['think', 'arrive', 'free', 'hue', 'day', 'blue', 'lightbulb']\n",
      "--------------------------\n",
      "['idle', 'say', 'disconnect', 'network']\n",
      "-\n",
      "['idle', 'tell', 'unplug', 'mesh']\n",
      "--------------------------\n",
      "['buy', 'refurbish', 'stop', 'function', 'quite', 'often', 'sleep', 'every', 'time', 'randomly', 'turn', 'nothing', 'sell', 'refurbished']\n",
      "-\n",
      "['purchase', 'refurbish', 'quit', 'purpose', 'quite', 'frequently', 'sleep', 'every', 'sentence', 'randomly', 'play', 'nothing', 'trade', 'refurbish']\n",
      "--------------------------\n",
      "['product', 'complete', 'waste', 'money', 'ask', 'question', 'either', 'ignore', 'answer', 'give', 'wrong', 'answer', 'find', 'information']\n",
      "-\n",
      "['product', 'finish', 'waste', 'money', 'demand', 'inquiry', 'either', 'ignore', 'response', 'present', 'wrong', 'response', 'discover', 'info']\n",
      "--------------------------\n",
      "['thing', 'work', 'party', 'apps', 'stuff', 'think', 'could', 'box', 'send_back', 'waste', 'money']\n",
      "-\n",
      "['thing', 'run', 'party', 'apps', 'stuff', 'imagine', 'could', 'package', 'send_back', 'waste', 'money']\n",
      "--------------------------\n",
      "['second', 'one', 'refurbished', 'work', 'least', 'home']\n",
      "-\n",
      "['minute', 'one', 'refurbish', 'run', 'least', 'house']\n",
      "--------------------------\n",
      "['item', 'never', 'work', 'box', 'spent', 'several', 'day', 'try', 'get', 'work', 'run', 'fix', 'thing', 'never', 'order', 'another', 'refurbish', 'device']\n",
      "-\n",
      "['item', 'never', 'run', 'package', 'spend', 'various', 'day', 'attempt', 'receive', 'run', 'work', 'repair', 'thing', 'never', 'order', 'another', 'refurbish', 'device']\n",
      "--------------------------\n",
      "['even_though', 'say', 'would', 'spend', 'multiple', 'hour', 'make', 'phone', 'call', 'also', 'miss', 'free', 'bulb']\n",
      "-\n",
      "['even_though', 'tell', 'would', 'spend', 'multiple', 'minute', 'ready', 'call', 'phone', 'also', 'lack', 'free', 'lightbulb']\n",
      "--------------------------\n",
      "['ignore', 'answer', 'many', 'question', 'ask', 'example', 'ask', 'many', 'say', 'money']\n",
      "-\n",
      "['ignore', 'response', 'many', 'inquiry', 'demand', 'example', 'demand', 'many', 'tell', 'money']\n",
      "--------------------------\n",
      "['work', 'well', 'month', 'stop', 'connect', 'internet', 'wifi', 'trouble', 'work', 'customer', 'service', 'could', 'far', 'tell', 'month', 'disappointing', 'replace']\n",
      "-\n",
      "['run', 'good', 'month', 'quit', 'link', 'internet', 'wifi', 'problem', 'run', 'customer', 'service', 'could', 'far', 'say', 'month', 'disappointing', 'substitute']\n",
      "--------------------------\n",
      "['receive', 'wrong', 'product', 'install', 'excitement', 'thank']\n",
      "-\n",
      "['get', 'wrong', 'product', 'instal', 'excitement', 'thank']\n",
      "--------------------------\n",
      "['like', 'day', 'year', 'unretentive', 'work', 'would', 'inability', 'past', 'buy', 'second', 'one', 'sell', 'third', 'one', 'first', 'longer']\n",
      "-\n",
      "['wish', 'day', 'year', 'unretentive', 'run', 'would', 'inability', 'past', 'purchase', 'minute', 'one', 'trade', 'third', 'one', 'start', 'longer']\n",
      "--------------------------\n",
      "['waste', 'money', 'not_really', 'get', 'anything', 'video_chat', 'device', 'would', 'picture', 'put', 'mode', 'first', 'photo', 'even', 'look', 'research', 'lose', 'also', 'problem', 'device', 'lack', 'problem', 'device', 'price', 'difference', 'worthlessness']\n",
      "-\n",
      "['waste', 'money', 'not_really', 'receive', 'anything', 'video_chat', 'device', 'would', 'photo', 'place', 'mood', 'start', 'picture', 'still', 'see', 'research', 'lose', 'also', 'trouble', 'device', 'miss', 'trouble', 'device', 'cost', 'difference', 'worthlessness']\n",
      "--------------------------\n",
      "['disappointed', 'request']\n",
      "-\n",
      "['disappoint', 'request']\n",
      "--------------------------\n",
      "['item', 'return', 'repair', 'item', 'back', 'repair', 'part', 'miss', 'inability', 'cord', 'include', 'please']\n",
      "-\n",
      "['item', 'refund', 'fix', 'item', 'back', 'fix', 'portion', 'lack', 'inability', 'cord', 'include', 'please']\n",
      "--------------------------\n",
      "['send_back', 'turn', 'expect', 'refurbished', 'item']\n",
      "-\n",
      "['send_back', 'play', 'anticipate', 'refurbish', 'item']\n",
      "--------------------------\n",
      "['bad', 'device', 'ignore', 'refurbish', 'activate', 'talk', 'activate', 'start', 'talk', 'talk', 'super']\n",
      "-\n",
      "['badly', 'device', 'ignore', 'refurbish', 'trigger', 'speak', 'trigger', 'begin', 'speak', 'speak', 'extremely']\n",
      "--------------------------\n",
      "['get', 'month', 'idea', 'help', 'control', 'smart', 'bulb', 'useful', 'answer_question', 'get', 'daily', 'weather', 'update', 'far', 'useful', 'half', 'time', 'wake', 'device', 'ask', 'question', 'command', 'say', 'turn', 'basically', 'ignore', 'often', 'unable', 'answer_question', 'work', 'rather', 'make_life', 'easy', 'would', 'return', 'past', 'return']\n",
      "-\n",
      "['receive', 'month', 'idea', 'assistance', 'operate', 'smart', 'lightbulb', 'useful', 'answer_question', 'receive', 'everyday', 'weather', 'update', 'far', 'useful', 'half', 'sentence', 'awake', 'device', 'demand', 'inquiry', 'control', 'tell', 'play', 'essentially', 'ignore', 'frequently', 'unable', 'answer_question', 'run', 'rather', 'make_life', 'easily', 'would', 'refund', 'past', 'refund']\n",
      "--------------------------\n",
      "['slow']\n",
      "-\n",
      "['sluggish']\n",
      "--------------------------\n",
      "['differ', 'excite', 'try', 'new', 'unfortunately', 'even_though', 'foot', 'away', 'router', 'get', 'think', 'little', 'device', 'suppose', 'take', 'issue']\n",
      "-\n",
      "['differ', 'excite', 'attempt', 'new', 'unfortunately', 'even_though', 'foot', 'away', 'router', 'receive', 'imagine', 'small', 'device', 'think', 'bring', 'issue']\n",
      "--------------------------\n",
      "['get', 'excite', 'device', 'good', 'sound', 'control', 'hue', 'not_realize', 'also', 'communicate', 'not_use', 'hue', 'bulb', 'full', 'potential', 'device', 'turn', 'light', 'set', 'number', 'color', 'also', 'bulb', 'new', 'security', 'concern', 'sell', 'want', 'full', 'new', 'device', 'end', 'need', 'update', 'make', 'device', 'pointless', 'still', 'love', 'complaint', 'functionality', 'sound_quality', 'device', 'disappointed', 'functionality']\n",
      "-\n",
      "['receive', 'excite', 'device', 'well', 'audio', 'operate', 'hue', 'not_realize', 'also', 'pass', 'not_use', 'hue', 'lightbulb', 'wide', 'potential', 'device', 'play', 'lighting', 'adjust', 'amount', 'color', 'also', 'lightbulb', 'new', 'security', 'worry', 'trade', 'need', 'wide', 'new', 'device', 'end', 'want', 'update', 'ready', 'device', 'pointless', 'yet', 'enjoy', 'complaint', 'functionality', 'sound_quality', 'device', 'disappoint', 'functionality']\n",
      "--------------------------\n",
      "['get', 'try', 'screen']\n",
      "-\n",
      "['receive', 'attempt', 'screen']\n",
      "--------------------------\n",
      "['purchase', 'plus', 'build', 'come', 'free', 'hue', 'bulb', 'get', 'everything', 'set', 'realize', 'plus', 'forbid', 'full', 'functionality', 'bulb', 'turn', 'light', 'stay', 'color', 'still', 'hue', 'bridge', 'full', 'function', 'feature', 'bulb', 'wish', 'buy', 'bulb', 'bridge', 'use', 'already', 'since', 'build', 'useless', 'buy', 'hue', 'bridge', 'get', 'full', 'light']\n",
      "-\n",
      "['buy', 'plus', 'build', 'arrive', 'free', 'hue', 'lightbulb', 'receive', 'everything', 'adjust', 'see', 'plus', 'forbid', 'wide', 'functionality', 'lightbulb', 'play', 'lighting', 'stop', 'color', 'yet', 'hue', 'bridge', 'wide', 'purpose', 'feature', 'lightbulb', 'like', 'purchase', 'lightbulb', 'bridge', 'utilize', 'already', 'since', 'build', 'useless', 'purchase', 'hue', 'bridge', 'receive', 'wide', 'lighting']\n",
      "--------------------------\n",
      "['terrible', 'stop', 'work', 'one', 'day']\n",
      "-\n",
      "['awful', 'quit', 'run', 'one', 'day']\n",
      "--------------------------\n",
      "['old', 'keep', 'crash', 'use', 'buy', 'one', 'think', 'old', 'one', 'defective', 'one', 'thing', 'back', 'start', 'leave', 'program']\n",
      "-\n",
      "['previous', 'prevent', 'crash', 'utilize', 'purchase', 'one', 'imagine', 'previous', 'one', 'faulty', 'one', 'thing', 'back', 'begin', 'forget', 'program']\n",
      "--------------------------\n",
      "['unbend', 'thing', 'try', 'screen', 'scroll', 'big', 'device', 'send_back', 'really', 'want', 'get', 'enough', 'already']\n",
      "-\n",
      "['unbend', 'thing', 'attempt', 'screen', 'scroll', 'large', 'device', 'send_back', 'truly', 'need', 'receive', 'enough', 'already']\n",
      "--------------------------\n",
      "['never', 'respond', 'speak', 'word', 'think', 'would', 'connect', 'use', 'like', 'intercom', 'differ', 'able']\n",
      "-\n",
      "['never', 'answer', 'talk', 'word', 'imagine', 'would', 'link', 'utilize', 'wish', 'intercom', 'differ', 'able']\n",
      "--------------------------\n",
      "['poor', 'quality', 'give', 'away']\n",
      "-\n",
      "['poor', 'quality', 'present', 'away']\n",
      "--------------------------\n",
      "['return', 'piece', 'garbage', 'soon', 'sure', 'small', 'customer', 'rarely', 'disappointed', 'purchase', 'home', 'automation', 'buy', 'plus', 'build', 'along', 'zigbee', 'light', 'switch', 'voice', 'control', 'even', 'work', 'often', 'nothing', 'could', 'differ', 'disappointed', 'product', 'zigbee', 'value', 'money', 'expect', 'product', 'need', 'look']\n",
      "-\n",
      "['refund', 'piece', 'garbage', 'shortly', 'sure', 'little', 'customer', 'seldom', 'disappoint', 'buy', 'house', 'automation', 'purchase', 'plus', 'build', 'along', 'zigbee', 'lighting', 'change', 'voice', 'operate', 'still', 'run', 'frequently', 'nothing', 'could', 'differ', 'disappoint', 'product', 'zigbee', 'value', 'money', 'anticipate', 'product', 'want', 'see']\n",
      "--------------------------\n",
      "['sound_quality', 'not_that', 'good', 'especially', 'price', 'pay', 'would', 'recommend', 'get', 'buy', 'good', 'speaker', 'instead', 'maybe', 'sonos', 'use']\n",
      "-\n",
      "['sound_quality', 'not_that', 'well', 'particularly', 'cost', 'give', 'would', 'recommend', 'receive', 'purchase', 'well', 'speaker', 'instead', 'perhaps', 'sonos', 'utilize']\n",
      "--------------------------\n",
      "['think', 'get', 'long', 'time', 'excite', 'hue', 'bulb', 'excite', 'end', 'spend', 'hour', 'attempt', 'add', 'bulb', 'plus', 'everything', 'try', 'end', 'try', 'set', 'watch', 'video', 'read', 'set', 'thing', 'expect', 'different', 'next', 'day', 'get', 'tech', 'support', 'hop', 'something', 'would', 'make', 'thing', 'work', 'also', 'problem', 'differ', 'error', 'well', 'tech', 'support', 'phone', 'still', 'idle', 'product', 'test', 'far', 'experience', 'smart', 'home', 'old', 'school', 'reason', 'give', 'two', 'send', 'different', 'plus', 'light_bulb', 'problem', 'not_the', 'bulb', 'item', 'purchase', 'another', 'bulb', 'still', 'could', 'device', 'next', 'attempt', 'defective', 'support', 'thought', 'maybe', 'explore', 'device', 'end', 'look', 'look', 'like', 'disbelieve', 'lose', 'video', 'show', 'problem', 'everything', 'look', 'simple', 'not_the', 'experience', 'review', 'spend', 'enough', 'time', 'already']\n",
      "-\n",
      "['imagine', 'receive', 'long', 'sentence', 'excite', 'hue', 'lightbulb', 'excite', 'end', 'spend', 'minute', 'try', 'bring', 'lightbulb', 'plus', 'everything', 'attempt', 'end', 'attempt', 'adjust', 'see', 'picture', 'understand', 'adjust', 'thing', 'anticipate', 'unlike', 'future', 'day', 'receive', 'tech', 'support', 'hop', 'something', 'would', 'ready', 'thing', 'run', 'also', 'trouble', 'differ', 'error', 'good', 'tech', 'support', 'call', 'yet', 'idle', 'product', 'test', 'far', 'experience', 'smart', 'house', 'previous', 'train', 'reason', 'present', 'two', 'ship', 'unlike', 'plus', 'light_bulb', 'trouble', 'not_the', 'lightbulb', 'item', 'buy', 'another', 'lightbulb', 'yet', 'could', 'device', 'future', 'try', 'faulty', 'support', 'think', 'perhaps', 'explore', 'device', 'end', 'see', 'see', 'wish', 'disbelieve', 'lose', 'picture', 'picture', 'trouble', 'everything', 'see', 'simple', 'not_the', 'experience', 'review', 'spend', 'enough', 'sentence', 'already']\n",
      "--------------------------\n",
      "['horrible', 'volume', 'phone', 'loud', 'device', 'one', 'not_the', 'case']\n",
      "-\n",
      "['horrible', 'loudness', 'call', 'loudly', 'device', 'one', 'not_the', 'case']\n",
      "--------------------------\n",
      "['come']\n",
      "-\n",
      "['arrive']\n",
      "--------------------------\n",
      "['sound', 'terrible', 'want', 'good', 'music', 'get']\n",
      "-\n",
      "['audio', 'awful', 'need', 'well', 'music', 'receive']\n",
      "--------------------------\n",
      "['speaker', 'pretty', 'terrible', 'home', 'good', 'product']\n",
      "-\n",
      "['speaker', 'fairly', 'awful', 'house', 'well', 'product']\n",
      "--------------------------\n",
      "['wish', 'battery', 'well', 'plug', 'item']\n",
      "-\n",
      "['like', 'battery', 'good', 'plug', 'item']\n",
      "--------------------------\n",
      "['idle', 'time']\n",
      "-\n",
      "['idle', 'sentence']\n",
      "--------------------------\n",
      "['smart', 'enough', 'make', 'work', 'send_back', 'cant', 'get', 'help', 'work', 'fine', 'want', 'big', 'speaker']\n",
      "-\n",
      "['smart', 'enough', 'ready', 'run', 'send_back', 'bank', 'receive', 'assistance', 'run', 'okay', 'need', 'large', 'speaker']\n",
      "--------------------------\n",
      "['ignore', 'customer', 'use', 'device', 'tool', 'screen', 'unbend', 'thing', 'try', 'people', 'turn', 'change', 'option', 'size', 'slightly', 'improve', 'audio', 'speaker', 'would', 'give', 'device', 'right', 'return', 'device', 'wife', 'say']\n",
      "-\n",
      "['ignore', 'customer', 'utilize', 'device', 'tool', 'screen', 'unbend', 'thing', 'attempt', 'people', 'play', 'switch', 'choice', 'size', 'slightly', 'improve', 'sound', 'speaker', 'would', 'present', 'device', 'right', 'refund', 'device', 'wife', 'tell']\n",
      "--------------------------\n",
      "['think', 'really', 'unmake', 'much', 'play_music', 'answer', 'stupid', 'question', 'finally', 'able', 'hook', 'thermostat', 'see', 'price', 'drop', 'like']\n",
      "-\n",
      "['imagine', 'truly', 'unmake', 'much', 'play_music', 'response', 'stupid', 'inquiry', 'eventually', 'able', 'addict', 'thermostat', 'visit', 'cost', 'drop', 'wish']\n",
      "--------------------------\n",
      "['buy', 'son', 'idle', 'return']\n",
      "-\n",
      "['purchase', 'son', 'idle', 'refund']\n",
      "--------------------------\n",
      "['first', 'one', 'work', 'get', 'next', 'one', 'voice', 'time', 'way', 'get', 'work', 'app', 'uncertain', 'way']\n",
      "-\n",
      "['start', 'one', 'run', 'receive', 'future', 'one', 'voice', 'sentence', 'way', 'receive', 'run', 'app', 'uncertain', 'way']\n",
      "--------------------------\n",
      "['make', 'receive', 'call', 'device', 'tell', 'need', 'ignore']\n",
      "-\n",
      "['ready', 'get', 'phone', 'device', 'say', 'want', 'ignore']\n",
      "--------------------------\n",
      "['quite', 'disappointed', 'product', 'clearly', 'half', 'time', 'ask', 'two', 'second', 'start', 'whole', 'thing', 'stop', 'couple', 'minute', 'ask', 'play_radio', 'also', 'many', 'time', 'get', 'ask', 'switch', 'light', 'item', 'also', 'name', 'clearly', 'still']\n",
      "-\n",
      "['quite', 'disappoint', 'product', 'clear', 'half', 'sentence', 'demand', 'two', 'minute', 'begin', 'totally', 'thing', 'quit', 'couple', 'second', 'demand', 'play_radio', 'also', 'many', 'sentence', 'receive', 'demand', 'change', 'lighting', 'item', 'also', 'call', 'clear', 'yet']\n",
      "--------------------------\n",
      "['unhappy', 'spot', 'reset', 'time', 'seem', 'slow', 'mode', 'top', 'hear', 'even', 'talk', 'support', 'still', 'lack', 'choose']\n",
      "-\n",
      "['unhappy', 'place', 'reset', 'sentence', 'seem', 'sluggish', 'mood', 'cover', 'listen', 'still', 'speak', 'support', 'yet', 'miss', 'select']\n",
      "--------------------------\n",
      "['load', 'keep', 'reboot', 'middle', 'show']\n",
      "-\n",
      "['load', 'prevent', 'reboot', 'eye', 'picture']\n",
      "--------------------------\n",
      "['device', 'show', 'seem', 'huge', 'potential', 'really', 'want', 'like', 'soon', 'find', 'quite', 'bit', 'disappointing', 'not_the', 'end', 'world', 'use', 'like', 'use', 'little', 'month', 'screen', 'start', 'screen', 'quick', 'look', 'make', 'understand', 'pointless', 'ask', 'replacement', 'people', 'device', 'replace', 'start', 'answer', 'quite', 'time', 'long', 'story', 'short', 'move', 'use', 'expensive', 'voice', 'activate', 'light', 'switch', 'hue', 'light', 'like']\n",
      "-\n",
      "['device', 'picture', 'seem', 'vast', 'potential', 'truly', 'need', 'wish', 'shortly', 'discover', 'quite', 'bit', 'disappointing', 'not_the', 'end', 'world', 'utilize', 'wish', 'utilize', 'small', 'month', 'screen', 'begin', 'screen', 'immediate', 'see', 'ready', 'interpret', 'pointless', 'demand', 'replacement', 'people', 'device', 'substitute', 'begin', 'response', 'quite', 'sentence', 'long', 'story', 'dead', 'movement', 'utilize', 'expensive', 'voice', 'trigger', 'lighting', 'change', 'hue', 'lighting', 'wish']\n",
      "--------------------------\n",
      "['not_it', 'end', 'help', 'replace']\n",
      "-\n",
      "['not_it', 'end', 'assistance', 'substitute']\n",
      "--------------------------\n",
      "['sound', 'terrible', 'play', 'must', 'upgrade', 'music', 'want', 'play', 'one', 'device', 'time']\n",
      "-\n",
      "['audio', 'awful', 'turn', 'must', 'upgrade', 'music', 'need', 'turn', 'one', 'device', 'sentence']\n",
      "--------------------------\n",
      "['need', 'able', 'connect', 'party', 'apps']\n",
      "-\n",
      "['want', 'able', 'link', 'party', 'apps']\n",
      "--------------------------\n",
      "['work', 'fine', 'get', 'thing', 'try', 'not_a', 'year', 'old', 'need', 'tell', 'thing', 'find', 'not_way', 'turn', 'except', 'turn', 'screen', 'lose', 'fix', 'back']\n",
      "-\n",
      "['run', 'okay', 'receive', 'thing', 'attempt', 'not_a', 'year', 'previous', 'want', 'say', 'thing', 'discover', 'not_way', 'play', 'except', 'play', 'screen', 'lose', 'repair', 'back']\n",
      "--------------------------\n"
     ]
    }
   ],
   "source": [
    "negative_reviews = []\n",
    "for rev, label in zip(X_train, Y_train):\n",
    "    if label == 0:\n",
    "        negative_reviews.append(rev)\n",
    "    \n",
    "generated_reviews = generate_samples(negative_reviews, int(len(negative_reviews)/2), w2v_pretrained)\n",
    "\n",
    "# run this only one time\n",
    "X_train.extend(generated_reviews)\n",
    "Y_train.extend([0 for x in generated_reviews])"
   ]
  },
  {
   "cell_type": "code",
   "execution_count": 15,
   "metadata": {},
   "outputs": [
    {
     "name": "stdout",
     "output_type": "stream",
     "text": [
      "box 0.2839771637431346\n",
      "even_though 0.27762788039582936\n",
      "far 0.21272579636892072\n",
      "happy 0.5156101732954667\n",
      "like 0.16405526505032533\n",
      "look 0.22704895144905052\n",
      "new 0.214553313857349\n",
      "original 0.2668104048749314\n",
      "perfectly 0.2994851270228816\n",
      "purchase 0.20289746058223077\n",
      "refurbish 0.2294451949681321\n",
      "two 0.23734809025484485\n",
      "week 0.27194825290277225\n",
      "work 0.14728732380665022\n"
     ]
    }
   ],
   "source": [
    "tfidf = TfidfVectorizer(tokenizer=lambda i:i, lowercase=False, min_df = 0)\n",
    "tfidf_model = tfidf.fit_transform(X_train)\n",
    "X_test_tf = tfidf.transform(X_test)\n",
    "review = 0\n",
    "for score, feature in zip(tfidf_model.toarray()[review], tfidf.get_feature_names_out()):\n",
    "    if score > 0.0:\n",
    "        print(feature, score)"
   ]
  },
  {
   "cell_type": "code",
   "execution_count": 16,
   "metadata": {},
   "outputs": [],
   "source": [
    "w2v_model = Word2Vec(X_train, vector_size=100, window = 10, min_count = 0, sg=1, hs = 1, seed = 5, epochs=100)"
   ]
  },
  {
   "cell_type": "code",
   "execution_count": 19,
   "metadata": {},
   "outputs": [
    {
     "data": {
      "text/plain": [
       "[('great', 0.5367417931556702),\n",
       " ('get', 0.49619752168655396),\n",
       " ('use', 0.4509217441082001),\n",
       " ('kitchen', 0.44389069080352783),\n",
       " ('cook', 0.43931204080581665),\n",
       " ('show', 0.4102255403995514),\n",
       " ('fun', 0.39854246377944946),\n",
       " ('like', 0.3985327482223511),\n",
       " ('recognition', 0.39414140582084656),\n",
       " ('trailer', 0.387723833322525)]"
      ]
     },
     "execution_count": 19,
     "metadata": {},
     "output_type": "execute_result"
    }
   ],
   "source": [
    "w2v_model.wv.most_similar(\"love\", topn = 10)"
   ]
  },
  {
   "cell_type": "code",
   "execution_count": 20,
   "metadata": {},
   "outputs": [
    {
     "data": {
      "text/plain": [
       "[('free', -0.07402048259973526),\n",
       " ('sluggish', -0.07937180995941162),\n",
       " ('place', -0.0795297846198082),\n",
       " ('spend', -0.08012556284666061),\n",
       " ('mood', -0.08532152324914932),\n",
       " ('blue', -0.09613428264856339),\n",
       " ('laugh', -0.10050835460424423),\n",
       " ('reboot', -0.1030278429389),\n",
       " ('unplug', -0.10371576994657516),\n",
       " ('also', -0.12003546953201294)]"
      ]
     },
     "execution_count": 20,
     "metadata": {},
     "output_type": "execute_result"
    }
   ],
   "source": [
    "w2v_model.wv.most_similar(\"love\", topn = 2000)[-10:]"
   ]
  },
  {
   "cell_type": "code",
   "execution_count": 57,
   "metadata": {},
   "outputs": [],
   "source": [
    "def review_vectors(tokens, size = 300, weights = [], pretrained = False, pretrained_embeddings = None):\n",
    "    \n",
    "    \"\"\"Genera un vettore per ogni recensione: questo vettore\n",
    "    è calcolato come la media ponderata (t * w: token vettore * peso tfidf) dei vettori dei token nella recensione.\n",
    "    Il vettore risultante è normalizzato alla fine.\"\"\"\n",
    "\n",
    "    vec = np.zeros(size).reshape((1, size))\n",
    "    count = 0\n",
    "\n",
    "    for word, weight in zip(tokens, weights):\n",
    "        try:\n",
    "            if pretrained:\n",
    "                vec += pretrained_embeddings[word] \n",
    "                count +=1\n",
    "            else:\n",
    "                vec += w2v_model.wv[word] * weight\n",
    "                count +=1\n",
    "        except KeyError:\n",
    "            # print(\"non trovo\", word)\n",
    "            continue\n",
    "\n",
    "    if count!= 0:\n",
    "        vec = vec / norm(vec)\n",
    "        \n",
    "    return vec"
   ]
  },
  {
   "cell_type": "code",
   "execution_count": 58,
   "metadata": {},
   "outputs": [
    {
     "data": {
      "text/plain": [
       "(570, 100)"
      ]
     },
     "execution_count": 58,
     "metadata": {},
     "output_type": "execute_result"
    }
   ],
   "source": [
    "w2v_X_train = np.zeros((len(X_train), w2v_model.vector_size))\n",
    "for i in range(len(X_train)):\n",
    "    w2v_X_train[i,:] = review_vectors(tfidf.inverse_transform(tfidf_model[i, :])[0], w2v_model.vector_size, tfidf_model[i,:].data, False)\n",
    "w2v_X_train.shape"
   ]
  },
  {
   "cell_type": "code",
   "execution_count": 59,
   "metadata": {},
   "outputs": [
    {
     "data": {
      "text/plain": [
       "(124, 100)"
      ]
     },
     "execution_count": 59,
     "metadata": {},
     "output_type": "execute_result"
    }
   ],
   "source": [
    "w2v_X_test = np.zeros((len(X_test), w2v_model.vector_size))\n",
    "for i in range(len(X_test)):\n",
    "    w2v_X_test[i,:] = review_vectors(tfidf.inverse_transform(X_test_tf[i, :])[0], w2v_model.vector_size, X_test_tf[i,:].data, False)\n",
    "w2v_X_test.shape"
   ]
  },
  {
   "cell_type": "code",
   "execution_count": 60,
   "metadata": {},
   "outputs": [
    {
     "name": "stdout",
     "output_type": "stream",
     "text": [
      "Resampled dataset shape Counter({1: 317, 0: 229})\n"
     ]
    }
   ],
   "source": [
    "from imblearn.over_sampling import SMOTE\n",
    "from imblearn.under_sampling import RandomUnderSampler, TomekLinks\n",
    "\n",
    "# # Create the SMOTE object\n",
    "# sm = SMOTE(sampling_strategy=1, k_neighbors=5, random_state=10)\n",
    "\n",
    "# # Apply SMOTE to the training data\n",
    "# X_train_resampled, y_train_resampled = sm.fit_resample(w2v_X_train, Y_train)\n",
    "\n",
    "# print('Resampled dataset shape %s' % Counter(y_train_resampled))\n",
    "\n",
    "undersampler_nn = TomekLinks(sampling_strategy=\"all\") # use tomeLinks to remove ambiguous data through nearest neighbours\n",
    "\n",
    "\n",
    "# Fit and transform the X and y data\n",
    "X_train_resampled, y_train_resampled = undersampler_nn.fit_resample(w2v_X_train, Y_train)\n",
    "\n",
    "# X_train_resampled, y_train_resampled = w2v_X_train, Y_train\n",
    "\n",
    "\n",
    "print('Resampled dataset shape %s' % Counter(y_train_resampled))"
   ]
  },
  {
   "cell_type": "code",
   "execution_count": 61,
   "metadata": {},
   "outputs": [],
   "source": [
    "from keras.layers import Flatten"
   ]
  },
  {
   "cell_type": "code",
   "execution_count": 62,
   "metadata": {},
   "outputs": [],
   "source": [
    "from keras.utils import to_categorical\n",
    "Y_train_hot = to_categorical(y_train_resampled)"
   ]
  },
  {
   "cell_type": "code",
   "execution_count": 63,
   "metadata": {},
   "outputs": [],
   "source": [
    "Y_test_hot = to_categorical(Y_test)"
   ]
  },
  {
   "cell_type": "code",
   "execution_count": 64,
   "metadata": {},
   "outputs": [],
   "source": [
    "from keras.callbacks import EarlyStopping\n",
    "\n",
    "# Define the early stopping criteria\n",
    "early_stopping = EarlyStopping(monitor='binary_accuracy', patience=25)\n",
    "\n",
    "# Fit the model with early stopping\n",
    "model = Sequential()\n",
    "model.add(Dense(300, activation='relu', input_dim=w2v_model.vector_size))\n",
    "model.add(Dropout(0.2))\n",
    "model.add(Dense(300, activation='relu'))\n",
    "model.add(Dropout(0.2))\n",
    "model.add(Dense(100, activation='relu'))\n",
    "model.add(Dropout(0.2))\n",
    "model.add(Dense(2, activation='sigmoid'))\n",
    "\n",
    "# Compile your model\n",
    "model.compile(loss='binary_crossentropy', optimizer='adam', metrics=['binary_accuracy'])"
   ]
  },
  {
   "cell_type": "code",
   "execution_count": 85,
   "metadata": {},
   "outputs": [
    {
     "name": "stdout",
     "output_type": "stream",
     "text": [
      "Epoch 1/100\n",
      "16/16 - 0s - loss: 0.0226 - binary_accuracy: 0.9847 - val_loss: 1.2443e-04 - val_binary_accuracy: 1.0000 - 229ms/epoch - 14ms/step\n",
      "Epoch 2/100\n",
      "16/16 - 0s - loss: 0.0201 - binary_accuracy: 0.9847 - val_loss: 1.3524e-04 - val_binary_accuracy: 1.0000 - 160ms/epoch - 10ms/step\n",
      "Epoch 3/100\n",
      "16/16 - 0s - loss: 0.0149 - binary_accuracy: 0.9878 - val_loss: 5.5833e-05 - val_binary_accuracy: 1.0000 - 203ms/epoch - 13ms/step\n",
      "Epoch 4/100\n",
      "16/16 - 0s - loss: 0.0149 - binary_accuracy: 0.9898 - val_loss: 5.9827e-05 - val_binary_accuracy: 1.0000 - 148ms/epoch - 9ms/step\n",
      "Epoch 5/100\n",
      "16/16 - 0s - loss: 0.0150 - binary_accuracy: 0.9908 - val_loss: 7.9236e-05 - val_binary_accuracy: 1.0000 - 153ms/epoch - 10ms/step\n",
      "Epoch 6/100\n",
      "16/16 - 0s - loss: 0.0142 - binary_accuracy: 0.9929 - val_loss: 9.0047e-05 - val_binary_accuracy: 1.0000 - 168ms/epoch - 10ms/step\n",
      "Epoch 7/100\n",
      "16/16 - 0s - loss: 0.0143 - binary_accuracy: 0.9908 - val_loss: 9.2151e-05 - val_binary_accuracy: 1.0000 - 148ms/epoch - 9ms/step\n",
      "Epoch 8/100\n",
      "16/16 - 0s - loss: 0.0143 - binary_accuracy: 0.9929 - val_loss: 9.4186e-05 - val_binary_accuracy: 1.0000 - 140ms/epoch - 9ms/step\n",
      "Epoch 9/100\n",
      "16/16 - 0s - loss: 0.0142 - binary_accuracy: 0.9898 - val_loss: 9.4759e-05 - val_binary_accuracy: 1.0000 - 148ms/epoch - 9ms/step\n",
      "Epoch 10/100\n",
      "16/16 - 0s - loss: 0.0145 - binary_accuracy: 0.9929 - val_loss: 7.9907e-05 - val_binary_accuracy: 1.0000 - 144ms/epoch - 9ms/step\n",
      "Epoch 11/100\n",
      "16/16 - 0s - loss: 0.0140 - binary_accuracy: 0.9959 - val_loss: 6.9930e-05 - val_binary_accuracy: 1.0000 - 146ms/epoch - 9ms/step\n",
      "Epoch 12/100\n",
      "16/16 - 0s - loss: 0.0148 - binary_accuracy: 0.9888 - val_loss: 9.5702e-05 - val_binary_accuracy: 1.0000 - 165ms/epoch - 10ms/step\n",
      "Epoch 13/100\n",
      "16/16 - 0s - loss: 0.0147 - binary_accuracy: 0.9888 - val_loss: 1.1209e-04 - val_binary_accuracy: 1.0000 - 151ms/epoch - 9ms/step\n",
      "Epoch 14/100\n",
      "16/16 - 0s - loss: 0.0142 - binary_accuracy: 0.9908 - val_loss: 1.1976e-04 - val_binary_accuracy: 1.0000 - 138ms/epoch - 9ms/step\n",
      "Epoch 15/100\n",
      "16/16 - 0s - loss: 0.0144 - binary_accuracy: 0.9888 - val_loss: 1.0587e-04 - val_binary_accuracy: 1.0000 - 146ms/epoch - 9ms/step\n",
      "Epoch 16/100\n",
      "16/16 - 0s - loss: 0.0144 - binary_accuracy: 0.9868 - val_loss: 1.0915e-04 - val_binary_accuracy: 1.0000 - 148ms/epoch - 9ms/step\n",
      "Epoch 17/100\n",
      "16/16 - 0s - loss: 0.0277 - binary_accuracy: 0.9847 - val_loss: 6.1142e-05 - val_binary_accuracy: 1.0000 - 147ms/epoch - 9ms/step\n",
      "Epoch 18/100\n",
      "16/16 - 0s - loss: 0.0142 - binary_accuracy: 0.9939 - val_loss: 2.8404e-05 - val_binary_accuracy: 1.0000 - 145ms/epoch - 9ms/step\n",
      "Epoch 19/100\n",
      "16/16 - 0s - loss: 0.0155 - binary_accuracy: 0.9898 - val_loss: 4.1199e-05 - val_binary_accuracy: 1.0000 - 154ms/epoch - 10ms/step\n",
      "Epoch 20/100\n",
      "16/16 - 0s - loss: 0.0144 - binary_accuracy: 0.9908 - val_loss: 4.7468e-05 - val_binary_accuracy: 1.0000 - 153ms/epoch - 10ms/step\n",
      "Epoch 21/100\n",
      "16/16 - 0s - loss: 0.0158 - binary_accuracy: 0.9919 - val_loss: 6.2018e-05 - val_binary_accuracy: 1.0000 - 149ms/epoch - 9ms/step\n",
      "Epoch 22/100\n",
      "16/16 - 0s - loss: 0.0143 - binary_accuracy: 0.9898 - val_loss: 8.6534e-05 - val_binary_accuracy: 1.0000 - 148ms/epoch - 9ms/step\n",
      "Epoch 23/100\n",
      "16/16 - 0s - loss: 0.0145 - binary_accuracy: 0.9939 - val_loss: 8.8497e-05 - val_binary_accuracy: 1.0000 - 165ms/epoch - 10ms/step\n",
      "Epoch 24/100\n",
      "16/16 - 0s - loss: 0.0148 - binary_accuracy: 0.9888 - val_loss: 7.1581e-05 - val_binary_accuracy: 1.0000 - 171ms/epoch - 11ms/step\n",
      "Epoch 25/100\n",
      "16/16 - 0s - loss: 0.0145 - binary_accuracy: 0.9837 - val_loss: 6.4467e-05 - val_binary_accuracy: 1.0000 - 168ms/epoch - 11ms/step\n",
      "Epoch 26/100\n",
      "16/16 - 0s - loss: 0.0143 - binary_accuracy: 0.9898 - val_loss: 6.3735e-05 - val_binary_accuracy: 1.0000 - 149ms/epoch - 9ms/step\n",
      "Epoch 27/100\n",
      "16/16 - 0s - loss: 0.0142 - binary_accuracy: 0.9919 - val_loss: 6.3711e-05 - val_binary_accuracy: 1.0000 - 139ms/epoch - 9ms/step\n",
      "Epoch 28/100\n",
      "16/16 - 0s - loss: 0.0142 - binary_accuracy: 0.9908 - val_loss: 6.5558e-05 - val_binary_accuracy: 1.0000 - 139ms/epoch - 9ms/step\n",
      "Epoch 29/100\n",
      "16/16 - 0s - loss: 0.0143 - binary_accuracy: 0.9878 - val_loss: 6.6435e-05 - val_binary_accuracy: 1.0000 - 136ms/epoch - 9ms/step\n",
      "Epoch 30/100\n",
      "16/16 - 0s - loss: 0.0143 - binary_accuracy: 0.9898 - val_loss: 6.5292e-05 - val_binary_accuracy: 1.0000 - 157ms/epoch - 10ms/step\n",
      "Epoch 31/100\n",
      "16/16 - 0s - loss: 0.0141 - binary_accuracy: 0.9929 - val_loss: 6.4168e-05 - val_binary_accuracy: 1.0000 - 139ms/epoch - 9ms/step\n",
      "Epoch 32/100\n",
      "16/16 - 0s - loss: 0.0142 - binary_accuracy: 0.9898 - val_loss: 6.5565e-05 - val_binary_accuracy: 1.0000 - 142ms/epoch - 9ms/step\n",
      "Epoch 33/100\n",
      "16/16 - 0s - loss: 0.0141 - binary_accuracy: 0.9908 - val_loss: 6.7686e-05 - val_binary_accuracy: 1.0000 - 145ms/epoch - 9ms/step\n",
      "Epoch 34/100\n",
      "16/16 - 0s - loss: 0.0147 - binary_accuracy: 0.9857 - val_loss: 6.4549e-05 - val_binary_accuracy: 1.0000 - 196ms/epoch - 12ms/step\n",
      "Epoch 35/100\n",
      "16/16 - 0s - loss: 0.0141 - binary_accuracy: 0.9898 - val_loss: 6.3245e-05 - val_binary_accuracy: 1.0000 - 137ms/epoch - 9ms/step\n",
      "Epoch 36/100\n",
      "16/16 - 0s - loss: 0.0142 - binary_accuracy: 0.9878 - val_loss: 6.3380e-05 - val_binary_accuracy: 1.0000 - 150ms/epoch - 9ms/step\n"
     ]
    },
    {
     "data": {
      "text/plain": [
       "<keras.callbacks.History at 0x158ec54ccd0>"
      ]
     },
     "execution_count": 85,
     "metadata": {},
     "output_type": "execute_result"
    }
   ],
   "source": [
    "model.fit(X_train_resampled, Y_train_hot, epochs=100, batch_size=32, verbose=2, validation_split=0.1, callbacks = [early_stopping])"
   ]
  },
  {
   "cell_type": "code",
   "execution_count": 86,
   "metadata": {},
   "outputs": [
    {
     "name": "stdout",
     "output_type": "stream",
     "text": [
      "Model: \"sequential_3\"\n",
      "_________________________________________________________________\n",
      " Layer (type)                Output Shape              Param #   \n",
      "=================================================================\n",
      " dense_12 (Dense)            (None, 300)               30300     \n",
      "                                                                 \n",
      " dropout_9 (Dropout)         (None, 300)               0         \n",
      "                                                                 \n",
      " dense_13 (Dense)            (None, 300)               90300     \n",
      "                                                                 \n",
      " dropout_10 (Dropout)        (None, 300)               0         \n",
      "                                                                 \n",
      " dense_14 (Dense)            (None, 100)               30100     \n",
      "                                                                 \n",
      " dropout_11 (Dropout)        (None, 100)               0         \n",
      "                                                                 \n",
      " dense_15 (Dense)            (None, 2)                 202       \n",
      "                                                                 \n",
      "=================================================================\n",
      "Total params: 150,902\n",
      "Trainable params: 150,902\n",
      "Non-trainable params: 0\n",
      "_________________________________________________________________\n"
     ]
    }
   ],
   "source": [
    "model.summary()"
   ]
  },
  {
   "cell_type": "code",
   "execution_count": 87,
   "metadata": {},
   "outputs": [
    {
     "name": "stdout",
     "output_type": "stream",
     "text": [
      "4/4 [==============================] - 0s 4ms/step\n"
     ]
    }
   ],
   "source": [
    "predictions = model.predict(w2v_X_test) "
   ]
  },
  {
   "cell_type": "code",
   "execution_count": 88,
   "metadata": {},
   "outputs": [],
   "source": [
    "predictions = np.round(predictions)"
   ]
  },
  {
   "cell_type": "code",
   "execution_count": 89,
   "metadata": {},
   "outputs": [
    {
     "name": "stdout",
     "output_type": "stream",
     "text": [
      "              precision    recall  f1-score   support\n",
      "\n",
      "           0       0.69      0.71      0.70        41\n",
      "           1       0.85      0.84      0.85        83\n",
      "\n",
      "   micro avg       0.80      0.80      0.80       124\n",
      "   macro avg       0.77      0.78      0.77       124\n",
      "weighted avg       0.80      0.80      0.80       124\n",
      " samples avg       0.80      0.80      0.80       124\n",
      "\n"
     ]
    }
   ],
   "source": [
    "from sklearn.metrics import classification_report\n",
    "print(classification_report(Y_test_hot, predictions))"
   ]
  }
 ],
 "metadata": {
  "kernelspec": {
   "display_name": "Python 3",
   "language": "python",
   "name": "python3"
  },
  "language_info": {
   "codemirror_mode": {
    "name": "ipython",
    "version": 3
   },
   "file_extension": ".py",
   "mimetype": "text/x-python",
   "name": "python",
   "nbconvert_exporter": "python",
   "pygments_lexer": "ipython3",
   "version": "3.10.6"
  },
  "orig_nbformat": 4,
  "vscode": {
   "interpreter": {
    "hash": "43973268aa23c7cf4b4cafe0e819fac9b2412fcc991a21988492c3271a4e3f9b"
   }
  }
 },
 "nbformat": 4,
 "nbformat_minor": 2
}
