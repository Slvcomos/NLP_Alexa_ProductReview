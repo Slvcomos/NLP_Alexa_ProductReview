{
 "cells": [
  {
   "attachments": {},
   "cell_type": "markdown",
   "metadata": {},
   "source": [
    "### Questo notebook contiene l'implementazione di un Convolutional Neural Network che usa come vettori delle recensioni i token id. Questi vettori vengono addestrati nel layer \"Embeddings\" di keras col parametro trainable = True"
   ]
  },
  {
   "cell_type": "code",
   "execution_count": 1,
   "metadata": {},
   "outputs": [],
   "source": [
    "from keras.preprocessing import sequence\n",
    "from keras.models import Sequential\n",
    "from keras.layers import Dense, Dropout, Activation, Embedding, Conv1D, MaxPooling1D, Flatten\n",
    "import pandas as pd\n",
    "from preprocessing import *\n",
    "from gensim.models import KeyedVectors\n",
    "from gensim.models.phrases import Phrases\n",
    "from sklearn.model_selection import train_test_split\n",
    "from keras.preprocessing.text import Tokenizer\n",
    "from keras.utils import pad_sequences\n",
    "import numpy as np"
   ]
  },
  {
   "cell_type": "code",
   "execution_count": 2,
   "metadata": {},
   "outputs": [],
   "source": [
    "w2v_pretrained = Word2Vec.load(\"w2vPreTrained\")"
   ]
  },
  {
   "cell_type": "code",
   "execution_count": 3,
   "metadata": {},
   "outputs": [
    {
     "name": "stdout",
     "output_type": "stream",
     "text": [
      "(3150, 6)\n",
      "(3150, 6)\n",
      "(2998, 6)\n",
      "(2196, 6)\n"
     ]
    }
   ],
   "source": [
    "dataset = pd.read_csv(\"amazon_alexa.tsv\", sep = \"\\t\", encoding = \"utf-8\")\n",
    "print(dataset.shape)\n",
    "dataset.dropna(inplace = True)\n",
    "print(dataset.shape)\n",
    "dataset.drop(dataset[dataset.rating == 3].index, inplace=True)\n",
    "print(dataset.shape)\n",
    "dataset.drop_duplicates(subset = \"verified_reviews\", inplace = True)\n",
    "print(dataset.shape)"
   ]
  },
  {
   "cell_type": "code",
   "execution_count": 4,
   "metadata": {},
   "outputs": [],
   "source": [
    "X = np.array(dataset[\"verified_reviews\"].values).reshape(-1, 1)\n",
    "y = list(dataset[\"feedback\"].values)"
   ]
  },
  {
   "cell_type": "code",
   "execution_count": 5,
   "metadata": {},
   "outputs": [
    {
     "name": "stdout",
     "output_type": "stream",
     "text": [
      "Resampled dataset shape Counter({1: 412, 0: 206})\n"
     ]
    }
   ],
   "source": [
    "from imblearn.under_sampling import RandomUnderSampler\n",
    "from collections import Counter\n",
    "\n",
    "undersampler = RandomUnderSampler(sampling_strategy=0.5, random_state = 0)\n",
    "\n",
    "X, y = undersampler.fit_resample(X, y)\n",
    "\n",
    "\n",
    "print('Resampled dataset shape %s' % Counter(y))"
   ]
  },
  {
   "cell_type": "code",
   "execution_count": 6,
   "metadata": {},
   "outputs": [],
   "source": [
    "X_temp = []\n",
    "\n",
    "for rev in X:\n",
    "  X_temp.append(rev[0])"
   ]
  },
  {
   "cell_type": "code",
   "execution_count": 7,
   "metadata": {},
   "outputs": [
    {
     "name": "stdout",
     "output_type": "stream",
     "text": [
      "total number of types extracted is: 1788\n"
     ]
    }
   ],
   "source": [
    "new_text, new_sent_tok = tokenize_list_of_text(X_temp, custom_stopwords, False, 2)"
   ]
  },
  {
   "cell_type": "code",
   "execution_count": 8,
   "metadata": {},
   "outputs": [],
   "source": [
    "cleaned_reviews = frequency_cleaning(new_sent_tok, 2)"
   ]
  },
  {
   "cell_type": "code",
   "execution_count": 9,
   "metadata": {},
   "outputs": [
    {
     "data": {
      "text/plain": [
       "['little', 'feature']"
      ]
     },
     "execution_count": 9,
     "metadata": {},
     "output_type": "execute_result"
    }
   ],
   "source": [
    "bigrams = Phrases(cleaned_reviews, scoring=\"npmi\", threshold=0.60) #estrae le collocazioni tramite PMI\n",
    "bigrams[cleaned_reviews][2]"
   ]
  },
  {
   "cell_type": "code",
   "execution_count": 10,
   "metadata": {},
   "outputs": [],
   "source": [
    "X_train, X_test, Y_train, Y_test = train_test_split(bigrams[cleaned_reviews], y, test_size=0.20, random_state=10)"
   ]
  },
  {
   "cell_type": "code",
   "execution_count": 11,
   "metadata": {},
   "outputs": [
    {
     "name": "stdout",
     "output_type": "stream",
     "text": [
      "['joke']\n",
      "-\n",
      "['laugh']\n",
      "--------------------------\n",
      "['price', 'product', 'nice', 'quality', 'nice', 'feature', 'definitely', 'reason', 'give', 'think', 'may', 'buyer', 'error', 'first', 'ignore', 'product', 'plug', 'time', 'work', 'really', 'unlike', 'not_a', 'stand', 'device', 'also', 'speaker', 'not_very', 'loud', 'buy', 'bluetooth', 'speaker', 'sure', 'lot', 'figure', 'use', 'kind', 'seem', 'like', 'device', 'plus', 'set', 'awful', 'would', 'definitely', 'money', 'buy', 'one', 'actually']\n",
      "-\n",
      "['cost', 'product', 'decent', 'quality', 'decent', 'feature', 'definitely', 'reason', 'present', 'imagine', 'may', 'buyer', 'error', 'start', 'ignore', 'product', 'plug', 'sentence', 'run', 'truly', 'different', 'not_a', 'base', 'device', 'also', 'speaker', 'not_very', 'loudly', 'purchase', 'bluetooth', 'speaker', 'sure', 'plenty', 'figure', 'utilize', 'kind', 'seem', 'wish', 'device', 'plus', 'adjust', 'terrible', 'would', 'definitely', 'money', 'purchase', 'one', 'really']\n",
      "--------------------------\n",
      "['never', 'work']\n",
      "-\n",
      "['never', 'run']\n",
      "--------------------------\n",
      "['order', 'deal', 'day', 'idle', 'day']\n",
      "-\n",
      "['order', 'bargain', 'day', 'idle', 'day']\n",
      "--------------------------\n",
      "['great', 'product', 'useless', 'overall', 'many', 'feature', 'unless', 'smart', 'home', 'obviate']\n",
      "-\n",
      "['outstanding', 'product', 'useless', 'overall', 'many', 'feature', 'unless', 'smart', 'house', 'obviate']\n",
      "--------------------------\n",
      "['use', 'idle']\n",
      "-\n",
      "['utilize', 'idle']\n",
      "--------------------------\n",
      "['much', 'difficult', 'use']\n",
      "-\n",
      "['much', 'hard', 'utilize']\n",
      "--------------------------\n",
      "['two', 'week', 'set', 'unretentive', 'work', 'dark', 'guess', 'lack', 'purchase', 'refurbished']\n",
      "-\n",
      "['two', 'week', 'adjust', 'unretentive', 'run', 'blue', 'think', 'miss', 'buy', 'refurbish']\n",
      "--------------------------\n",
      "['use', 'hear', 'news', 'concern', 'wish', 'would', 'something', 'firmware', 'yet']\n",
      "-\n",
      "['utilize', 'listen', 'news', 'worry', 'like', 'would', 'something', 'firmware', 'still']\n",
      "--------------------------\n",
      "['really', 'happy', 'original', 'thought', 'get', 'use', 'bedroom', 'really', 'disappointed', 'audio', 'quality', 'connect', 'speaker', 'via', 'bluetooth', 'audio', 'much', 'good', 'start', 'problem', 'connection', 'wifi', 'bluetooth', 'connect', 'speaker', 'via', 'wifi', 'wake', 'middle', 'night', 'horrible', 'sound', 'hop', 'take', 'thing', 'back', 'give', 'good', 'deal', 'spot', 'hope', 'good', 'device']\n",
      "-\n",
      "['truly', 'glad', 'original', 'think', 'receive', 'utilize', 'bedroom', 'truly', 'disappoint', 'sound', 'quality', 'link', 'speaker', 'via', 'bluetooth', 'sound', 'much', 'well', 'begin', 'trouble', 'connection', 'wifi', 'bluetooth', 'link', 'speaker', 'via', 'wifi', 'awake', 'eye', 'dark', 'horrible', 'audio', 'hop', 'bring', 'thing', 'back', 'present', 'well', 'bargain', 'place', 'promise', 'well', 'device']\n",
      "--------------------------\n",
      "['bad', 'purchase', 'make', 'big', 'love', 'brand', 'digital', 'music', 'video', 'even', 'buy', 'game', 'music', 'movie', 'app', 'try', 'use', 'make', 'simple', 'purchase', 'anything', 'useless']\n",
      "-\n",
      "['badly', 'buy', 'ready', 'large', 'enjoy', 'brand', 'digital', 'music', 'picture', 'still', 'purchase', 'game', 'music', 'movie', 'app', 'attempt', 'utilize', 'ready', 'simple', 'buy', 'anything', 'useless']\n",
      "--------------------------\n",
      "['sound', 'terrible', 'like', 'love', 'item', 'awful']\n",
      "-\n",
      "['audio', 'awful', 'wish', 'enjoy', 'item', 'terrible']\n",
      "--------------------------\n",
      "['product', 'two', 'software', 'make', 'completely', 'card', 'homescreen', 'call', 'thing', 'try', 'service', 'try', 'turn', 'homescreen', 'card', 'not_this', 'one', 'homescreen', 'card', 'cycle', 'annoy', 'set', 'card', 'cycle', 'instead', 'cycle', 'continuously', 'setting', 'idle', 'unit', 'set', 'cycle', 'card', 'still', 'continue', 'cycle', 'time', 'reboot', 'device', 'set', 'etc', 'etc', 'two', 'software', 'issue', 'fix', 'product', 'useless']\n",
      "-\n",
      "['product', 'two', 'software', 'ready', 'totally', 'card', 'homescreen', 'phone', 'thing', 'attempt', 'service', 'attempt', 'play', 'homescreen', 'card', 'not_this', 'one', 'homescreen', 'card', 'cycle', 'irritate', 'adjust', 'card', 'cycle', 'instead', 'cycle', 'continuously', 'position', 'idle', 'unit', 'adjust', 'cycle', 'card', 'yet', 'proceed', 'cycle', 'sentence', 'reboot', 'device', 'adjust', 'etc', 'etc', 'two', 'software', 'issue', 'repair', 'product', 'useless']\n",
      "--------------------------\n",
      "['sound', 'home', 'mini', 'sound', 'bad', 'also', 'need', 'small', 'selection', 'music', 'need', 'music', 'play', 'everything', 'also', 'get', 'two', 'need', 'family', 'music', 'play_music', 'think', 'need', 'family', 'use', 'multiple', 'device']\n",
      "-\n",
      "['audio', 'house', 'mini', 'audio', 'badly', 'also', 'want', 'little', 'option', 'music', 'want', 'music', 'turn', 'everything', 'also', 'receive', 'two', 'want', 'household', 'music', 'play_music', 'imagine', 'want', 'household', 'utilize', 'multiple', 'device']\n",
      "--------------------------\n",
      "['work', 'fine', 'realize', 'obviate', 'not_use']\n",
      "-\n",
      "['run', 'okay', 'see', 'obviate', 'not_use']\n",
      "--------------------------\n",
      "['fine', 'spot', 'exact', 'one', 'order', 'turn', 'repeat', 'alarm', 'morning', 'pretty', 'much', 'talk', 'not_a', 'thing', 'want', 'first', 'wake', 'bed', 'definitely', 'unlike', 'yes', 'swipe', 'alarm', 'face', 'dismiss', 'swipe', 'rather', 'touch', 'screen', 'half', 'asleep', 'difficult', 'set', 'snooze', 'half', 'time', 'even', 'really', 'try', 'swipe', 'dismiss', 'swipe', 'dismiss', 'completely', 'alarm', 'especially', 'annoy', 'could', 'easily', 'fix', 'make', 'touch', 'screen', 'turn', 'alarm', 'record', 'least', 'make', 'set', 'decide', 'touch', 'screen', 'alarm', 'snooze', 'turn', 'clock', 'year', 'still', 'set', 'clearly', 'may', 'big', 'product', 'ever', 'make']\n",
      "-\n",
      "['okay', 'place', 'precise', 'one', 'order', 'play', 'repeat', 'alarm', 'morning', 'fairly', 'much', 'speak', 'not_a', 'thing', 'need', 'start', 'awake', 'bed', 'definitely', 'different', 'yes', 'swipe', 'alarm', 'face', 'dismiss', 'swipe', 'rather', 'disturb', 'screen', 'half', 'asleep', 'hard', 'adjust', 'snooze', 'half', 'sentence', 'still', 'truly', 'attempt', 'swipe', 'dismiss', 'swipe', 'dismiss', 'totally', 'alarm', 'particularly', 'irritate', 'could', 'easy', 'repair', 'ready', 'disturb', 'screen', 'play', 'alarm', 'book', 'least', 'ready', 'adjust', 'settle', 'disturb', 'screen', 'alarm', 'snooze', 'play', 'clock', 'year', 'yet', 'adjust', 'clear', 'may', 'large', 'product', 'ever', 'ready']\n",
      "--------------------------\n",
      "['would', 'not_recommend', 'anyone', 'idle', 'program', 'way', 'thru', 'tell', 'unable', 'process', 'time', 'try', 'not_the', 'stream', 'fine', 'computer', 'disappointing']\n",
      "-\n",
      "['would', 'not_recommend', 'anyone', 'idle', 'program', 'way', 'thru', 'say', 'unable', 'procedure', 'sentence', 'attempt', 'not_the', 'stream', 'okay', 'computer', 'disappointing']\n",
      "--------------------------\n",
      "['product', 'dark', 'never', 'reset', 'instruction', 'actually', 'differ', 'package', 'instruction', 'try', 'product', 'defective']\n",
      "-\n",
      "['product', 'blue', 'never', 'reset', 'direction', 'really', 'differ', 'box', 'direction', 'attempt', 'product', 'faulty']\n",
      "--------------------------\n",
      "['turn']\n",
      "-\n",
      "['play']\n",
      "--------------------------\n",
      "['device', 'want', 'sync', 'phone', 'number', 'would', 'forbid', 'say', 'number', 'already', 'use', 'customer', 'service', 'could', 'basically', 'tell', 'phone', 'set', 'kind', 'pointless', 'pay']\n",
      "-\n",
      "['device', 'need', 'sync', 'call', 'amount', 'would', 'forbid', 'tell', 'amount', 'already', 'utilize', 'customer', 'service', 'could', 'essentially', 'say', 'call', 'adjust', 'kind', 'pointless', 'give']\n",
      "--------------------------\n",
      "['still', 'unable', 'connect', 'device', 'say', 'build', 'buy', 'bridge', 'connect', 'device', 'think', 'everything', 'would', 'sync', 'device', 'still', 'via', 'plus', 'look_forward', 'feature', 'able', 'play_music', 'check', 'weather', 'etc', 'fine']\n",
      "-\n",
      "['yet', 'unable', 'link', 'device', 'tell', 'build', 'purchase', 'bridge', 'link', 'device', 'imagine', 'everything', 'would', 'sync', 'device', 'yet', 'via', 'plus', 'look_forward', 'feature', 'able', 'play_music', 'check', 'weather', 'etc', 'okay']\n",
      "--------------------------\n",
      "['need', 'buy', 'get', 'work', 'many', 'device', 'want', 'money', 'back', 'thing', 'odd', 'turn', 'unless', 'buy', 'another', 'point', 'half', 'device', 'sell', 'thing', 'unless', 'want', 'spend', 'another', 'another', 'idle', 'many', 'device', 'must', 'not_this', 'good', 'yet', 'get', 'device', 'actually', 'understand', 'talk']\n",
      "-\n",
      "['want', 'purchase', 'receive', 'run', 'many', 'device', 'need', 'money', 'back', 'thing', 'odd', 'play', 'unless', 'purchase', 'another', 'point', 'half', 'device', 'trade', 'thing', 'unless', 'need', 'spend', 'another', 'another', 'idle', 'many', 'device', 'must', 'not_this', 'well', 'still', 'receive', 'device', 'really', 'interpret', 'speak']\n",
      "--------------------------\n",
      "['replace', 'one', 'move', 'lack', 'range', 'refurbish', 'unit', 'would', 'able', 'find', 'could', 'disconnect', 'get', 'hear', 'trouble', 'connect', 'check', 'app', 'unplug', 'several', 'time', 'not_a']\n",
      "-\n",
      "['substitute', 'one', 'movement', 'miss', 'range', 'refurbish', 'unit', 'would', 'able', 'discover', 'could', 'unplug', 'receive', 'listen', 'problem', 'link', 'check', 'app', 'disconnect', 'various', 'sentence', 'not_a']\n",
      "--------------------------\n",
      "['purchase', 'use', 'idle', 'application']\n",
      "-\n",
      "['buy', 'utilize', 'idle', 'application']\n",
      "--------------------------\n",
      "['much', 'price', 'speaker']\n",
      "-\n",
      "['much', 'cost', 'speaker']\n",
      "--------------------------\n",
      "['suppose', 'come', 'free', 'hue', 'day', 'dark', 'bulb']\n",
      "-\n",
      "['think', 'arrive', 'free', 'hue', 'day', 'blue', 'lightbulb']\n",
      "--------------------------\n",
      "['idle', 'say', 'disconnect', 'network']\n",
      "-\n",
      "['idle', 'tell', 'unplug', 'mesh']\n",
      "--------------------------\n",
      "['buy', 'refurbish', 'stop', 'function', 'quite', 'often', 'sleep', 'every', 'time', 'randomly', 'turn', 'nothing', 'sell', 'refurbished']\n",
      "-\n",
      "['purchase', 'refurbish', 'quit', 'purpose', 'quite', 'frequently', 'sleep', 'every', 'sentence', 'randomly', 'play', 'nothing', 'trade', 'refurbish']\n",
      "--------------------------\n",
      "['product', 'complete', 'waste', 'money', 'ask', 'question', 'either', 'ignore', 'answer', 'give', 'wrong', 'answer', 'find', 'information']\n",
      "-\n",
      "['product', 'finish', 'waste', 'money', 'demand', 'inquiry', 'either', 'ignore', 'response', 'present', 'wrong', 'response', 'discover', 'info']\n",
      "--------------------------\n",
      "['thing', 'work', 'party', 'apps', 'stuff', 'think', 'could', 'box', 'send_back', 'waste', 'money']\n",
      "-\n",
      "['thing', 'run', 'party', 'apps', 'stuff', 'imagine', 'could', 'package', 'send_back', 'waste', 'money']\n",
      "--------------------------\n",
      "['second', 'one', 'refurbished', 'work', 'least', 'home']\n",
      "-\n",
      "['minute', 'one', 'refurbish', 'run', 'least', 'house']\n",
      "--------------------------\n",
      "['item', 'never', 'work', 'box', 'spent', 'several', 'day', 'try', 'get', 'work', 'run', 'fix', 'thing', 'never', 'order', 'another', 'refurbish', 'device']\n",
      "-\n",
      "['item', 'never', 'run', 'package', 'spend', 'various', 'day', 'attempt', 'receive', 'run', 'work', 'repair', 'thing', 'never', 'order', 'another', 'refurbish', 'device']\n",
      "--------------------------\n",
      "['even_though', 'say', 'would', 'spend', 'multiple', 'hour', 'make', 'phone', 'call', 'also', 'miss', 'free', 'bulb']\n",
      "-\n",
      "['even_though', 'tell', 'would', 'spend', 'multiple', 'minute', 'ready', 'call', 'phone', 'also', 'lack', 'free', 'lightbulb']\n",
      "--------------------------\n",
      "['ignore', 'answer', 'many', 'question', 'ask', 'example', 'ask', 'many', 'say', 'money']\n",
      "-\n",
      "['ignore', 'response', 'many', 'inquiry', 'demand', 'example', 'demand', 'many', 'tell', 'money']\n",
      "--------------------------\n",
      "['work', 'well', 'month', 'stop', 'connect', 'internet', 'wifi', 'trouble', 'work', 'customer', 'service', 'could', 'far', 'tell', 'month', 'disappointing', 'replace']\n",
      "-\n",
      "['run', 'good', 'month', 'quit', 'link', 'internet', 'wifi', 'problem', 'run', 'customer', 'service', 'could', 'far', 'say', 'month', 'disappointing', 'substitute']\n",
      "--------------------------\n",
      "['receive', 'wrong', 'product', 'install', 'excitement', 'thank']\n",
      "-\n",
      "['get', 'wrong', 'product', 'instal', 'excitement', 'thank']\n",
      "--------------------------\n",
      "['like', 'day', 'year', 'unretentive', 'work', 'would', 'inability', 'past', 'buy', 'second', 'one', 'sell', 'third', 'one', 'first', 'longer']\n",
      "-\n",
      "['wish', 'day', 'year', 'unretentive', 'run', 'would', 'inability', 'past', 'purchase', 'minute', 'one', 'trade', 'third', 'one', 'start', 'longer']\n",
      "--------------------------\n",
      "['waste', 'money', 'not_really', 'get', 'anything', 'video_chat', 'device', 'would', 'picture', 'put', 'mode', 'first', 'photo', 'even', 'look', 'research', 'lose', 'also', 'problem', 'device', 'lack', 'problem', 'device', 'price', 'difference', 'worthlessness']\n",
      "-\n",
      "['waste', 'money', 'not_really', 'receive', 'anything', 'video_chat', 'device', 'would', 'photo', 'place', 'mood', 'start', 'picture', 'still', 'see', 'research', 'lose', 'also', 'trouble', 'device', 'miss', 'trouble', 'device', 'cost', 'difference', 'worthlessness']\n",
      "--------------------------\n",
      "['disappointed', 'request']\n",
      "-\n",
      "['disappoint', 'request']\n",
      "--------------------------\n",
      "['item', 'return', 'repair', 'item', 'back', 'repair', 'part', 'miss', 'inability', 'cord', 'include', 'please']\n",
      "-\n",
      "['item', 'refund', 'fix', 'item', 'back', 'fix', 'portion', 'lack', 'inability', 'cord', 'include', 'please']\n",
      "--------------------------\n",
      "['send_back', 'turn', 'expect', 'refurbished', 'item']\n",
      "-\n",
      "['send_back', 'play', 'anticipate', 'refurbish', 'item']\n",
      "--------------------------\n",
      "['bad', 'device', 'ignore', 'refurbish', 'activate', 'talk', 'activate', 'start', 'talk', 'talk', 'super']\n",
      "-\n",
      "['badly', 'device', 'ignore', 'refurbish', 'trigger', 'speak', 'trigger', 'begin', 'speak', 'speak', 'extremely']\n",
      "--------------------------\n",
      "['get', 'month', 'idea', 'help', 'control', 'smart', 'bulb', 'useful', 'answer_question', 'get', 'daily', 'weather', 'update', 'far', 'useful', 'half', 'time', 'wake', 'device', 'ask', 'question', 'command', 'say', 'turn', 'basically', 'ignore', 'often', 'unable', 'answer_question', 'work', 'rather', 'make_life', 'easy', 'would', 'return', 'past', 'return']\n",
      "-\n",
      "['receive', 'month', 'idea', 'assistance', 'operate', 'smart', 'lightbulb', 'useful', 'answer_question', 'receive', 'everyday', 'weather', 'update', 'far', 'useful', 'half', 'sentence', 'awake', 'device', 'demand', 'inquiry', 'control', 'tell', 'play', 'essentially', 'ignore', 'frequently', 'unable', 'answer_question', 'run', 'rather', 'make_life', 'easily', 'would', 'refund', 'past', 'refund']\n",
      "--------------------------\n",
      "['slow']\n",
      "-\n",
      "['sluggish']\n",
      "--------------------------\n",
      "['differ', 'excite', 'try', 'new', 'unfortunately', 'even_though', 'foot', 'away', 'router', 'get', 'think', 'little', 'device', 'suppose', 'take', 'issue']\n",
      "-\n",
      "['differ', 'excite', 'attempt', 'new', 'unfortunately', 'even_though', 'foot', 'away', 'router', 'receive', 'imagine', 'small', 'device', 'think', 'bring', 'issue']\n",
      "--------------------------\n",
      "['get', 'excite', 'device', 'good', 'sound', 'control', 'hue', 'not_realize', 'also', 'communicate', 'not_use', 'hue', 'bulb', 'full', 'potential', 'device', 'turn', 'light', 'set', 'number', 'color', 'also', 'bulb', 'new', 'security', 'concern', 'sell', 'want', 'full', 'new', 'device', 'end', 'need', 'update', 'make', 'device', 'pointless', 'still', 'love', 'complaint', 'functionality', 'sound_quality', 'device', 'disappointed', 'functionality']\n",
      "-\n",
      "['receive', 'excite', 'device', 'well', 'audio', 'operate', 'hue', 'not_realize', 'also', 'pass', 'not_use', 'hue', 'lightbulb', 'wide', 'potential', 'device', 'play', 'lighting', 'adjust', 'amount', 'color', 'also', 'lightbulb', 'new', 'security', 'worry', 'trade', 'need', 'wide', 'new', 'device', 'end', 'want', 'update', 'ready', 'device', 'pointless', 'yet', 'enjoy', 'complaint', 'functionality', 'sound_quality', 'device', 'disappoint', 'functionality']\n",
      "--------------------------\n",
      "['get', 'try', 'screen']\n",
      "-\n",
      "['receive', 'attempt', 'screen']\n",
      "--------------------------\n",
      "['purchase', 'plus', 'build', 'come', 'free', 'hue', 'bulb', 'get', 'everything', 'set', 'realize', 'plus', 'forbid', 'full', 'functionality', 'bulb', 'turn', 'light', 'stay', 'color', 'still', 'hue', 'bridge', 'full', 'function', 'feature', 'bulb', 'wish', 'buy', 'bulb', 'bridge', 'use', 'already', 'since', 'build', 'useless', 'buy', 'hue', 'bridge', 'get', 'full', 'light']\n",
      "-\n",
      "['buy', 'plus', 'build', 'arrive', 'free', 'hue', 'lightbulb', 'receive', 'everything', 'adjust', 'see', 'plus', 'forbid', 'wide', 'functionality', 'lightbulb', 'play', 'lighting', 'stop', 'color', 'yet', 'hue', 'bridge', 'wide', 'purpose', 'feature', 'lightbulb', 'like', 'purchase', 'lightbulb', 'bridge', 'utilize', 'already', 'since', 'build', 'useless', 'purchase', 'hue', 'bridge', 'receive', 'wide', 'lighting']\n",
      "--------------------------\n",
      "['terrible', 'stop', 'work', 'one', 'day']\n",
      "-\n",
      "['awful', 'quit', 'run', 'one', 'day']\n",
      "--------------------------\n",
      "['old', 'keep', 'crash', 'use', 'buy', 'one', 'think', 'old', 'one', 'defective', 'one', 'thing', 'back', 'start', 'leave', 'program']\n",
      "-\n",
      "['previous', 'prevent', 'crash', 'utilize', 'purchase', 'one', 'imagine', 'previous', 'one', 'faulty', 'one', 'thing', 'back', 'begin', 'forget', 'program']\n",
      "--------------------------\n",
      "['unbend', 'thing', 'try', 'screen', 'scroll', 'big', 'device', 'send_back', 'really', 'want', 'get', 'enough', 'already']\n",
      "-\n",
      "['unbend', 'thing', 'attempt', 'screen', 'scroll', 'large', 'device', 'send_back', 'truly', 'need', 'receive', 'enough', 'already']\n",
      "--------------------------\n",
      "['never', 'respond', 'speak', 'word', 'think', 'would', 'connect', 'use', 'like', 'intercom', 'differ', 'able']\n",
      "-\n",
      "['never', 'answer', 'talk', 'word', 'imagine', 'would', 'link', 'utilize', 'wish', 'intercom', 'differ', 'able']\n",
      "--------------------------\n",
      "['poor', 'quality', 'give', 'away']\n",
      "-\n",
      "['poor', 'quality', 'present', 'away']\n",
      "--------------------------\n",
      "['return', 'piece', 'garbage', 'soon', 'sure', 'small', 'customer', 'rarely', 'disappointed', 'purchase', 'home', 'automation', 'buy', 'plus', 'build', 'along', 'zigbee', 'light', 'switch', 'voice', 'control', 'even', 'work', 'often', 'nothing', 'could', 'differ', 'disappointed', 'product', 'zigbee', 'value', 'money', 'expect', 'product', 'need', 'look']\n",
      "-\n",
      "['refund', 'piece', 'garbage', 'shortly', 'sure', 'little', 'customer', 'seldom', 'disappoint', 'buy', 'house', 'automation', 'purchase', 'plus', 'build', 'along', 'zigbee', 'lighting', 'change', 'voice', 'operate', 'still', 'run', 'frequently', 'nothing', 'could', 'differ', 'disappoint', 'product', 'zigbee', 'value', 'money', 'anticipate', 'product', 'want', 'see']\n",
      "--------------------------\n",
      "['sound_quality', 'not_that', 'good', 'especially', 'price', 'pay', 'would', 'recommend', 'get', 'buy', 'good', 'speaker', 'instead', 'maybe', 'sonos', 'use']\n",
      "-\n",
      "['sound_quality', 'not_that', 'well', 'particularly', 'cost', 'give', 'would', 'recommend', 'receive', 'purchase', 'well', 'speaker', 'instead', 'perhaps', 'sonos', 'utilize']\n",
      "--------------------------\n",
      "['think', 'get', 'long', 'time', 'excite', 'hue', 'bulb', 'excite', 'end', 'spend', 'hour', 'attempt', 'add', 'bulb', 'plus', 'everything', 'try', 'end', 'try', 'set', 'watch', 'video', 'read', 'set', 'thing', 'expect', 'different', 'next', 'day', 'get', 'tech', 'support', 'hop', 'something', 'would', 'make', 'thing', 'work', 'also', 'problem', 'differ', 'error', 'well', 'tech', 'support', 'phone', 'still', 'idle', 'product', 'test', 'far', 'experience', 'smart', 'home', 'old', 'school', 'reason', 'give', 'two', 'send', 'different', 'plus', 'light_bulb', 'problem', 'not_the', 'bulb', 'item', 'purchase', 'another', 'bulb', 'still', 'could', 'device', 'next', 'attempt', 'defective', 'support', 'thought', 'maybe', 'explore', 'device', 'end', 'look', 'look', 'like', 'disbelieve', 'lose', 'video', 'show', 'problem', 'everything', 'look', 'simple', 'not_the', 'experience', 'review', 'spend', 'enough', 'time', 'already']\n",
      "-\n",
      "['imagine', 'receive', 'long', 'sentence', 'excite', 'hue', 'lightbulb', 'excite', 'end', 'spend', 'minute', 'try', 'bring', 'lightbulb', 'plus', 'everything', 'attempt', 'end', 'attempt', 'adjust', 'see', 'picture', 'understand', 'adjust', 'thing', 'anticipate', 'unlike', 'future', 'day', 'receive', 'tech', 'support', 'hop', 'something', 'would', 'ready', 'thing', 'run', 'also', 'trouble', 'differ', 'error', 'good', 'tech', 'support', 'call', 'yet', 'idle', 'product', 'test', 'far', 'experience', 'smart', 'house', 'previous', 'train', 'reason', 'present', 'two', 'ship', 'unlike', 'plus', 'light_bulb', 'trouble', 'not_the', 'lightbulb', 'item', 'buy', 'another', 'lightbulb', 'yet', 'could', 'device', 'future', 'try', 'faulty', 'support', 'think', 'perhaps', 'explore', 'device', 'end', 'see', 'see', 'wish', 'disbelieve', 'lose', 'picture', 'picture', 'trouble', 'everything', 'see', 'simple', 'not_the', 'experience', 'review', 'spend', 'enough', 'sentence', 'already']\n",
      "--------------------------\n",
      "['horrible', 'volume', 'phone', 'loud', 'device', 'one', 'not_the', 'case']\n",
      "-\n",
      "['horrible', 'loudness', 'call', 'loudly', 'device', 'one', 'not_the', 'case']\n",
      "--------------------------\n",
      "['come']\n",
      "-\n",
      "['arrive']\n",
      "--------------------------\n",
      "['sound', 'terrible', 'want', 'good', 'music', 'get']\n",
      "-\n",
      "['audio', 'awful', 'need', 'well', 'music', 'receive']\n",
      "--------------------------\n",
      "['speaker', 'pretty', 'terrible', 'home', 'good', 'product']\n",
      "-\n",
      "['speaker', 'fairly', 'awful', 'house', 'well', 'product']\n",
      "--------------------------\n",
      "['wish', 'battery', 'well', 'plug', 'item']\n",
      "-\n",
      "['like', 'battery', 'good', 'plug', 'item']\n",
      "--------------------------\n",
      "['idle', 'time']\n",
      "-\n",
      "['idle', 'sentence']\n",
      "--------------------------\n",
      "['smart', 'enough', 'make', 'work', 'send_back', 'cant', 'get', 'help', 'work', 'fine', 'want', 'big', 'speaker']\n",
      "-\n",
      "['smart', 'enough', 'ready', 'run', 'send_back', 'bank', 'receive', 'assistance', 'run', 'okay', 'need', 'large', 'speaker']\n",
      "--------------------------\n",
      "['ignore', 'customer', 'use', 'device', 'tool', 'screen', 'unbend', 'thing', 'try', 'people', 'turn', 'change', 'option', 'size', 'slightly', 'improve', 'audio', 'speaker', 'would', 'give', 'device', 'right', 'return', 'device', 'wife', 'say']\n",
      "-\n",
      "['ignore', 'customer', 'utilize', 'device', 'tool', 'screen', 'unbend', 'thing', 'attempt', 'people', 'play', 'switch', 'choice', 'size', 'slightly', 'improve', 'sound', 'speaker', 'would', 'present', 'device', 'right', 'refund', 'device', 'wife', 'tell']\n",
      "--------------------------\n",
      "['think', 'really', 'unmake', 'much', 'play_music', 'answer', 'stupid', 'question', 'finally', 'able', 'hook', 'thermostat', 'see', 'price', 'drop', 'like']\n",
      "-\n",
      "['imagine', 'truly', 'unmake', 'much', 'play_music', 'response', 'stupid', 'inquiry', 'eventually', 'able', 'addict', 'thermostat', 'visit', 'cost', 'drop', 'wish']\n",
      "--------------------------\n",
      "['buy', 'son', 'idle', 'return']\n",
      "-\n",
      "['purchase', 'son', 'idle', 'refund']\n",
      "--------------------------\n",
      "['first', 'one', 'work', 'get', 'next', 'one', 'voice', 'time', 'way', 'get', 'work', 'app', 'uncertain', 'way']\n",
      "-\n",
      "['start', 'one', 'run', 'receive', 'future', 'one', 'voice', 'sentence', 'way', 'receive', 'run', 'app', 'uncertain', 'way']\n",
      "--------------------------\n",
      "['make', 'receive', 'call', 'device', 'tell', 'need', 'ignore']\n",
      "-\n",
      "['ready', 'get', 'phone', 'device', 'say', 'want', 'ignore']\n",
      "--------------------------\n",
      "['quite', 'disappointed', 'product', 'clearly', 'half', 'time', 'ask', 'two', 'second', 'start', 'whole', 'thing', 'stop', 'couple', 'minute', 'ask', 'play_radio', 'also', 'many', 'time', 'get', 'ask', 'switch', 'light', 'item', 'also', 'name', 'clearly', 'still']\n",
      "-\n",
      "['quite', 'disappoint', 'product', 'clear', 'half', 'sentence', 'demand', 'two', 'minute', 'begin', 'totally', 'thing', 'quit', 'couple', 'second', 'demand', 'play_radio', 'also', 'many', 'sentence', 'receive', 'demand', 'change', 'lighting', 'item', 'also', 'call', 'clear', 'yet']\n",
      "--------------------------\n",
      "['unhappy', 'spot', 'reset', 'time', 'seem', 'slow', 'mode', 'top', 'hear', 'even', 'talk', 'support', 'still', 'lack', 'choose']\n",
      "-\n",
      "['unhappy', 'place', 'reset', 'sentence', 'seem', 'sluggish', 'mood', 'cover', 'listen', 'still', 'speak', 'support', 'yet', 'miss', 'select']\n",
      "--------------------------\n",
      "['load', 'keep', 'reboot', 'middle', 'show']\n",
      "-\n",
      "['load', 'prevent', 'reboot', 'eye', 'picture']\n",
      "--------------------------\n",
      "['device', 'show', 'seem', 'huge', 'potential', 'really', 'want', 'like', 'soon', 'find', 'quite', 'bit', 'disappointing', 'not_the', 'end', 'world', 'use', 'like', 'use', 'little', 'month', 'screen', 'start', 'screen', 'quick', 'look', 'make', 'understand', 'pointless', 'ask', 'replacement', 'people', 'device', 'replace', 'start', 'answer', 'quite', 'time', 'long', 'story', 'short', 'move', 'use', 'expensive', 'voice', 'activate', 'light', 'switch', 'hue', 'light', 'like']\n",
      "-\n",
      "['device', 'picture', 'seem', 'vast', 'potential', 'truly', 'need', 'wish', 'shortly', 'discover', 'quite', 'bit', 'disappointing', 'not_the', 'end', 'world', 'utilize', 'wish', 'utilize', 'small', 'month', 'screen', 'begin', 'screen', 'immediate', 'see', 'ready', 'interpret', 'pointless', 'demand', 'replacement', 'people', 'device', 'substitute', 'begin', 'response', 'quite', 'sentence', 'long', 'story', 'dead', 'movement', 'utilize', 'expensive', 'voice', 'trigger', 'lighting', 'change', 'hue', 'lighting', 'wish']\n",
      "--------------------------\n",
      "['not_it', 'end', 'help', 'replace']\n",
      "-\n",
      "['not_it', 'end', 'assistance', 'substitute']\n",
      "--------------------------\n",
      "['sound', 'terrible', 'play', 'must', 'upgrade', 'music', 'want', 'play', 'one', 'device', 'time']\n",
      "-\n",
      "['audio', 'awful', 'turn', 'must', 'upgrade', 'music', 'need', 'turn', 'one', 'device', 'sentence']\n",
      "--------------------------\n",
      "['need', 'able', 'connect', 'party', 'apps']\n",
      "-\n",
      "['want', 'able', 'link', 'party', 'apps']\n",
      "--------------------------\n",
      "['work', 'fine', 'get', 'thing', 'try', 'not_a', 'year', 'old', 'need', 'tell', 'thing', 'find', 'not_way', 'turn', 'except', 'turn', 'screen', 'lose', 'fix', 'back']\n",
      "-\n",
      "['run', 'okay', 'receive', 'thing', 'attempt', 'not_a', 'year', 'previous', 'want', 'say', 'thing', 'discover', 'not_way', 'play', 'except', 'play', 'screen', 'lose', 'repair', 'back']\n",
      "--------------------------\n"
     ]
    }
   ],
   "source": [
    "negative_reviews = []\n",
    "for rev, label in zip(X_train, Y_train):\n",
    "    if label == 0:\n",
    "        negative_reviews.append(rev)\n",
    "    \n",
    "generated_reviews = generate_samples(negative_reviews, int(len(negative_reviews)/2), w2v_pretrained)\n",
    "\n",
    "# run this only one time\n",
    "X_train.extend(generated_reviews)\n",
    "Y_train.extend([0 for x in generated_reviews])"
   ]
  },
  {
   "cell_type": "code",
   "execution_count": 12,
   "metadata": {},
   "outputs": [],
   "source": [
    "t = Tokenizer()\n",
    "t.fit_on_texts(X_train)\n",
    "X_train_encoded = t.texts_to_sequences(X_train)\n",
    "max_length = len(max(bigrams[cleaned_reviews], key = len))\n",
    "Xtrain = pad_sequences(X_train_encoded, maxlen=max_length, padding='post')"
   ]
  },
  {
   "cell_type": "code",
   "execution_count": 13,
   "metadata": {},
   "outputs": [],
   "source": [
    "X_test_encoded = t.texts_to_sequences(X_test)\n",
    "Xtest = pad_sequences(X_test_encoded, maxlen=max_length, padding='post')"
   ]
  },
  {
   "cell_type": "code",
   "execution_count": 14,
   "metadata": {},
   "outputs": [
    {
     "data": {
      "text/plain": [
       "701"
      ]
     },
     "execution_count": 14,
     "metadata": {},
     "output_type": "execute_result"
    }
   ],
   "source": [
    "vocab_size = len(t.word_index) + 1\n",
    "vocab_size"
   ]
  },
  {
   "cell_type": "code",
   "execution_count": 15,
   "metadata": {},
   "outputs": [],
   "source": [
    "from keras.utils import to_categorical\n",
    "Y_train_hot = to_categorical(Y_train)\n",
    "Y_test_hot = to_categorical(Y_test)"
   ]
  },
  {
   "cell_type": "code",
   "execution_count": 38,
   "metadata": {},
   "outputs": [
    {
     "name": "stdout",
     "output_type": "stream",
     "text": [
      "Model: \"sequential_2\"\n",
      "_________________________________________________________________\n",
      " Layer (type)                Output Shape              Param #   \n",
      "=================================================================\n",
      " embedding_2 (Embedding)     (None, 100, 100)          70100     \n",
      "                                                                 \n",
      " dropout_10 (Dropout)        (None, 100, 100)          0         \n",
      "                                                                 \n",
      " conv1d_2 (Conv1D)           (None, 91, 16)            16016     \n",
      "                                                                 \n",
      " max_pooling1d_2 (MaxPooling  (None, 45, 16)           0         \n",
      " 1D)                                                             \n",
      "                                                                 \n",
      " flatten_2 (Flatten)         (None, 720)               0         \n",
      "                                                                 \n",
      " dropout_11 (Dropout)        (None, 720)               0         \n",
      "                                                                 \n",
      " dense_8 (Dense)             (None, 100)               72100     \n",
      "                                                                 \n",
      " dropout_12 (Dropout)        (None, 100)               0         \n",
      "                                                                 \n",
      " dense_9 (Dense)             (None, 200)               20200     \n",
      "                                                                 \n",
      " dropout_13 (Dropout)        (None, 200)               0         \n",
      "                                                                 \n",
      " dense_10 (Dense)            (None, 100)               20100     \n",
      "                                                                 \n",
      " dropout_14 (Dropout)        (None, 100)               0         \n",
      "                                                                 \n",
      " dense_11 (Dense)            (None, 2)                 202       \n",
      "                                                                 \n",
      "=================================================================\n",
      "Total params: 198,718\n",
      "Trainable params: 198,718\n",
      "Non-trainable params: 0\n",
      "_________________________________________________________________\n",
      "None\n"
     ]
    }
   ],
   "source": [
    "from keras.callbacks import EarlyStopping\n",
    "\n",
    "# Define the early stopping criteria\n",
    "early_stopping = EarlyStopping(monitor='binary_accuracy', patience=25)\n",
    "\n",
    "model = Sequential()\n",
    "model.add(Embedding(vocab_size, 100, input_length=max_length, trainable = True))\n",
    "model.add(Dropout(0.2))\n",
    "model.add(Conv1D(filters=16, kernel_size=10, activation='relu'))\n",
    "model.add(MaxPooling1D())\n",
    "model.add(Flatten())\n",
    "model.add(Dropout(0.2))\n",
    "model.add(Dense(100, activation='relu'))\n",
    "model.add(Dropout(0.2))\n",
    "model.add(Dense(200, activation='relu'))\n",
    "model.add(Dropout(0.2))\n",
    "model.add(Dense(100, activation='relu'))\n",
    "model.add(Dropout(0.2))\n",
    "model.add(Dense(2, activation='sigmoid'))\n",
    "print(model.summary())"
   ]
  },
  {
   "cell_type": "code",
   "execution_count": 39,
   "metadata": {},
   "outputs": [
    {
     "name": "stdout",
     "output_type": "stream",
     "text": [
      "Epoch 1/100\n",
      "33/33 - 3s - loss: 0.6606 - binary_accuracy: 0.6238 - val_loss: 0.9939 - val_binary_accuracy: 0.0000e+00 - 3s/epoch - 105ms/step\n",
      "Epoch 2/100\n",
      "33/33 - 1s - loss: 0.6449 - binary_accuracy: 0.6423 - val_loss: 0.9911 - val_binary_accuracy: 0.0000e+00 - 589ms/epoch - 18ms/step\n",
      "Epoch 3/100\n",
      "33/33 - 1s - loss: 0.6124 - binary_accuracy: 0.6793 - val_loss: 0.7919 - val_binary_accuracy: 0.3684 - 598ms/epoch - 18ms/step\n",
      "Epoch 4/100\n",
      "33/33 - 1s - loss: 0.4678 - binary_accuracy: 0.8012 - val_loss: 0.3938 - val_binary_accuracy: 0.7193 - 661ms/epoch - 20ms/step\n",
      "Epoch 5/100\n",
      "33/33 - 1s - loss: 0.2267 - binary_accuracy: 0.9035 - val_loss: 0.2879 - val_binary_accuracy: 0.8772 - 602ms/epoch - 18ms/step\n",
      "Epoch 6/100\n",
      "33/33 - 1s - loss: 0.1343 - binary_accuracy: 0.9483 - val_loss: 0.2560 - val_binary_accuracy: 0.8772 - 583ms/epoch - 18ms/step\n",
      "Epoch 7/100\n",
      "33/33 - 1s - loss: 0.0532 - binary_accuracy: 0.9815 - val_loss: 0.2221 - val_binary_accuracy: 0.9035 - 586ms/epoch - 18ms/step\n",
      "Epoch 8/100\n",
      "33/33 - 1s - loss: 0.0330 - binary_accuracy: 0.9903 - val_loss: 0.4910 - val_binary_accuracy: 0.8421 - 577ms/epoch - 17ms/step\n",
      "Epoch 9/100\n",
      "33/33 - 1s - loss: 0.0235 - binary_accuracy: 0.9932 - val_loss: 0.2844 - val_binary_accuracy: 0.9123 - 580ms/epoch - 18ms/step\n",
      "Epoch 10/100\n",
      "33/33 - 1s - loss: 0.0163 - binary_accuracy: 0.9903 - val_loss: 0.2241 - val_binary_accuracy: 0.9298 - 583ms/epoch - 18ms/step\n",
      "Epoch 11/100\n",
      "33/33 - 1s - loss: 0.0144 - binary_accuracy: 0.9932 - val_loss: 0.1958 - val_binary_accuracy: 0.9649 - 574ms/epoch - 17ms/step\n",
      "Epoch 12/100\n",
      "33/33 - 1s - loss: 0.0187 - binary_accuracy: 0.9893 - val_loss: 0.4296 - val_binary_accuracy: 0.9123 - 575ms/epoch - 17ms/step\n",
      "Epoch 13/100\n",
      "33/33 - 1s - loss: 0.0184 - binary_accuracy: 0.9883 - val_loss: 0.4720 - val_binary_accuracy: 0.8947 - 579ms/epoch - 18ms/step\n",
      "Epoch 14/100\n",
      "33/33 - 1s - loss: 0.0119 - binary_accuracy: 0.9942 - val_loss: 0.3755 - val_binary_accuracy: 0.9123 - 584ms/epoch - 18ms/step\n",
      "Epoch 15/100\n",
      "33/33 - 1s - loss: 0.0372 - binary_accuracy: 0.9805 - val_loss: 0.4823 - val_binary_accuracy: 0.8596 - 566ms/epoch - 17ms/step\n",
      "Epoch 16/100\n",
      "33/33 - 1s - loss: 0.0149 - binary_accuracy: 0.9922 - val_loss: 0.3769 - val_binary_accuracy: 0.9123 - 596ms/epoch - 18ms/step\n",
      "Epoch 17/100\n",
      "33/33 - 1s - loss: 0.0301 - binary_accuracy: 0.9922 - val_loss: 0.2023 - val_binary_accuracy: 0.9123 - 597ms/epoch - 18ms/step\n",
      "Epoch 18/100\n",
      "33/33 - 1s - loss: 0.0512 - binary_accuracy: 0.9903 - val_loss: 0.2529 - val_binary_accuracy: 0.9298 - 581ms/epoch - 18ms/step\n",
      "Epoch 19/100\n",
      "33/33 - 1s - loss: 0.0137 - binary_accuracy: 0.9942 - val_loss: 0.2091 - val_binary_accuracy: 0.9298 - 595ms/epoch - 18ms/step\n",
      "Epoch 20/100\n",
      "33/33 - 1s - loss: 0.0107 - binary_accuracy: 0.9942 - val_loss: 0.2213 - val_binary_accuracy: 0.9386 - 578ms/epoch - 18ms/step\n",
      "Epoch 21/100\n",
      "33/33 - 1s - loss: 0.0115 - binary_accuracy: 0.9932 - val_loss: 0.2557 - val_binary_accuracy: 0.9298 - 583ms/epoch - 18ms/step\n",
      "Epoch 22/100\n",
      "33/33 - 1s - loss: 0.0107 - binary_accuracy: 0.9922 - val_loss: 0.2956 - val_binary_accuracy: 0.9298 - 579ms/epoch - 18ms/step\n",
      "Epoch 23/100\n",
      "33/33 - 1s - loss: 0.0093 - binary_accuracy: 0.9951 - val_loss: 0.3074 - val_binary_accuracy: 0.9298 - 590ms/epoch - 18ms/step\n",
      "Epoch 24/100\n",
      "33/33 - 1s - loss: 0.0111 - binary_accuracy: 0.9942 - val_loss: 0.3051 - val_binary_accuracy: 0.9298 - 585ms/epoch - 18ms/step\n",
      "Epoch 25/100\n",
      "33/33 - 1s - loss: 0.0203 - binary_accuracy: 0.9893 - val_loss: 0.1455 - val_binary_accuracy: 0.9825 - 568ms/epoch - 17ms/step\n",
      "Epoch 26/100\n",
      "33/33 - 1s - loss: 0.0914 - binary_accuracy: 0.9825 - val_loss: 0.0755 - val_binary_accuracy: 0.9825 - 580ms/epoch - 18ms/step\n",
      "Epoch 27/100\n",
      "33/33 - 1s - loss: 0.0274 - binary_accuracy: 0.9825 - val_loss: 0.4302 - val_binary_accuracy: 0.8596 - 591ms/epoch - 18ms/step\n",
      "Epoch 28/100\n",
      "33/33 - 1s - loss: 0.0119 - binary_accuracy: 0.9942 - val_loss: 0.4692 - val_binary_accuracy: 0.8509 - 579ms/epoch - 18ms/step\n",
      "Epoch 29/100\n",
      "33/33 - 1s - loss: 0.0293 - binary_accuracy: 0.9864 - val_loss: 0.7583 - val_binary_accuracy: 0.8158 - 580ms/epoch - 18ms/step\n",
      "Epoch 30/100\n",
      "33/33 - 1s - loss: 0.0420 - binary_accuracy: 0.9883 - val_loss: 0.8682 - val_binary_accuracy: 0.8070 - 672ms/epoch - 20ms/step\n",
      "Epoch 31/100\n",
      "33/33 - 1s - loss: 0.0240 - binary_accuracy: 0.9912 - val_loss: 0.4366 - val_binary_accuracy: 0.8509 - 593ms/epoch - 18ms/step\n",
      "Epoch 32/100\n",
      "33/33 - 1s - loss: 0.0126 - binary_accuracy: 0.9932 - val_loss: 0.3138 - val_binary_accuracy: 0.8947 - 574ms/epoch - 17ms/step\n",
      "Epoch 33/100\n",
      "33/33 - 1s - loss: 0.0169 - binary_accuracy: 0.9903 - val_loss: 0.6064 - val_binary_accuracy: 0.8772 - 572ms/epoch - 17ms/step\n",
      "Epoch 34/100\n",
      "33/33 - 1s - loss: 0.0139 - binary_accuracy: 0.9922 - val_loss: 0.6872 - val_binary_accuracy: 0.8421 - 554ms/epoch - 17ms/step\n",
      "Epoch 35/100\n",
      "33/33 - 1s - loss: 0.0117 - binary_accuracy: 0.9922 - val_loss: 0.5246 - val_binary_accuracy: 0.8772 - 554ms/epoch - 17ms/step\n",
      "Epoch 36/100\n",
      "33/33 - 1s - loss: 0.0330 - binary_accuracy: 0.9883 - val_loss: 0.3517 - val_binary_accuracy: 0.8947 - 552ms/epoch - 17ms/step\n",
      "Epoch 37/100\n",
      "33/33 - 1s - loss: 0.0113 - binary_accuracy: 0.9922 - val_loss: 0.3815 - val_binary_accuracy: 0.8947 - 556ms/epoch - 17ms/step\n",
      "Epoch 38/100\n",
      "33/33 - 1s - loss: 0.0153 - binary_accuracy: 0.9893 - val_loss: 0.3749 - val_binary_accuracy: 0.8772 - 553ms/epoch - 17ms/step\n",
      "Epoch 39/100\n",
      "33/33 - 1s - loss: 0.0112 - binary_accuracy: 0.9922 - val_loss: 0.3947 - val_binary_accuracy: 0.8772 - 545ms/epoch - 17ms/step\n",
      "Epoch 40/100\n",
      "33/33 - 1s - loss: 0.0101 - binary_accuracy: 0.9922 - val_loss: 0.4569 - val_binary_accuracy: 0.8772 - 557ms/epoch - 17ms/step\n",
      "Epoch 41/100\n",
      "33/33 - 1s - loss: 0.0106 - binary_accuracy: 0.9942 - val_loss: 0.4642 - val_binary_accuracy: 0.8772 - 559ms/epoch - 17ms/step\n",
      "Epoch 42/100\n",
      "33/33 - 1s - loss: 0.0104 - binary_accuracy: 0.9942 - val_loss: 0.5387 - val_binary_accuracy: 0.8772 - 574ms/epoch - 17ms/step\n",
      "Epoch 43/100\n",
      "33/33 - 1s - loss: 0.0111 - binary_accuracy: 0.9942 - val_loss: 0.3757 - val_binary_accuracy: 0.9123 - 570ms/epoch - 17ms/step\n",
      "Epoch 44/100\n",
      "33/33 - 1s - loss: 0.0275 - binary_accuracy: 0.9883 - val_loss: 0.6570 - val_binary_accuracy: 0.8421 - 584ms/epoch - 18ms/step\n",
      "Epoch 45/100\n",
      "33/33 - 1s - loss: 0.0131 - binary_accuracy: 0.9912 - val_loss: 0.4122 - val_binary_accuracy: 0.9298 - 574ms/epoch - 17ms/step\n",
      "Epoch 46/100\n",
      "33/33 - 1s - loss: 0.0108 - binary_accuracy: 0.9942 - val_loss: 0.4761 - val_binary_accuracy: 0.8947 - 569ms/epoch - 17ms/step\n",
      "Epoch 47/100\n",
      "33/33 - 1s - loss: 0.0092 - binary_accuracy: 0.9951 - val_loss: 0.4851 - val_binary_accuracy: 0.8947 - 572ms/epoch - 17ms/step\n",
      "Epoch 48/100\n",
      "33/33 - 1s - loss: 0.0102 - binary_accuracy: 0.9932 - val_loss: 0.5323 - val_binary_accuracy: 0.8947 - 579ms/epoch - 18ms/step\n"
     ]
    },
    {
     "data": {
      "text/plain": [
       "<keras.callbacks.History at 0x226baf4a350>"
      ]
     },
     "execution_count": 39,
     "metadata": {},
     "output_type": "execute_result"
    }
   ],
   "source": [
    "# compile network\n",
    "model.compile(loss='binary_crossentropy', optimizer='adam', metrics=['binary_accuracy'])\n",
    "# fit network\n",
    "model.fit(Xtrain, Y_train_hot, epochs=100, verbose=2, validation_split=0.1, callbacks = [early_stopping], batch_size=16)"
   ]
  },
  {
   "cell_type": "code",
   "execution_count": 40,
   "metadata": {},
   "outputs": [
    {
     "name": "stdout",
     "output_type": "stream",
     "text": [
      "4/4 [==============================] - 0s 5ms/step\n"
     ]
    }
   ],
   "source": [
    "predictions = model.predict(Xtest)"
   ]
  },
  {
   "cell_type": "code",
   "execution_count": 41,
   "metadata": {},
   "outputs": [],
   "source": [
    "predictions = np.round(predictions)"
   ]
  },
  {
   "cell_type": "code",
   "execution_count": 32,
   "metadata": {},
   "outputs": [
    {
     "name": "stdout",
     "output_type": "stream",
     "text": [
      "              precision    recall  f1-score   support\n",
      "\n",
      "           0       0.74      0.71      0.72        41\n",
      "           1       0.86      0.88      0.87        83\n",
      "\n",
      "   micro avg       0.82      0.82      0.82       124\n",
      "   macro avg       0.80      0.79      0.80       124\n",
      "weighted avg       0.82      0.82      0.82       124\n",
      " samples avg       0.82      0.82      0.82       124\n",
      "\n"
     ]
    }
   ],
   "source": [
    "from sklearn.metrics import classification_report\n",
    "print(classification_report(Y_test_hot, predictions))"
   ]
  },
  {
   "cell_type": "code",
   "execution_count": 33,
   "metadata": {},
   "outputs": [
    {
     "name": "stdout",
     "output_type": "stream",
     "text": [
      "4.2.0\n"
     ]
    }
   ],
   "source": [
    "import gensim\n",
    "print(gensim.__version__)"
   ]
  }
 ],
 "metadata": {
  "kernelspec": {
   "display_name": "Python 3",
   "language": "python",
   "name": "python3"
  },
  "language_info": {
   "codemirror_mode": {
    "name": "ipython",
    "version": 3
   },
   "file_extension": ".py",
   "mimetype": "text/x-python",
   "name": "python",
   "nbconvert_exporter": "python",
   "pygments_lexer": "ipython3",
   "version": "3.10.6"
  },
  "orig_nbformat": 4,
  "vscode": {
   "interpreter": {
    "hash": "43973268aa23c7cf4b4cafe0e819fac9b2412fcc991a21988492c3271a4e3f9b"
   }
  }
 },
 "nbformat": 4,
 "nbformat_minor": 2
}
